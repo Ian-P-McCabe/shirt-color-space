{
 "cells": [
  {
   "cell_type": "code",
   "execution_count": 1,
   "metadata": {
    "collapsed": true,
    "ExecuteTime": {
     "end_time": "2024-12-23T21:54:18.118223Z",
     "start_time": "2024-12-23T21:54:13.411743Z"
    }
   },
   "outputs": [],
   "source": [
    "import numpy as np\n",
    "import pandas as pd\n",
    "import numpy\n",
    "import matplotlib.pyplot as plt\n",
    "\n",
    "#Fix colormath depreciated numpy method\n",
    "def patch_asscalar(a):\n",
    "    return a.item()\n",
    "setattr(numpy, \"asscalar\", patch_asscalar)\n",
    "\n",
    "#Import data\n",
    "all_colors = pd.read_csv(\"data/all-colors.csv\")\n",
    "chosen_colors = pd.read_csv(\"data/chosen-colors.csv\")\n",
    "\n",
    "#Remove chosen colors\n",
    "condition = all_colors[\"Shirt Color Name\"].isin(chosen_colors[\"Shirt Color\"])\n",
    "remaining_colors = all_colors.drop(all_colors[condition].index, inplace=False)\n",
    "\n",
    "#Confirm removal\n",
    "# print(len(remaining_colors))\n",
    "# print(len(all_colors))\n",
    "# print(len(chosen_colors))"
   ]
  },
  {
   "cell_type": "code",
   "execution_count": 2,
   "outputs": [],
   "source": [
    "import colormath.color_objects as co\n",
    "import colormath.color_diff as cdiff\n",
    "\n",
    "def compute_average_distance(row):\n",
    "    color_Lab = None\n",
    "\n",
    "    color_Lab = co.LabColor(*map(float, row[\"L*a*b Value\"].split(\", \")))\n",
    "\n",
    "    distances = []\n",
    "\n",
    "    #Compute all distances from chosen colors\n",
    "    for index, row_remaining in chosen_colors.iterrows():\n",
    "        other_color = co.LabColor(*map(float, row_remaining[\"L*a*b Value\"].split(\", \")))\n",
    "\n",
    "        #Newer, asymmetric formula, weighted for fabrics, using\n",
    "        #distance = cdiff.delta_e_cmc(other_color, color_Lab , pl=2, pc=1)\n",
    "\n",
    "        #Older symmetric formula, weighted for fabrics\n",
    "        distance = cdiff.delta_e_cie2000(color_Lab, other_color,Kl=2, Kc=1, Kh=1)\n",
    "\n",
    "        distances += [distance]\n",
    "\n",
    "    average_distance = sum(distances)/len(remaining_colors)\n",
    "\n",
    "    row[\"Distance\"] = average_distance\n",
    "    return row\n",
    "\n",
    "remaining_colors = remaining_colors.apply(compute_average_distance, axis=1)"
   ],
   "metadata": {
    "collapsed": false,
    "ExecuteTime": {
     "end_time": "2024-12-23T21:54:18.473757Z",
     "start_time": "2024-12-23T21:54:18.122577Z"
    }
   }
  },
  {
   "cell_type": "code",
   "execution_count": 3,
   "outputs": [
    {
     "data": {
      "text/plain": "      Shirt Color Name PMS Color Code            L*a*b Value     Hex  Distance\n47                Teal          3262C  66.44, -59.33, -12.05  00BFB2  7.545582\n73       Heather Kelly          340 C   51.80, -65.36, 14.55  00965E  7.436395\n50           Turquoise           638C  63.99, -33.79, -34.95  00AFD7  7.312165\n24        Maize Yellow         7548CP     83.14, 5.01, 85.02  F2CA00  7.287751\n104     Heather Yellow         100 CP    92.09, -6.83, 62.42  F6EB69  7.094500\n96   Heather Sea Green         2398 C  66.81, -46.18, -10.83  00BAB3  6.989276\n37               Poppy          2347C    49.45, 75.12, 67.21  E10600  6.858418\n20               Kelly           341C    43.23, -48.36, 9.96  007A53  6.852545\n83      Heather Orange         1645 C    65.69, 58.38, 58.65  FF6A39  6.630476\n34              Orange          1645C    65.69, 58.38, 58.65  FF6A39  6.630476",
      "text/html": "<div>\n<style scoped>\n    .dataframe tbody tr th:only-of-type {\n        vertical-align: middle;\n    }\n\n    .dataframe tbody tr th {\n        vertical-align: top;\n    }\n\n    .dataframe thead th {\n        text-align: right;\n    }\n</style>\n<table border=\"1\" class=\"dataframe\">\n  <thead>\n    <tr style=\"text-align: right;\">\n      <th></th>\n      <th>Shirt Color Name</th>\n      <th>PMS Color Code</th>\n      <th>L*a*b Value</th>\n      <th>Hex</th>\n      <th>Distance</th>\n    </tr>\n  </thead>\n  <tbody>\n    <tr>\n      <th>47</th>\n      <td>Teal</td>\n      <td>3262C</td>\n      <td>66.44, -59.33, -12.05</td>\n      <td>00BFB2</td>\n      <td>7.545582</td>\n    </tr>\n    <tr>\n      <th>73</th>\n      <td>Heather Kelly</td>\n      <td>340 C</td>\n      <td>51.80, -65.36, 14.55</td>\n      <td>00965E</td>\n      <td>7.436395</td>\n    </tr>\n    <tr>\n      <th>50</th>\n      <td>Turquoise</td>\n      <td>638C</td>\n      <td>63.99, -33.79, -34.95</td>\n      <td>00AFD7</td>\n      <td>7.312165</td>\n    </tr>\n    <tr>\n      <th>24</th>\n      <td>Maize Yellow</td>\n      <td>7548CP</td>\n      <td>83.14, 5.01, 85.02</td>\n      <td>F2CA00</td>\n      <td>7.287751</td>\n    </tr>\n    <tr>\n      <th>104</th>\n      <td>Heather Yellow</td>\n      <td>100 CP</td>\n      <td>92.09, -6.83, 62.42</td>\n      <td>F6EB69</td>\n      <td>7.094500</td>\n    </tr>\n    <tr>\n      <th>96</th>\n      <td>Heather Sea Green</td>\n      <td>2398 C</td>\n      <td>66.81, -46.18, -10.83</td>\n      <td>00BAB3</td>\n      <td>6.989276</td>\n    </tr>\n    <tr>\n      <th>37</th>\n      <td>Poppy</td>\n      <td>2347C</td>\n      <td>49.45, 75.12, 67.21</td>\n      <td>E10600</td>\n      <td>6.858418</td>\n    </tr>\n    <tr>\n      <th>20</th>\n      <td>Kelly</td>\n      <td>341C</td>\n      <td>43.23, -48.36, 9.96</td>\n      <td>007A53</td>\n      <td>6.852545</td>\n    </tr>\n    <tr>\n      <th>83</th>\n      <td>Heather Orange</td>\n      <td>1645 C</td>\n      <td>65.69, 58.38, 58.65</td>\n      <td>FF6A39</td>\n      <td>6.630476</td>\n    </tr>\n    <tr>\n      <th>34</th>\n      <td>Orange</td>\n      <td>1645C</td>\n      <td>65.69, 58.38, 58.65</td>\n      <td>FF6A39</td>\n      <td>6.630476</td>\n    </tr>\n  </tbody>\n</table>\n</div>"
     },
     "execution_count": 3,
     "metadata": {},
     "output_type": "execute_result"
    }
   ],
   "source": [
    "sorted_remaining = remaining_colors.sort_values(by = \"Distance\", ascending=False)\n",
    "sorted_remaining.iloc[:].head(10)"
   ],
   "metadata": {
    "collapsed": false,
    "ExecuteTime": {
     "end_time": "2024-12-23T21:54:18.488172Z",
     "start_time": "2024-12-23T21:54:18.479091Z"
    }
   }
  },
  {
   "cell_type": "code",
   "execution_count": 4,
   "outputs": [
    {
     "data": {
      "text/plain": "'[{\"Shirt Color\":\"Heather Ice Blue\",\"Pantone Color\":\"317 CP\",\"L*a*b Value\":\"85.65, -11.38, -2.20\",\"HEX\":\"BDDDD9\"},{\"Shirt Color\":\"Berry\",\"Pantone Color\":\"233 CP\",\"L*a*b Value\":\"45.38, 71.84, -7.30\",\"HEX\":\"C6057B\"},{\"Shirt Color\":\"Oxblood Black\",\"Pantone Color\":\"7449 CP\",\"L*a*b Value\":\"28.13, 16.23, -6.49\",\"HEX\":\"55394D\"},{\"Shirt Color\":\"White\",\"Pantone Color\":\"White C\",\"L*a*b Value\":\"100, 0, 0\",\"HEX\":\"FFFFFF\"},{\"Shirt Color\":\"Ash\",\"Pantone Color\":\"428 CP\",\"L*a*b Value\":\"78.50, -2.14, -0.31\",\"HEX\":\"BDC4C2\"},{\"Shirt Color\":\"Gold\",\"Pantone Color\":\"137 C\",\"L*a*b Value\":\"76.47, 31.14, 81.64\",\"HEX\":\"FFA400\"},{\"Shirt Color\":\"Yellow\",\"Pantone Color\":\"100 CP\",\"L*a*b Value\":\"92.09, -6.83, 62.42\",\"HEX\":\"F6EB69\"},{\"Shirt Color\":\"Deep Teal\",\"Pantone Color\":\"3025 CP\",\"L*a*b Value\":\"32.45, -23.19, -27.24\",\"HEX\":\"005876\"},{\"Shirt Color\":\"Heather Maroon\",\"Pantone Color\":\"7644 CP\",\"L*a*b Value\":\"27.76, 25.21, -2.86\",\"HEX\":\"603147\"},{\"Shirt Color\":\"Evergreen\",\"Pantone Color\":\"343 C\",\"L*a*b Value\":\"31.90, -26.89, 6.33\",\"HEX\":\"115740\"},{\"Shirt Color\":\"Red\",\"Pantone Color\":\"200 C\",\"L*a*b Value\":\"41.43, 65.63, 34.16\",\"HEX\":\"BA0C2F\"},{\"Shirt Color\":\"Leaf\",\"Pantone Color\":\"2263 CP\",\"L*a*b Value\":\"57.33, -18.14, 19.97\",\"HEX\":\"729364\"},{\"Shirt Color\":\"Pink\",\"Pantone Color\":\"705 C\",\"L*a*b Value\":\"89.66, 10.65, 1.15\",\"HEX\":\"F5DADF\"},{\"Shirt Color\":\"Heather True Royal\",\"Pantone Color\":\"286 CP\",\"L*a*b Value\":\"30.46, 7.90, -44.70\",\"HEX\":\"24468E\"},{\"Shirt Color\":\"Heather Team Purple\",\"Pantone Color\":\"2665 C\",\"L*a*b Value\":\"45.45, 34.51, -52.90\",\"HEX\":\"7D55C7\"},{\"Shirt Color\":\"Solid Black Blend\",\"Pantone Color\":\"Black C\",\"L*a*b Value\":\"0, 0, 0\",\"HEX\":\"000000\"}]'"
     },
     "execution_count": 4,
     "metadata": {},
     "output_type": "execute_result"
    }
   ],
   "source": [
    "chosen_colors.to_json(orient=\"records\")"
   ],
   "metadata": {
    "collapsed": false,
    "ExecuteTime": {
     "end_time": "2024-12-23T21:54:18.494520Z",
     "start_time": "2024-12-23T21:54:18.491078Z"
    }
   }
  },
  {
   "cell_type": "code",
   "execution_count": 5,
   "outputs": [
    {
     "name": "stdout",
     "output_type": "stream",
     "text": [
      "    Gold    Orange    Burnt Orange\n",
      "[0.0, 24.24013342020266, 17.480586695643115]\n",
      "[26.402279861193914, 0.0, 9.887678740145626]\n",
      "[22.286845806880518, 11.611165190695397, 0.0]\n"
     ]
    }
   ],
   "source": [
    "#Orange to Gold\n",
    "\n",
    "orange = all_colors[all_colors[\"Shirt Color Name\"] == \"Orange\"]\n",
    "gold = all_colors[all_colors[\"Shirt Color Name\"] == \"Gold\"]\n",
    "burnt_orange = all_colors[all_colors[\"Shirt Color Name\"] == \"Burnt Orange\"]\n",
    "\n",
    "comparison_list = [gold, orange, burnt_orange]\n",
    "\n",
    "comparison_matrix = [[0]*3 for i in range(3)]\n",
    "\n",
    "for i in range(len(comparison_list)):\n",
    "    for j in range(len(comparison_matrix)):\n",
    "        #I really should just fix the tables\n",
    "        target_color = co.LabColor(*map(float,comparison_list[i].iloc[0][\"L*a*b Value\"].split(\", \")))\n",
    "        comparison_color = co.LabColor(*map(float,comparison_list[j].iloc[0][\"L*a*b Value\"].split(\", \")))\n",
    "\n",
    "        #Newer formula\n",
    "        distance = cdiff.delta_e_cmc(target_color, comparison_color, pl=2, pc=1)\n",
    "\n",
    "        comparison_matrix[i][j] = distance\n",
    "\n",
    "print(\"    Gold    Orange    Burnt Orange\")\n",
    "for row in comparison_matrix:\n",
    "    print(row)"
   ],
   "metadata": {
    "collapsed": false,
    "ExecuteTime": {
     "end_time": "2024-12-23T21:54:18.567849Z",
     "start_time": "2024-12-23T21:54:18.503939Z"
    }
   }
  },
  {
   "cell_type": "code",
   "execution_count": 18,
   "outputs": [
    {
     "name": "stdout",
     "output_type": "stream",
     "text": [
      "[0.0, 30.424428518806256, 39.820442187682616, 13.139849641797058, 9.861525472765411, 37.17207450674439, 29.531588108080946, 28.06010910891849, 41.661806301274, 26.482537194432258, 46.809672059173906, 18.284646673736457, 28.836770533128508, 34.503806731128996, 31.4770454304642, 41.150185006319695]\n",
      "[30.42442851880625, 0.0, 20.18846670568939, 34.44222786730989, 20.736301709761626, 51.62924244963271, 64.82675026612675, 63.787287385502516, 16.42882784859399, 63.97498572388569, 18.85083864220356, 58.93470453956385, 28.004707554845396, 39.070684776673666, 25.879431579656593, 32.06532304123741]\n",
      "[39.820442187682616, 20.18846670568939, 0.0, 33.92846017952043, 30.876864112568178, 45.47035893419028, 51.09746120884817, 44.11054573392831, 5.941927401896447, 37.96186025669787, 25.04815126201635, 42.01271781398227, 28.278047627146215, 25.318982666824898, 21.989242434439994, 18.437280324959687]\n",
      "[13.139849641797058, 34.44222786730989, 33.92846017952043, 0.0, 7.419069844065856, 30.40436360741453, 26.13547359341171, 34.775507154541614, 36.242918662947396, 34.63330060323716, 35.811458900559565, 24.121844814994116, 12.161525057778128, 36.34712971900034, 33.24946365833815, 50.0]\n",
      "[9.861525472765411, 20.736301709761623, 30.876864112568178, 7.419069844065856, 0.0, 31.087547978512855, 26.966474132246415, 29.341616857655392, 31.89576212024992, 28.748881510935647, 35.49022661775425, 19.266442886888957, 16.154059225586618, 32.173799002171094, 28.378856676205874, 34.295742974812406]\n",
      "[37.172074506744394, 51.62924244963269, 45.47035893419028, 30.40436360741453, 31.087547978512852, 0.0, 22.29498949132717, 54.64283689104295, 45.60141844703296, 47.37915828282342, 35.5167165123126, 36.37643585349404, 31.993530334852096, 56.507514936580954, 57.70389625101929, 44.10732420825652]\n",
      "[29.531588108080953, 64.82675026612675, 51.097461208848166, 26.13547359341171, 26.966474132246418, 22.294989491327108, 0.0, 52.99964840577936, 53.08390197260072, 38.141922299936525, 51.66803172763108, 23.239461393579905, 33.57550888683452, 60.96659437971232, 66.78142705120429, 51.38480243137578]\n",
      "[28.060109108918486, 63.78728738550249, 44.11054573392832, 34.775507154541614, 29.341616857655392, 54.642836891042954, 52.99964840577936, 0.0, 49.94996879399066, 22.318586328072655, 64.86848401919565, 34.13819671377057, 49.4017046140116, 18.30350707826998, 29.3380678237407, 24.033531973663543]\n",
      "[41.66180630127399, 16.428827848593986, 5.94192740189645, 36.242918662947396, 31.89576212024992, 45.60141844703296, 53.083901972600714, 49.94996879399066, 0.0, 46.713237651846086, 21.107865839586577, 44.79031109350194, 29.386130131853317, 29.074039960119595, 23.899057605660033, 22.050936988677176]\n",
      "[26.482537194432258, 63.97498572388569, 37.961860256697875, 34.63330060323716, 28.748881510935647, 47.37915828282342, 38.141922299936525, 22.318586328072662, 46.713237651846086, 0.0, 57.69628982856126, 15.865275465691491, 45.40759685291968, 33.363167025135205, 38.82542795111607, 23.35992341842739]\n",
      "[46.809672059173906, 18.85083864220358, 25.04815126201636, 35.811458900559565, 35.49022661775425, 35.51671651231257, 51.668031727631096, 64.86848401919566, 21.10786583958659, 57.69628982856126, 0.0, 51.91325459507503, 30.061210417263496, 43.356767511330254, 37.06048227074565, 31.408621090566758]\n",
      "[18.28464667373645, 58.93470453956385, 42.01271781398227, 24.121844814994116, 19.266442886888957, 36.37643585349405, 23.23946139357991, 34.138196713770576, 44.79031109350194, 15.865275465691477, 51.913254595075045, 0.0, 35.68101683371168, 43.98116710135615, 44.60042053159724, 28.88108946793405]\n",
      "[28.836770533128515, 28.004707554845396, 28.27804762714622, 12.161525057778128, 16.154059225586618, 31.993530334852103, 33.57550888683453, 49.40170461401158, 29.386130131853317, 45.40759685291968, 30.06121041726349, 35.681016833711695, 0.0, 36.8156011588078, 30.6594475251302, 43.94905749556138]\n",
      "[34.503806731128996, 39.07068477667371, 25.318982666824898, 36.34712971900034, 32.173799002171094, 56.50751493658094, 60.96659437971232, 18.30350707826995, 29.074039960119606, 33.363167025135205, 43.35676751133025, 43.98116710135616, 36.8156011588078, 0.0, 15.336031185707512, 24.668717327492203]\n",
      "[31.4770454304642, 25.879431579656583, 21.989242434440005, 33.24946365833815, 28.378856676205874, 57.70389625101928, 66.78142705120429, 29.33806782374065, 23.899057605660044, 38.82542795111607, 37.06048227074565, 44.60042053159724, 30.6594475251302, 15.336031185707505, 0.0, 30.81976022500959]\n",
      "[41.150185006319695, 32.06532304123741, 18.437280324959687, 50.0, 34.295742974812406, 44.10732420825652, 51.38480243137578, 24.033531973663543, 22.050936988677176, 23.35992341842739, 31.408621090566758, 28.88108946793405, 43.94905749556138, 24.668717327492203, 30.81976022500959, 0.0]\n"
     ]
    },
    {
     "data": {
      "text/plain": "'[[0.0, 30.424428518806256, 39.820442187682616, 13.139849641797058, 9.861525472765411, 37.17207450674439, 29.531588108080946, 28.06010910891849, 41.661806301274, 26.482537194432258, 46.809672059173906, 18.284646673736457, 28.836770533128508, 34.503806731128996, 31.4770454304642, 41.150185006319695], [30.42442851880625, 0.0, 20.18846670568939, 34.44222786730989, 20.736301709761626, 51.62924244963271, 64.82675026612675, 63.787287385502516, 16.42882784859399, 63.97498572388569, 18.85083864220356, 58.93470453956385, 28.004707554845396, 39.070684776673666, 25.879431579656593, 32.06532304123741], [39.820442187682616, 20.18846670568939, 0.0, 33.92846017952043, 30.876864112568178, 45.47035893419028, 51.09746120884817, 44.11054573392831, 5.941927401896447, 37.96186025669787, 25.04815126201635, 42.01271781398227, 28.278047627146215, 25.318982666824898, 21.989242434439994, 18.437280324959687], [13.139849641797058, 34.44222786730989, 33.92846017952043, 0.0, 7.419069844065856, 30.40436360741453, 26.13547359341171, 34.775507154541614, 36.242918662947396, 34.63330060323716, 35.811458900559565, 24.121844814994116, 12.161525057778128, 36.34712971900034, 33.24946365833815, 50.0], [9.861525472765411, 20.736301709761623, 30.876864112568178, 7.419069844065856, 0.0, 31.087547978512855, 26.966474132246415, 29.341616857655392, 31.89576212024992, 28.748881510935647, 35.49022661775425, 19.266442886888957, 16.154059225586618, 32.173799002171094, 28.378856676205874, 34.295742974812406], [37.172074506744394, 51.62924244963269, 45.47035893419028, 30.40436360741453, 31.087547978512852, 0.0, 22.29498949132717, 54.64283689104295, 45.60141844703296, 47.37915828282342, 35.5167165123126, 36.37643585349404, 31.993530334852096, 56.507514936580954, 57.70389625101929, 44.10732420825652], [29.531588108080953, 64.82675026612675, 51.097461208848166, 26.13547359341171, 26.966474132246418, 22.294989491327108, 0.0, 52.99964840577936, 53.08390197260072, 38.141922299936525, 51.66803172763108, 23.239461393579905, 33.57550888683452, 60.96659437971232, 66.78142705120429, 51.38480243137578], [28.060109108918486, 63.78728738550249, 44.11054573392832, 34.775507154541614, 29.341616857655392, 54.642836891042954, 52.99964840577936, 0.0, 49.94996879399066, 22.318586328072655, 64.86848401919565, 34.13819671377057, 49.4017046140116, 18.30350707826998, 29.3380678237407, 24.033531973663543], [41.66180630127399, 16.428827848593986, 5.94192740189645, 36.242918662947396, 31.89576212024992, 45.60141844703296, 53.083901972600714, 49.94996879399066, 0.0, 46.713237651846086, 21.107865839586577, 44.79031109350194, 29.386130131853317, 29.074039960119595, 23.899057605660033, 22.050936988677176], [26.482537194432258, 63.97498572388569, 37.961860256697875, 34.63330060323716, 28.748881510935647, 47.37915828282342, 38.141922299936525, 22.318586328072662, 46.713237651846086, 0.0, 57.69628982856126, 15.865275465691491, 45.40759685291968, 33.363167025135205, 38.82542795111607, 23.35992341842739], [46.809672059173906, 18.85083864220358, 25.04815126201636, 35.811458900559565, 35.49022661775425, 35.51671651231257, 51.668031727631096, 64.86848401919566, 21.10786583958659, 57.69628982856126, 0.0, 51.91325459507503, 30.061210417263496, 43.356767511330254, 37.06048227074565, 31.408621090566758], [18.28464667373645, 58.93470453956385, 42.01271781398227, 24.121844814994116, 19.266442886888957, 36.37643585349405, 23.23946139357991, 34.138196713770576, 44.79031109350194, 15.865275465691477, 51.913254595075045, 0.0, 35.68101683371168, 43.98116710135615, 44.60042053159724, 28.88108946793405], [28.836770533128515, 28.004707554845396, 28.27804762714622, 12.161525057778128, 16.154059225586618, 31.993530334852103, 33.57550888683453, 49.40170461401158, 29.386130131853317, 45.40759685291968, 30.06121041726349, 35.681016833711695, 0.0, 36.8156011588078, 30.6594475251302, 43.94905749556138], [34.503806731128996, 39.07068477667371, 25.318982666824898, 36.34712971900034, 32.173799002171094, 56.50751493658094, 60.96659437971232, 18.30350707826995, 29.074039960119606, 33.363167025135205, 43.35676751133025, 43.98116710135616, 36.8156011588078, 0.0, 15.336031185707512, 24.668717327492203], [31.4770454304642, 25.879431579656583, 21.989242434440005, 33.24946365833815, 28.378856676205874, 57.70389625101928, 66.78142705120429, 29.33806782374065, 23.899057605660044, 38.82542795111607, 37.06048227074565, 44.60042053159724, 30.6594475251302, 15.336031185707505, 0.0, 30.81976022500959], [41.150185006319695, 32.06532304123741, 18.437280324959687, 50.0, 34.295742974812406, 44.10732420825652, 51.38480243137578, 24.033531973663543, 22.050936988677176, 23.35992341842739, 31.408621090566758, 28.88108946793405, 43.94905749556138, 24.668717327492203, 30.81976022500959, 0.0]]'"
     },
     "execution_count": 18,
     "metadata": {},
     "output_type": "execute_result"
    }
   ],
   "source": [
    "import networkx as nx\n",
    "\n",
    "# Let's make an adjacency matrix representing color distances to/from each other\n",
    "adjacency_matrix = pd.DataFrame(np.zeros(shape=(16, 16)),\n",
    "columns = chosen_colors[\"Shirt Color\"].unique(), index=chosen_colors[\"Shirt Color\"].unique())\n",
    "\n",
    "for index_a, row_a in chosen_colors.iterrows():\n",
    "    for index_b, row_b in chosen_colors.iterrows():\n",
    "        color_a = co.LabColor(*map(float, row_a[\"L*a*b Value\"].split(\", \")))\n",
    "        color_b = co.LabColor(*map(float, row_b[\"L*a*b Value\"].split(\", \")))\n",
    "\n",
    "        distance = cdiff.delta_e_cie2000(color_a, color_b, Kl=2, Kc=1, Kh=1)\n",
    "\n",
    "        adjacency_matrix.at[row_a[\"Shirt Color\"], row_b[\"Shirt Color\"]] = distance\n"
   ],
   "metadata": {
    "collapsed": false
   }
  },
  {
   "cell_type": "code",
   "execution_count": 22,
   "outputs": [],
   "source": [
    "import plotly.express as px\n",
    "\n",
    "import plotly.express as px\n",
    "import plotly.graph_objects as go\n",
    "\n",
    "# Read the CSV file\n",
    "# Assuming your CSV has columns: \"Shirt Color\", \"Pantone Color\", \"L*a*b Value\", \"HEX\"\n",
    "df = pd.read_csv('data/chosen-colors.csv')\n",
    "\n",
    "# Parse the L*a*b values from the string format\n",
    "df[['L', 'a', 'b']] = df['L*a*b Value'].str.split(', ', expand=True).astype(float)\n",
    "\n",
    "# Create the 3D scatter plot\n",
    "fig = go.Figure(data=[go.Scatter3d(\n",
    "    x=df['a'],        # a* axis (green-red)\n",
    "    y=df['L'],        # L* axis (lightness)\n",
    "    z=df['b'],        # b* axis (blue-yellow)\n",
    "    mode='markers+text',\n",
    "    text=df['Shirt Color'],\n",
    "    hovertemplate=\n",
    "        '<b>%{text}</b><br>' +\n",
    "        'L*: %{y:.1f}<br>' +\n",
    "        'a*: %{x:.1f}<br>' +\n",
    "        'b*: %{z:.1f}<br>',\n",
    "    marker=dict(\n",
    "        size=10,\n",
    "        color=['#' + hex.strip() for hex in df['HEX']],  # Use actual hex colors\n",
    "        opacity=0.8\n",
    "    ),\n",
    "    textposition='top center'\n",
    ")])\n",
    "\n",
    "# Update the layout\n",
    "fig.update_layout(\n",
    "    title='Colors in LAB Space',\n",
    "    scene=dict(\n",
    "        xaxis_title='a* (green to red)',\n",
    "        yaxis_title='L* (black to white)',\n",
    "        zaxis_title='b* (blue to yellow)',\n",
    "        # Set appropriate ranges for each axis\n",
    "        xaxis=dict(range=[-128, 128]),\n",
    "        yaxis=dict(range=[0, 100]),\n",
    "        zaxis=dict(range=[-128, 128])\n",
    "    ),\n",
    "    width=1000,\n",
    "    height=800,\n",
    "    showlegend=False\n",
    ")\n",
    "\n",
    "# Add better camera angle\n",
    "fig.update_layout(scene_camera=dict(\n",
    "    up=dict(x=0, y=1, z=0),\n",
    "    center=dict(x=0, y=0, z=0),\n",
    "    eye=dict(x=1.5, y=1.5, z=1.5)\n",
    "))\n",
    "\n",
    "# Show the plot\n",
    "#fig.show()\n",
    "\n",
    "fig.write_html(\"lab_color_space.html\")"
   ],
   "metadata": {
    "collapsed": false,
    "ExecuteTime": {
     "end_time": "2024-12-23T22:52:16.352901Z",
     "start_time": "2024-12-23T22:52:16.299725Z"
    }
   }
  },
  {
   "cell_type": "code",
   "execution_count": null,
   "outputs": [],
   "source": [],
   "metadata": {
    "collapsed": false
   }
  }
 ],
 "metadata": {
  "kernelspec": {
   "display_name": "Python 3",
   "language": "python",
   "name": "python3"
  },
  "language_info": {
   "codemirror_mode": {
    "name": "ipython",
    "version": 2
   },
   "file_extension": ".py",
   "mimetype": "text/x-python",
   "name": "python",
   "nbconvert_exporter": "python",
   "pygments_lexer": "ipython2",
   "version": "2.7.6"
  }
 },
 "nbformat": 4,
 "nbformat_minor": 0
}
