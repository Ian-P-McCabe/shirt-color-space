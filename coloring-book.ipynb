{
 "cells": [
  {
   "cell_type": "code",
   "execution_count": 1,
   "metadata": {
    "collapsed": true,
    "ExecuteTime": {
     "end_time": "2024-12-24T17:12:37.852156Z",
     "start_time": "2024-12-24T17:12:36.758505Z"
    }
   },
   "outputs": [],
   "source": [
    "import numpy as np\n",
    "import pandas as pd\n",
    "import numpy\n",
    "import matplotlib.pyplot as plt\n",
    "\n",
    "#Fix colormath depreciated numpy method\n",
    "def patch_asscalar(a):\n",
    "    return a.item()\n",
    "setattr(numpy, \"asscalar\", patch_asscalar)\n",
    "\n",
    "#Import data\n",
    "all_colors = pd.read_csv(\"data/all-colors.csv\")\n",
    "chosen_colors = pd.read_csv(\"data/chosen-colors.csv\")\n",
    "\n",
    "#Remove chosen colors\n",
    "condition = all_colors[\"Shirt Color Name\"].isin(chosen_colors[\"Shirt Color\"])\n",
    "remaining_colors = all_colors.drop(all_colors[condition].index, inplace=False)\n",
    "\n",
    "#Confirm removal\n",
    "# print(len(remaining_colors))\n",
    "# print(len(all_colors))\n",
    "# print(len(chosen_colors))"
   ]
  },
  {
   "cell_type": "markdown",
   "source": [
    "# Find Most Distant Colors to Chosen Colors"
   ],
   "metadata": {
    "collapsed": false
   }
  },
  {
   "cell_type": "code",
   "execution_count": 2,
   "outputs": [],
   "source": [
    "import colormath.color_objects as co\n",
    "import colormath.color_diff as cdiff\n",
    "\n",
    "def compute_average_distance(row):\n",
    "    color_Lab = None\n",
    "\n",
    "    color_Lab = co.LabColor(*map(float, row[\"L*a*b Value\"].split(\", \")))\n",
    "\n",
    "    distances = []\n",
    "\n",
    "    #Compute all distances from chosen colors\n",
    "    for index, row_remaining in chosen_colors.iterrows():\n",
    "        other_color = co.LabColor(*map(float, row_remaining[\"L*a*b Value\"].split(\", \")))\n",
    "\n",
    "        #Newer, asymmetric formula, weighted for fabrics, using\n",
    "        #distance = cdiff.delta_e_cmc(other_color, color_Lab , pl=2, pc=1)\n",
    "\n",
    "        #Older symmetric formula, weighted for fabrics\n",
    "        distance = cdiff.delta_e_cie2000(color_Lab, other_color,Kl=2, Kc=1, Kh=1)\n",
    "\n",
    "        distances += [distance]\n",
    "\n",
    "    average_distance = sum(distances)/len(remaining_colors)\n",
    "\n",
    "    row[\"Distance\"] = average_distance\n",
    "    return row\n",
    "\n",
    "remaining_colors = remaining_colors.apply(compute_average_distance, axis=1)"
   ],
   "metadata": {
    "collapsed": false,
    "ExecuteTime": {
     "end_time": "2024-12-24T17:12:38.209747Z",
     "start_time": "2024-12-24T17:12:37.856274Z"
    }
   }
  },
  {
   "cell_type": "code",
   "execution_count": 3,
   "outputs": [
    {
     "data": {
      "text/plain": "      Shirt Color Name PMS Color Code            L*a*b Value     Hex  Distance\n47                Teal          3262C  66.44, -59.33, -12.05  00BFB2  7.545582\n73       Heather Kelly          340 C   51.80, -65.36, 14.55  00965E  7.436395\n50           Turquoise           638C  63.99, -33.79, -34.95  00AFD7  7.312165\n24        Maize Yellow         7548CP     83.14, 5.01, 85.02  F2CA00  7.287751\n104     Heather Yellow         100 CP    92.09, -6.83, 62.42  F6EB69  7.094500\n96   Heather Sea Green         2398 C  66.81, -46.18, -10.83  00BAB3  6.989276\n37               Poppy          2347C    49.45, 75.12, 67.21  E10600  6.858418\n20               Kelly           341C    43.23, -48.36, 9.96  007A53  6.852545\n83      Heather Orange         1645 C    65.69, 58.38, 58.65  FF6A39  6.630476\n34              Orange          1645C    65.69, 58.38, 58.65  FF6A39  6.630476",
      "text/html": "<div>\n<style scoped>\n    .dataframe tbody tr th:only-of-type {\n        vertical-align: middle;\n    }\n\n    .dataframe tbody tr th {\n        vertical-align: top;\n    }\n\n    .dataframe thead th {\n        text-align: right;\n    }\n</style>\n<table border=\"1\" class=\"dataframe\">\n  <thead>\n    <tr style=\"text-align: right;\">\n      <th></th>\n      <th>Shirt Color Name</th>\n      <th>PMS Color Code</th>\n      <th>L*a*b Value</th>\n      <th>Hex</th>\n      <th>Distance</th>\n    </tr>\n  </thead>\n  <tbody>\n    <tr>\n      <th>47</th>\n      <td>Teal</td>\n      <td>3262C</td>\n      <td>66.44, -59.33, -12.05</td>\n      <td>00BFB2</td>\n      <td>7.545582</td>\n    </tr>\n    <tr>\n      <th>73</th>\n      <td>Heather Kelly</td>\n      <td>340 C</td>\n      <td>51.80, -65.36, 14.55</td>\n      <td>00965E</td>\n      <td>7.436395</td>\n    </tr>\n    <tr>\n      <th>50</th>\n      <td>Turquoise</td>\n      <td>638C</td>\n      <td>63.99, -33.79, -34.95</td>\n      <td>00AFD7</td>\n      <td>7.312165</td>\n    </tr>\n    <tr>\n      <th>24</th>\n      <td>Maize Yellow</td>\n      <td>7548CP</td>\n      <td>83.14, 5.01, 85.02</td>\n      <td>F2CA00</td>\n      <td>7.287751</td>\n    </tr>\n    <tr>\n      <th>104</th>\n      <td>Heather Yellow</td>\n      <td>100 CP</td>\n      <td>92.09, -6.83, 62.42</td>\n      <td>F6EB69</td>\n      <td>7.094500</td>\n    </tr>\n    <tr>\n      <th>96</th>\n      <td>Heather Sea Green</td>\n      <td>2398 C</td>\n      <td>66.81, -46.18, -10.83</td>\n      <td>00BAB3</td>\n      <td>6.989276</td>\n    </tr>\n    <tr>\n      <th>37</th>\n      <td>Poppy</td>\n      <td>2347C</td>\n      <td>49.45, 75.12, 67.21</td>\n      <td>E10600</td>\n      <td>6.858418</td>\n    </tr>\n    <tr>\n      <th>20</th>\n      <td>Kelly</td>\n      <td>341C</td>\n      <td>43.23, -48.36, 9.96</td>\n      <td>007A53</td>\n      <td>6.852545</td>\n    </tr>\n    <tr>\n      <th>83</th>\n      <td>Heather Orange</td>\n      <td>1645 C</td>\n      <td>65.69, 58.38, 58.65</td>\n      <td>FF6A39</td>\n      <td>6.630476</td>\n    </tr>\n    <tr>\n      <th>34</th>\n      <td>Orange</td>\n      <td>1645C</td>\n      <td>65.69, 58.38, 58.65</td>\n      <td>FF6A39</td>\n      <td>6.630476</td>\n    </tr>\n  </tbody>\n</table>\n</div>"
     },
     "execution_count": 3,
     "metadata": {},
     "output_type": "execute_result"
    }
   ],
   "source": [
    "sorted_remaining = remaining_colors.sort_values(by = \"Distance\", ascending=False)\n",
    "sorted_remaining.iloc[:].head(10)"
   ],
   "metadata": {
    "collapsed": false,
    "ExecuteTime": {
     "end_time": "2024-12-24T17:12:38.226456Z",
     "start_time": "2024-12-24T17:12:38.213030Z"
    }
   }
  },
  {
   "cell_type": "markdown",
   "source": [
    "# Attempting to Make 2D Graphs"
   ],
   "metadata": {
    "collapsed": false
   }
  },
  {
   "cell_type": "code",
   "execution_count": 4,
   "outputs": [
    {
     "name": "stdout",
     "output_type": "stream",
     "text": [
      "    Gold    Orange    Burnt Orange\n",
      "[0.0, 24.24013342020266, 17.480586695643115]\n",
      "[26.402279861193914, 0.0, 9.887678740145626]\n",
      "[22.286845806880518, 11.611165190695397, 0.0]\n"
     ]
    }
   ],
   "source": [
    "#Orange to Gold\n",
    "\n",
    "orange = all_colors[all_colors[\"Shirt Color Name\"] == \"Orange\"]\n",
    "gold = all_colors[all_colors[\"Shirt Color Name\"] == \"Gold\"]\n",
    "burnt_orange = all_colors[all_colors[\"Shirt Color Name\"] == \"Burnt Orange\"]\n",
    "\n",
    "comparison_list = [gold, orange, burnt_orange]\n",
    "\n",
    "comparison_matrix = [[0]*3 for i in range(3)]\n",
    "\n",
    "for i in range(len(comparison_list)):\n",
    "    for j in range(len(comparison_matrix)):\n",
    "        #I really should just fix the tables\n",
    "        target_color = co.LabColor(*map(float,comparison_list[i].iloc[0][\"L*a*b Value\"].split(\", \")))\n",
    "        comparison_color = co.LabColor(*map(float,comparison_list[j].iloc[0][\"L*a*b Value\"].split(\", \")))\n",
    "\n",
    "        #Newer formula\n",
    "        distance = cdiff.delta_e_cmc(target_color, comparison_color, pl=2, pc=1)\n",
    "\n",
    "        comparison_matrix[i][j] = distance\n",
    "\n",
    "print(\"    Gold    Orange    Burnt Orange\")\n",
    "for row in comparison_matrix:\n",
    "    print(row)"
   ],
   "metadata": {
    "collapsed": false,
    "ExecuteTime": {
     "end_time": "2024-12-24T17:12:38.234101Z",
     "start_time": "2024-12-24T17:12:38.229923Z"
    }
   }
  },
  {
   "cell_type": "code",
   "execution_count": 5,
   "outputs": [],
   "source": [
    "import networkx as nx\n",
    "\n",
    "# Let's make an adjacency matrix representing color distances to/from each other\n",
    "adjacency_matrix = pd.DataFrame(np.zeros(shape=(16, 16)),\n",
    "columns = chosen_colors[\"Shirt Color\"].unique(), index=chosen_colors[\"Shirt Color\"].unique())\n",
    "\n",
    "for index_a, row_a in chosen_colors.iterrows():\n",
    "    for index_b, row_b in chosen_colors.iterrows():\n",
    "        color_a = co.LabColor(*map(float, row_a[\"L*a*b Value\"].split(\", \")))\n",
    "        color_b = co.LabColor(*map(float, row_b[\"L*a*b Value\"].split(\", \")))\n",
    "\n",
    "        distance = cdiff.delta_e_cie2000(color_a, color_b, Kl=2, Kc=1, Kh=1)\n",
    "\n",
    "        adjacency_matrix.at[row_a[\"Shirt Color\"], row_b[\"Shirt Color\"]] = distance\n"
   ],
   "metadata": {
    "collapsed": false,
    "ExecuteTime": {
     "end_time": "2024-12-24T17:12:38.456186Z",
     "start_time": "2024-12-24T17:12:38.237455Z"
    }
   }
  },
  {
   "cell_type": "markdown",
   "source": [
    "# Plot the Chosen Colors in 3D!"
   ],
   "metadata": {
    "collapsed": false
   }
  },
  {
   "cell_type": "code",
   "execution_count": 13,
   "outputs": [],
   "source": [
    "import plotly.graph_objects as go\n",
    "\n",
    "# Read the CSV file\n",
    "# Assuming your CSV has columns: \"Shirt Color\", \"Pantone Color\", \"L*a*b Value\", \"HEX\"\n",
    "def generate_lab_3d(df, figure_title, output_filename):\n",
    "    # Parse the L*a*b values from the string format\n",
    "    df[['L', 'a', 'b']] = df['L*a*b Value'].str.split(', ', expand=True).astype(float)\n",
    "\n",
    "    # Create the 3D scatter plot\n",
    "    fig = go.Figure(data=[go.Scatter3d(\n",
    "        x=df['a'],        # a* axis (green-red)\n",
    "        y=df['L'],        # L* axis (lightness)\n",
    "        z=df['b'],        # b* axis (blue-yellow)\n",
    "        mode='markers+text',\n",
    "        text=df['Shirt Color'],\n",
    "        hovertemplate=\n",
    "            '<b>%{text}</b><br>' +\n",
    "            'L*: %{y:.1f}<br>' +\n",
    "            'a*: %{x:.1f}<br>' +\n",
    "            'b*: %{z:.1f}<br>',\n",
    "        marker=dict(\n",
    "            size=10,\n",
    "            color=['#' + hex.strip() for hex in df['HEX']],  # Use actual hex colors\n",
    "            opacity=0.9\n",
    "        ),\n",
    "        textposition='top center'\n",
    "    )])\n",
    "\n",
    "    # Update the layout\n",
    "    fig.update_layout(\n",
    "        template=\"plotly\",\n",
    "        title=figure_title,\n",
    "        scene=dict(\n",
    "            aspectratio=dict(x=1, y=1, z=1),\n",
    "            xaxis_title='a* (green to red)',\n",
    "            yaxis_title='L* (black to white)',\n",
    "            zaxis_title='b* (blue to yellow)',\n",
    "            # Set appropriate ranges for each axis\n",
    "            xaxis=dict(range=[-128, 128]),\n",
    "            yaxis=dict(range=[0, 100]),\n",
    "            zaxis=dict(range=[-128, 128])\n",
    "        ),\n",
    "        width=700,\n",
    "        height=700,\n",
    "        showlegend=False\n",
    "    )\n",
    "\n",
    "    # Add better camera angle\n",
    "    fig.update_layout(scene_camera=dict(\n",
    "        up=dict(x=0, y=1, z=0),\n",
    "        center=dict(x=0, y=0, z=0),\n",
    "        eye=dict(x=1.5, y=1.5, z=1.5)\n",
    "    ))\n",
    "\n",
    "    # Show the plot\n",
    "    # fig.show()\n",
    "\n",
    "    # Optionally save to HTML file\n",
    "    fig.write_html(output_filename + \".html\")"
   ],
   "metadata": {
    "collapsed": false,
    "ExecuteTime": {
     "end_time": "2024-12-24T22:05:53.865650Z",
     "start_time": "2024-12-24T22:05:53.863248Z"
    }
   }
  },
  {
   "cell_type": "code",
   "execution_count": 14,
   "outputs": [],
   "source": [
    "df = pd.read_csv('data/chosen-colors.csv')\n",
    "\n",
    "generate_lab_3d(df=df, figure_title=\"Chosen Colors\", output_filename=\"Chosen_Colors_test\")\n",
    "#\n",
    "#\n",
    "# #Clean data\n",
    "# sorted_fixed_columns = sorted_remaining.drop('Distance', axis=1)\n",
    "# sorted_fixed_columns.columns = df.columns\n",
    "#\n",
    "# def prepend_star(row):\n",
    "#     row[\"Shirt Color\"] = \"*\" + row[\"Shirt Color\"]\n",
    "#     return row\n",
    "#\n",
    "# sorted_fixed_columns = sorted_fixed_columns.apply(prepend_star, axis=1)\n",
    "#\n",
    "# df = pd.concat([df, sorted_fixed_columns.iloc[0:10]], ignore_index=True)\n",
    "#\n",
    "# generate_lab_3d(df=df, figure_title=\"Additions from CIE\", output_filename=\"CIE_Additions\")"
   ],
   "metadata": {
    "collapsed": false,
    "ExecuteTime": {
     "end_time": "2024-12-24T22:05:55.696895Z",
     "start_time": "2024-12-24T22:05:55.614471Z"
    }
   }
  },
  {
   "cell_type": "code",
   "execution_count": 7,
   "outputs": [],
   "source": [],
   "metadata": {
    "collapsed": false,
    "ExecuteTime": {
     "end_time": "2024-12-24T17:12:38.554855Z",
     "start_time": "2024-12-24T17:12:38.551963Z"
    }
   }
  }
 ],
 "metadata": {
  "kernelspec": {
   "display_name": "Python 3",
   "language": "python",
   "name": "python3"
  },
  "language_info": {
   "codemirror_mode": {
    "name": "ipython",
    "version": 2
   },
   "file_extension": ".py",
   "mimetype": "text/x-python",
   "name": "python",
   "nbconvert_exporter": "python",
   "pygments_lexer": "ipython2",
   "version": "2.7.6"
  }
 },
 "nbformat": 4,
 "nbformat_minor": 0
}
