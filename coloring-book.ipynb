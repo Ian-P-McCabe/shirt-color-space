{
 "cells": [
  {
   "cell_type": "code",
   "execution_count": 101,
   "metadata": {
    "collapsed": true,
    "ExecuteTime": {
     "end_time": "2024-12-23T05:32:39.952857Z",
     "start_time": "2024-12-23T05:32:39.936332Z"
    }
   },
   "outputs": [],
   "source": [
    "import pandas as pd\n",
    "import numpy\n",
    "\n",
    "#Fix colormath depreciated numpy method\n",
    "def patch_asscalar(a):\n",
    "    return a.item()\n",
    "setattr(numpy, \"asscalar\", patch_asscalar)\n",
    "\n",
    "#Import data\n",
    "all_colors = pd.read_csv(\"data/all-colors.csv\")\n",
    "chosen_colors = pd.read_csv(\"data/chosen-colors.csv\")\n",
    "\n",
    "#Remove chosen colors\n",
    "condition = all_colors[\"Shirt Color Name\"].isin(chosen_colors[\"Shirt Color\"])\n",
    "remaining_colors = all_colors.drop(all_colors[condition].index, inplace=False)\n",
    "\n",
    "#Confirm removal\n",
    "# print(len(remaining_colors))\n",
    "# print(len(all_colors))\n",
    "# print(len(chosen_colors))"
   ]
  },
  {
   "cell_type": "code",
   "execution_count": 108,
   "outputs": [],
   "source": [
    "import colormath.color_objects as co\n",
    "import colormath.color_diff as cdiff\n",
    "\n",
    "def compute_average_distance(row):\n",
    "    color_Lab = None\n",
    "\n",
    "    color_Lab = co.LabColor(*map(float, row[\"L*a*b Value\"].split(\", \")))\n",
    "\n",
    "    distances = []\n",
    "\n",
    "    #Compute all distances from chosen colors\n",
    "    for index, row_remaining in chosen_colors.iterrows():\n",
    "        other_color = co.LabColor(*map(float, row_remaining[\"L*a*b Value\"].split(\", \")))\n",
    "\n",
    "        #Newer, asymmetric formula, weighted for fabrics, using\n",
    "        #distance = cdiff.delta_e_cmc(other_color, color_Lab , pl=2, pc=1)\n",
    "\n",
    "        #Older symmetric formula, weighted for fabrics\n",
    "        distance = cdiff.delta_e_cie2000(color_Lab, other_color,Kl=2, Kc=1, Kh=1)\n",
    "\n",
    "        distances += [distance]\n",
    "\n",
    "    average_distance = sum(distances)/len(remaining_colors)\n",
    "\n",
    "    row[\"Distance\"] = average_distance\n",
    "    return row\n",
    "\n",
    "remaining_colors = remaining_colors.apply(compute_average_distance, axis=1)"
   ],
   "metadata": {
    "collapsed": false,
    "ExecuteTime": {
     "end_time": "2024-12-23T05:37:51.517465Z",
     "start_time": "2024-12-23T05:37:51.143994Z"
    }
   }
  },
  {
   "cell_type": "code",
   "execution_count": 109,
   "outputs": [
    {
     "data": {
      "text/plain": "      Shirt Color Name PMS Color Code            L*a*b Value     Hex  Distance\n47                Teal          3262C  66.44, -59.33, -12.05  00BFB2  7.545582\n73       Heather Kelly          340 C   51.80, -65.36, 14.55  00965E  7.436395\n50           Turquoise           638C  63.99, -33.79, -34.95  00AFD7  7.312165\n24        Maize Yellow         7548CP     83.14, 5.01, 85.02  F2CA00  7.287751\n104     Heather Yellow         100 CP    92.09, -6.83, 62.42  F6EB69  7.094500\n96   Heather Sea Green         2398 C  66.81, -46.18, -10.83  00BAB3  6.989276\n37               Poppy          2347C    49.45, 75.12, 67.21  E10600  6.858418\n20               Kelly           341C    43.23, -48.36, 9.96  007A53  6.852545\n83      Heather Orange         1645 C    65.69, 58.38, 58.65  FF6A39  6.630476\n34              Orange          1645C    65.69, 58.38, 58.65  FF6A39  6.630476",
      "text/html": "<div>\n<style scoped>\n    .dataframe tbody tr th:only-of-type {\n        vertical-align: middle;\n    }\n\n    .dataframe tbody tr th {\n        vertical-align: top;\n    }\n\n    .dataframe thead th {\n        text-align: right;\n    }\n</style>\n<table border=\"1\" class=\"dataframe\">\n  <thead>\n    <tr style=\"text-align: right;\">\n      <th></th>\n      <th>Shirt Color Name</th>\n      <th>PMS Color Code</th>\n      <th>L*a*b Value</th>\n      <th>Hex</th>\n      <th>Distance</th>\n    </tr>\n  </thead>\n  <tbody>\n    <tr>\n      <th>47</th>\n      <td>Teal</td>\n      <td>3262C</td>\n      <td>66.44, -59.33, -12.05</td>\n      <td>00BFB2</td>\n      <td>7.545582</td>\n    </tr>\n    <tr>\n      <th>73</th>\n      <td>Heather Kelly</td>\n      <td>340 C</td>\n      <td>51.80, -65.36, 14.55</td>\n      <td>00965E</td>\n      <td>7.436395</td>\n    </tr>\n    <tr>\n      <th>50</th>\n      <td>Turquoise</td>\n      <td>638C</td>\n      <td>63.99, -33.79, -34.95</td>\n      <td>00AFD7</td>\n      <td>7.312165</td>\n    </tr>\n    <tr>\n      <th>24</th>\n      <td>Maize Yellow</td>\n      <td>7548CP</td>\n      <td>83.14, 5.01, 85.02</td>\n      <td>F2CA00</td>\n      <td>7.287751</td>\n    </tr>\n    <tr>\n      <th>104</th>\n      <td>Heather Yellow</td>\n      <td>100 CP</td>\n      <td>92.09, -6.83, 62.42</td>\n      <td>F6EB69</td>\n      <td>7.094500</td>\n    </tr>\n    <tr>\n      <th>96</th>\n      <td>Heather Sea Green</td>\n      <td>2398 C</td>\n      <td>66.81, -46.18, -10.83</td>\n      <td>00BAB3</td>\n      <td>6.989276</td>\n    </tr>\n    <tr>\n      <th>37</th>\n      <td>Poppy</td>\n      <td>2347C</td>\n      <td>49.45, 75.12, 67.21</td>\n      <td>E10600</td>\n      <td>6.858418</td>\n    </tr>\n    <tr>\n      <th>20</th>\n      <td>Kelly</td>\n      <td>341C</td>\n      <td>43.23, -48.36, 9.96</td>\n      <td>007A53</td>\n      <td>6.852545</td>\n    </tr>\n    <tr>\n      <th>83</th>\n      <td>Heather Orange</td>\n      <td>1645 C</td>\n      <td>65.69, 58.38, 58.65</td>\n      <td>FF6A39</td>\n      <td>6.630476</td>\n    </tr>\n    <tr>\n      <th>34</th>\n      <td>Orange</td>\n      <td>1645C</td>\n      <td>65.69, 58.38, 58.65</td>\n      <td>FF6A39</td>\n      <td>6.630476</td>\n    </tr>\n  </tbody>\n</table>\n</div>"
     },
     "execution_count": 109,
     "metadata": {},
     "output_type": "execute_result"
    }
   ],
   "source": [
    "sorted_remaining = remaining_colors.sort_values(by = \"Distance\", ascending=False)\n",
    "sorted_remaining.iloc[:].head(10)"
   ],
   "metadata": {
    "collapsed": false,
    "ExecuteTime": {
     "end_time": "2024-12-23T05:37:53.005685Z",
     "start_time": "2024-12-23T05:37:52.984079Z"
    }
   }
  },
  {
   "cell_type": "code",
   "execution_count": 111,
   "outputs": [
    {
     "data": {
      "text/plain": "'[{\"Shirt Color\":\"Heather Ice Blue\",\"Pantone Color\":\"317 CP\",\"L*a*b Value\":\"85.65, -11.38, -2.20\",\"HEX\":\"BDDDD9\"},{\"Shirt Color\":\"Berry\",\"Pantone Color\":\"233 CP\",\"L*a*b Value\":\"45.38, 71.84, -7.30\",\"HEX\":\"C6057B\"},{\"Shirt Color\":\"Oxblood Black\",\"Pantone Color\":\"7449 CP\",\"L*a*b Value\":\"28.13, 16.23, -6.49\",\"HEX\":\"55394D\"},{\"Shirt Color\":\"White\",\"Pantone Color\":\"White C\",\"L*a*b Value\":\"100, 0, 0\",\"HEX\":\"FFFFFF\"},{\"Shirt Color\":\"Ash\",\"Pantone Color\":\"428 CP\",\"L*a*b Value\":\"78.50, -2.14, -0.31\",\"HEX\":\"BDC4C2\"},{\"Shirt Color\":\"Gold\",\"Pantone Color\":\"137 C\",\"L*a*b Value\":\"76.47, 31.14, 81.64\",\"HEX\":\"FFA400\"},{\"Shirt Color\":\"Yellow\",\"Pantone Color\":\"100 CP\",\"L*a*b Value\":\"92.09, -6.83, 62.42\",\"HEX\":\"F6EB69\"},{\"Shirt Color\":\"Deep Teal\",\"Pantone Color\":\"3025 CP\",\"L*a*b Value\":\"32.45, -23.19, -27.24\",\"HEX\":\"005876\"},{\"Shirt Color\":\"Heather Maroon\",\"Pantone Color\":\"7644 CP\",\"L*a*b Value\":\"27.76, 25.21, -2.86\",\"HEX\":\"603147\"},{\"Shirt Color\":\"Evergreen\",\"Pantone Color\":\"343 C\",\"L*a*b Value\":\"31.90, -26.89, 6.33\",\"HEX\":\"115740\"},{\"Shirt Color\":\"Red\",\"Pantone Color\":\"200 C\",\"L*a*b Value\":\"41.43, 65.63, 34.16\",\"HEX\":\"BA0C2F\"},{\"Shirt Color\":\"Leaf\",\"Pantone Color\":\"2263 CP\",\"L*a*b Value\":\"57.33, -18.14, 19.97\",\"HEX\":\"729364\"},{\"Shirt Color\":\"Pink\",\"Pantone Color\":\"705 C\",\"L*a*b Value\":\"89.66, 10.65, 1.15\",\"HEX\":\"F5DADF\"},{\"Shirt Color\":\"Heather True Royal\",\"Pantone Color\":\"286 CP\",\"L*a*b Value\":\"30.46, 7.90, -44.70\",\"HEX\":\"24468E\"},{\"Shirt Color\":\"Heather Team Purple\",\"Pantone Color\":\"2665 C\",\"L*a*b Value\":\"45.45, 34.51, -52.90\",\"HEX\":\"7D55C7\"},{\"Shirt Color\":\"Solid Black Blend\",\"Pantone Color\":\"Black C\",\"L*a*b Value\":\"0, 0, 0\",\"HEX\":\"00000\"}]'"
     },
     "execution_count": 111,
     "metadata": {},
     "output_type": "execute_result"
    }
   ],
   "source": [
    "chosen_colors.to_json(orient=\"records\")"
   ],
   "metadata": {
    "collapsed": false,
    "ExecuteTime": {
     "end_time": "2024-12-23T05:39:47.842544Z",
     "start_time": "2024-12-23T05:39:47.837358Z"
    }
   }
  },
  {
   "cell_type": "code",
   "execution_count": null,
   "outputs": [],
   "source": [],
   "metadata": {
    "collapsed": false
   }
  }
 ],
 "metadata": {
  "kernelspec": {
   "display_name": "Python 3",
   "language": "python",
   "name": "python3"
  },
  "language_info": {
   "codemirror_mode": {
    "name": "ipython",
    "version": 2
   },
   "file_extension": ".py",
   "mimetype": "text/x-python",
   "name": "python",
   "nbconvert_exporter": "python",
   "pygments_lexer": "ipython2",
   "version": "2.7.6"
  }
 },
 "nbformat": 4,
 "nbformat_minor": 0
}
