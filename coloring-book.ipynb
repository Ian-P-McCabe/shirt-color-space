{
 "cells": [
  {
   "cell_type": "code",
   "execution_count": 75,
   "metadata": {
    "collapsed": true,
    "ExecuteTime": {
     "end_time": "2024-12-23T03:59:46.252547Z",
     "start_time": "2024-12-23T03:59:46.237162Z"
    }
   },
   "outputs": [],
   "source": [
    "import pandas as pd\n",
    "import numpy\n",
    "\n",
    "#Fix colormath depreciated numpy method\n",
    "def patch_asscalar(a):\n",
    "    return a.item()\n",
    "setattr(numpy, \"asscalar\", patch_asscalar)\n",
    "\n",
    "#Import data\n",
    "all_colors = pd.read_csv(\"data/all-colors.csv\")\n",
    "chosen_colors = pd.read_csv(\"data/chosen-colors.csv\")\n",
    "\n",
    "#Remove chosen colors\n",
    "condition = all_colors[\"Shirt Color Name\"].isin(chosen_colors[\"Shirt Color\"])\n",
    "remaining_colors = all_colors.drop(all_colors[condition].index, inplace=False)\n",
    "\n",
    "#Confirm removal\n",
    "# print(len(remaining_colors))\n",
    "# print(len(all_colors))\n",
    "# print(len(chosen_colors))"
   ]
  },
  {
   "cell_type": "code",
   "execution_count": 98,
   "outputs": [],
   "source": [
    "import colormath.color_objects as co\n",
    "import colormath.color_diff as cdiff\n",
    "\n",
    "def compute_average_distance(row):\n",
    "    color_Lab = None\n",
    "\n",
    "    color_Lab = co.LabColor(*map(float, row[\"L*a*b Value\"].split(\", \")))\n",
    "\n",
    "    distances = []\n",
    "\n",
    "    #Compute all distances from chosen colors\n",
    "    for index, row_remaining in chosen_colors.iterrows():\n",
    "        other_color = co.LabColor(*map(float, row_remaining[\"L*a*b Value\"].split(\", \")))\n",
    "\n",
    "        #Newer, asymmetric formula, weighted for fabrics, using\n",
    "        distance = cdiff.delta_e_cmc(other_color, color_Lab , pl=2, pc=1)\n",
    "\n",
    "        #Older symmetric formula, weighted for fabrics\n",
    "        #distance = cdiff.delta_e_cie2000(color_Lab, other_color,Kl=2, Kc=1, Kh=1)\n",
    "\n",
    "        distances += [distance]\n",
    "\n",
    "    average_distance = sum(distances)/len(remaining_colors)\n",
    "\n",
    "    row[\"Distance\"] = average_distance\n",
    "    return row\n",
    "\n",
    "remaining_colors = remaining_colors.apply(compute_average_distance, axis=1)"
   ],
   "metadata": {
    "collapsed": false,
    "ExecuteTime": {
     "end_time": "2024-12-23T04:54:31.819578Z",
     "start_time": "2024-12-23T04:54:31.647947Z"
    }
   }
  },
  {
   "cell_type": "code",
   "execution_count": 99,
   "outputs": [
    {
     "data": {
      "text/plain": "        Shirt Color Name PMS Color Code            L*a*b Value     Hex  \\\n37                 Poppy          2347C    49.45, 75.12, 67.21  E10600   \n24          Maize Yellow         7548CP     83.14, 5.01, 85.02  F2CA00   \n34                Orange          1645C    65.69, 58.38, 58.65  FF6A39   \n83        Heather Orange         1645 C    65.69, 58.38, 58.65  FF6A39   \n73         Heather Kelly          340 C   51.80, -65.36, 14.55  00965E   \n47                  Teal          3262C  66.44, -59.33, -12.05  00BFB2   \n104       Heather Yellow         100 CP    92.09, -6.83, 62.42  F6EB69   \n9           Burnt Orange           159C    54.43, 43.54, 58.62  CB6015   \n95           Heather Red           193C    42.79, 66.14, 27.76  BF0D3E   \n105  Heather Yellow Gold          134 C     86.67, 8.31, 54.63  FDD26E   \n\n      Distance  \n37   13.722151  \n24   12.989638  \n34   11.935688  \n83   11.935688  \n73   11.553796  \n47   11.106415  \n104  10.961603  \n9    10.749025  \n95   10.282757  \n105   9.848363  ",
      "text/html": "<div>\n<style scoped>\n    .dataframe tbody tr th:only-of-type {\n        vertical-align: middle;\n    }\n\n    .dataframe tbody tr th {\n        vertical-align: top;\n    }\n\n    .dataframe thead th {\n        text-align: right;\n    }\n</style>\n<table border=\"1\" class=\"dataframe\">\n  <thead>\n    <tr style=\"text-align: right;\">\n      <th></th>\n      <th>Shirt Color Name</th>\n      <th>PMS Color Code</th>\n      <th>L*a*b Value</th>\n      <th>Hex</th>\n      <th>Distance</th>\n    </tr>\n  </thead>\n  <tbody>\n    <tr>\n      <th>37</th>\n      <td>Poppy</td>\n      <td>2347C</td>\n      <td>49.45, 75.12, 67.21</td>\n      <td>E10600</td>\n      <td>13.722151</td>\n    </tr>\n    <tr>\n      <th>24</th>\n      <td>Maize Yellow</td>\n      <td>7548CP</td>\n      <td>83.14, 5.01, 85.02</td>\n      <td>F2CA00</td>\n      <td>12.989638</td>\n    </tr>\n    <tr>\n      <th>34</th>\n      <td>Orange</td>\n      <td>1645C</td>\n      <td>65.69, 58.38, 58.65</td>\n      <td>FF6A39</td>\n      <td>11.935688</td>\n    </tr>\n    <tr>\n      <th>83</th>\n      <td>Heather Orange</td>\n      <td>1645 C</td>\n      <td>65.69, 58.38, 58.65</td>\n      <td>FF6A39</td>\n      <td>11.935688</td>\n    </tr>\n    <tr>\n      <th>73</th>\n      <td>Heather Kelly</td>\n      <td>340 C</td>\n      <td>51.80, -65.36, 14.55</td>\n      <td>00965E</td>\n      <td>11.553796</td>\n    </tr>\n    <tr>\n      <th>47</th>\n      <td>Teal</td>\n      <td>3262C</td>\n      <td>66.44, -59.33, -12.05</td>\n      <td>00BFB2</td>\n      <td>11.106415</td>\n    </tr>\n    <tr>\n      <th>104</th>\n      <td>Heather Yellow</td>\n      <td>100 CP</td>\n      <td>92.09, -6.83, 62.42</td>\n      <td>F6EB69</td>\n      <td>10.961603</td>\n    </tr>\n    <tr>\n      <th>9</th>\n      <td>Burnt Orange</td>\n      <td>159C</td>\n      <td>54.43, 43.54, 58.62</td>\n      <td>CB6015</td>\n      <td>10.749025</td>\n    </tr>\n    <tr>\n      <th>95</th>\n      <td>Heather Red</td>\n      <td>193C</td>\n      <td>42.79, 66.14, 27.76</td>\n      <td>BF0D3E</td>\n      <td>10.282757</td>\n    </tr>\n    <tr>\n      <th>105</th>\n      <td>Heather Yellow Gold</td>\n      <td>134 C</td>\n      <td>86.67, 8.31, 54.63</td>\n      <td>FDD26E</td>\n      <td>9.848363</td>\n    </tr>\n  </tbody>\n</table>\n</div>"
     },
     "execution_count": 99,
     "metadata": {},
     "output_type": "execute_result"
    }
   ],
   "source": [
    "sorted_remaining = remaining_colors.sort_values(by = \"Distance\", ascending=False)\n",
    "sorted_remaining.iloc[:].head(10)"
   ],
   "metadata": {
    "collapsed": false,
    "ExecuteTime": {
     "end_time": "2024-12-23T04:54:35.430010Z",
     "start_time": "2024-12-23T04:54:35.410104Z"
    }
   }
  },
  {
   "cell_type": "markdown",
   "source": [],
   "metadata": {
    "collapsed": false
   }
  },
  {
   "cell_type": "code",
   "execution_count": 100,
   "outputs": [
    {
     "data": {
      "text/plain": "            Shirt Color Pantone Color            L*a*b Value     HEX  \\\n0      Heather Ice Blue        317 CP   85.65, -11.38, -2.20  BDDDD9   \n1                 Berry        233 CP    45.38, 71.84, -7.30  C6057B   \n2         Oxblood Black       7449 CP    28.13, 16.23, -6.49  55394D   \n3                 White       White C              100, 0, 0  FFFFFF   \n4                   Ash        428 CP    78.50, -2.14, -0.31  BDC4C2   \n5                  Gold         137 C    76.47, 31.14, 81.64  FFA400   \n6                Yellow        100 CP    92.09, -6.83, 62.42  F6EB69   \n7             Deep Teal       3025 CP  32.45, -23.19, -27.24  005876   \n8        Heather Maroon       7644 CP    27.76, 25.21, -2.86  603147   \n9             Evergreen         343 C    31.90, -26.89, 6.33  115740   \n10                  Red         200 C    41.43, 65.63, 34.16  BA0C2F   \n11                 Leaf       2263 CP   57.33, -18.14, 19.97  729364   \n12                 Pink         705 C     89.66, 10.65, 1.15  F5DADF   \n13   Heather True Royal        286 CP    30.46, 7.90, -44.70  24468E   \n14  Heather Team Purple        2665 C   45.45, 34.51, -52.90  7D55C7   \n15    Solid Black Blend       Black C                0, 0, 0   00000   \n\n      Distance  \n0    40.600466  \n1    37.266797  \n2    50.268641  \n3    58.862833  \n4    46.271102  \n5    43.844745  \n6    40.189246  \n7    47.175581  \n8    49.522373  \n9    45.549278  \n10   41.150788  \n11   31.266613  \n12   41.655024  \n13   54.755998  \n14   42.699078  \n15  123.163600  ",
      "text/html": "<div>\n<style scoped>\n    .dataframe tbody tr th:only-of-type {\n        vertical-align: middle;\n    }\n\n    .dataframe tbody tr th {\n        vertical-align: top;\n    }\n\n    .dataframe thead th {\n        text-align: right;\n    }\n</style>\n<table border=\"1\" class=\"dataframe\">\n  <thead>\n    <tr style=\"text-align: right;\">\n      <th></th>\n      <th>Shirt Color</th>\n      <th>Pantone Color</th>\n      <th>L*a*b Value</th>\n      <th>HEX</th>\n      <th>Distance</th>\n    </tr>\n  </thead>\n  <tbody>\n    <tr>\n      <th>0</th>\n      <td>Heather Ice Blue</td>\n      <td>317 CP</td>\n      <td>85.65, -11.38, -2.20</td>\n      <td>BDDDD9</td>\n      <td>40.600466</td>\n    </tr>\n    <tr>\n      <th>1</th>\n      <td>Berry</td>\n      <td>233 CP</td>\n      <td>45.38, 71.84, -7.30</td>\n      <td>C6057B</td>\n      <td>37.266797</td>\n    </tr>\n    <tr>\n      <th>2</th>\n      <td>Oxblood Black</td>\n      <td>7449 CP</td>\n      <td>28.13, 16.23, -6.49</td>\n      <td>55394D</td>\n      <td>50.268641</td>\n    </tr>\n    <tr>\n      <th>3</th>\n      <td>White</td>\n      <td>White C</td>\n      <td>100, 0, 0</td>\n      <td>FFFFFF</td>\n      <td>58.862833</td>\n    </tr>\n    <tr>\n      <th>4</th>\n      <td>Ash</td>\n      <td>428 CP</td>\n      <td>78.50, -2.14, -0.31</td>\n      <td>BDC4C2</td>\n      <td>46.271102</td>\n    </tr>\n    <tr>\n      <th>5</th>\n      <td>Gold</td>\n      <td>137 C</td>\n      <td>76.47, 31.14, 81.64</td>\n      <td>FFA400</td>\n      <td>43.844745</td>\n    </tr>\n    <tr>\n      <th>6</th>\n      <td>Yellow</td>\n      <td>100 CP</td>\n      <td>92.09, -6.83, 62.42</td>\n      <td>F6EB69</td>\n      <td>40.189246</td>\n    </tr>\n    <tr>\n      <th>7</th>\n      <td>Deep Teal</td>\n      <td>3025 CP</td>\n      <td>32.45, -23.19, -27.24</td>\n      <td>005876</td>\n      <td>47.175581</td>\n    </tr>\n    <tr>\n      <th>8</th>\n      <td>Heather Maroon</td>\n      <td>7644 CP</td>\n      <td>27.76, 25.21, -2.86</td>\n      <td>603147</td>\n      <td>49.522373</td>\n    </tr>\n    <tr>\n      <th>9</th>\n      <td>Evergreen</td>\n      <td>343 C</td>\n      <td>31.90, -26.89, 6.33</td>\n      <td>115740</td>\n      <td>45.549278</td>\n    </tr>\n    <tr>\n      <th>10</th>\n      <td>Red</td>\n      <td>200 C</td>\n      <td>41.43, 65.63, 34.16</td>\n      <td>BA0C2F</td>\n      <td>41.150788</td>\n    </tr>\n    <tr>\n      <th>11</th>\n      <td>Leaf</td>\n      <td>2263 CP</td>\n      <td>57.33, -18.14, 19.97</td>\n      <td>729364</td>\n      <td>31.266613</td>\n    </tr>\n    <tr>\n      <th>12</th>\n      <td>Pink</td>\n      <td>705 C</td>\n      <td>89.66, 10.65, 1.15</td>\n      <td>F5DADF</td>\n      <td>41.655024</td>\n    </tr>\n    <tr>\n      <th>13</th>\n      <td>Heather True Royal</td>\n      <td>286 CP</td>\n      <td>30.46, 7.90, -44.70</td>\n      <td>24468E</td>\n      <td>54.755998</td>\n    </tr>\n    <tr>\n      <th>14</th>\n      <td>Heather Team Purple</td>\n      <td>2665 C</td>\n      <td>45.45, 34.51, -52.90</td>\n      <td>7D55C7</td>\n      <td>42.699078</td>\n    </tr>\n    <tr>\n      <th>15</th>\n      <td>Solid Black Blend</td>\n      <td>Black C</td>\n      <td>0, 0, 0</td>\n      <td>00000</td>\n      <td>123.163600</td>\n    </tr>\n  </tbody>\n</table>\n</div>"
     },
     "execution_count": 100,
     "metadata": {},
     "output_type": "execute_result"
    }
   ],
   "source": [
    "chosen_colors.head(16)"
   ],
   "metadata": {
    "collapsed": false,
    "ExecuteTime": {
     "end_time": "2024-12-23T04:59:34.219916Z",
     "start_time": "2024-12-23T04:59:34.214350Z"
    }
   }
  },
  {
   "cell_type": "code",
   "execution_count": null,
   "outputs": [],
   "source": [],
   "metadata": {
    "collapsed": false
   }
  }
 ],
 "metadata": {
  "kernelspec": {
   "display_name": "Python 3",
   "language": "python",
   "name": "python3"
  },
  "language_info": {
   "codemirror_mode": {
    "name": "ipython",
    "version": 2
   },
   "file_extension": ".py",
   "mimetype": "text/x-python",
   "name": "python",
   "nbconvert_exporter": "python",
   "pygments_lexer": "ipython2",
   "version": "2.7.6"
  }
 },
 "nbformat": 4,
 "nbformat_minor": 0
}
