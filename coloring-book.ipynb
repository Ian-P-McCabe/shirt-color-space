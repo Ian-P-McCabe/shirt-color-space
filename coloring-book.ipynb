{
 "cells": [
  {
   "cell_type": "code",
   "execution_count": 75,
   "metadata": {
    "collapsed": true,
    "ExecuteTime": {
     "end_time": "2024-12-23T03:59:46.252547Z",
     "start_time": "2024-12-23T03:59:46.237162Z"
    }
   },
   "outputs": [],
   "source": [
    "import pandas as pd\n",
    "import numpy\n",
    "\n",
    "#Fix colormath depreciated numpy method\n",
    "def patch_asscalar(a):\n",
    "    return a.item()\n",
    "setattr(numpy, \"asscalar\", patch_asscalar)\n",
    "\n",
    "#Import data\n",
    "all_colors = pd.read_csv(\"data/all-colors.csv\")\n",
    "chosen_colors = pd.read_csv(\"data/chosen-colors.csv\")\n",
    "\n",
    "#Remove chosen colors\n",
    "condition = all_colors[\"Shirt Color Name\"].isin(chosen_colors[\"Shirt Color\"])\n",
    "remaining_colors = all_colors.drop(all_colors[condition].index, inplace=False)\n",
    "\n",
    "#Confirm removal\n",
    "# print(len(remaining_colors))\n",
    "# print(len(all_colors))\n",
    "# print(len(chosen_colors))"
   ]
  },
  {
   "cell_type": "code",
   "execution_count": 80,
   "outputs": [],
   "source": [
    "import colormath.color_objects as co\n",
    "import colormath.color_diff as cdiff\n",
    "\n",
    "def compute_average_distance(row):\n",
    "    #color_name = row[\"Shirt Color\"]\n",
    "    color_Lab = None\n",
    "    try:\n",
    "        color_Lab = co.LabColor(*map(float, row[\"L*a*b Value\"].split(\", \")))\n",
    "    except ValueError:\n",
    "            print(\"there was an error\")\n",
    "            print(\"The color is \" + row[\"Shirt Color\"])\n",
    "    distances = []\n",
    "\n",
    "    #Compute all distances\n",
    "    for index, row_remaining in remaining_colors.iterrows():\n",
    "        other_color = co.LabColor(*map(float, row_remaining[\"L*a*b Value\"].split(\", \")))\n",
    "\n",
    "        #Human perceived distance from target to remaining colors, based off perception 1,1\n",
    "        try:\n",
    "            distance = cdiff.delta_e_cmc(color_Lab, other_color, pl=1, pc=1)\n",
    "        except ValueError:\n",
    "            print(\"there was an error\")\n",
    "            print(\"The color is\" + row_remaining[\"Shirt Color\"])\n",
    "\n",
    "        distances += [distance]\n",
    "\n",
    "    average_distance = sum(distances)/len(remaining_colors)\n",
    "\n",
    "    row[\"Distance\"] = average_distance\n",
    "    return row\n",
    "\n",
    "remaining_colors = remaining_colors.apply(compute_average_distance, axis=1)"
   ],
   "metadata": {
    "collapsed": false,
    "ExecuteTime": {
     "end_time": "2024-12-23T04:01:40.365324Z",
     "start_time": "2024-12-23T04:01:39.434783Z"
    }
   }
  },
  {
   "cell_type": "code",
   "execution_count": 83,
   "outputs": [
    {
     "data": {
      "text/plain": "          Shirt Color Name PMS Color Code           L*a*b Value     Hex  \\\n51           Vintage Black          419 C    13.35, -1.03, 0.45  212322   \n48             Team Purple          2695C  14.26, 17.59, -24.18  2E1A47   \n7                    Black        Black C     17.06, 1.29, 2.54  2D2926   \n31                    Navy           533C   16.99, 2.57, -18.63  202A44   \n18                  Forest         5535 C   17.54, -12.05, 1.20  183029   \n77   Heather Midnight Navy        2380 CP   24.29, 1.30, -11.02  343A4A   \n8                    Brown          440CP     25.05, 3.33, 6.64  423A31   \n107      Solid White Blend         WhiteC             100, 0, 0  FFFFFF   \n63        Heather Cardinal         7421 C    24.16, 35.71, 6.28  651C32   \n56           Black Heather     BLACK 7 CP     27.28, 2.57, 5.49  454038   \n\n      Distance  \n51   97.929101  \n48   90.085017  \n7    85.494305  \n31   85.408818  \n18   79.977051  \n77   63.893376  \n8    60.741023  \n107  58.862833  \n63   56.781678  \n56   56.202490  ",
      "text/html": "<div>\n<style scoped>\n    .dataframe tbody tr th:only-of-type {\n        vertical-align: middle;\n    }\n\n    .dataframe tbody tr th {\n        vertical-align: top;\n    }\n\n    .dataframe thead th {\n        text-align: right;\n    }\n</style>\n<table border=\"1\" class=\"dataframe\">\n  <thead>\n    <tr style=\"text-align: right;\">\n      <th></th>\n      <th>Shirt Color Name</th>\n      <th>PMS Color Code</th>\n      <th>L*a*b Value</th>\n      <th>Hex</th>\n      <th>Distance</th>\n    </tr>\n  </thead>\n  <tbody>\n    <tr>\n      <th>51</th>\n      <td>Vintage Black</td>\n      <td>419 C</td>\n      <td>13.35, -1.03, 0.45</td>\n      <td>212322</td>\n      <td>97.929101</td>\n    </tr>\n    <tr>\n      <th>48</th>\n      <td>Team Purple</td>\n      <td>2695C</td>\n      <td>14.26, 17.59, -24.18</td>\n      <td>2E1A47</td>\n      <td>90.085017</td>\n    </tr>\n    <tr>\n      <th>7</th>\n      <td>Black</td>\n      <td>Black C</td>\n      <td>17.06, 1.29, 2.54</td>\n      <td>2D2926</td>\n      <td>85.494305</td>\n    </tr>\n    <tr>\n      <th>31</th>\n      <td>Navy</td>\n      <td>533C</td>\n      <td>16.99, 2.57, -18.63</td>\n      <td>202A44</td>\n      <td>85.408818</td>\n    </tr>\n    <tr>\n      <th>18</th>\n      <td>Forest</td>\n      <td>5535 C</td>\n      <td>17.54, -12.05, 1.20</td>\n      <td>183029</td>\n      <td>79.977051</td>\n    </tr>\n    <tr>\n      <th>77</th>\n      <td>Heather Midnight Navy</td>\n      <td>2380 CP</td>\n      <td>24.29, 1.30, -11.02</td>\n      <td>343A4A</td>\n      <td>63.893376</td>\n    </tr>\n    <tr>\n      <th>8</th>\n      <td>Brown</td>\n      <td>440CP</td>\n      <td>25.05, 3.33, 6.64</td>\n      <td>423A31</td>\n      <td>60.741023</td>\n    </tr>\n    <tr>\n      <th>107</th>\n      <td>Solid White Blend</td>\n      <td>WhiteC</td>\n      <td>100, 0, 0</td>\n      <td>FFFFFF</td>\n      <td>58.862833</td>\n    </tr>\n    <tr>\n      <th>63</th>\n      <td>Heather Cardinal</td>\n      <td>7421 C</td>\n      <td>24.16, 35.71, 6.28</td>\n      <td>651C32</td>\n      <td>56.781678</td>\n    </tr>\n    <tr>\n      <th>56</th>\n      <td>Black Heather</td>\n      <td>BLACK 7 CP</td>\n      <td>27.28, 2.57, 5.49</td>\n      <td>454038</td>\n      <td>56.202490</td>\n    </tr>\n  </tbody>\n</table>\n</div>"
     },
     "execution_count": 83,
     "metadata": {},
     "output_type": "execute_result"
    }
   ],
   "source": [
    "sorted_remaining = remaining_colors.sort_values(by = \"Distance\", ascending=False)\n",
    "sorted_remaining.iloc[:].head(10)"
   ],
   "metadata": {
    "collapsed": false,
    "ExecuteTime": {
     "end_time": "2024-12-23T04:02:35.884189Z",
     "start_time": "2024-12-23T04:02:35.880258Z"
    }
   }
  },
  {
   "cell_type": "markdown",
   "source": [],
   "metadata": {
    "collapsed": false
   }
  },
  {
   "cell_type": "code",
   "execution_count": null,
   "outputs": [],
   "source": [],
   "metadata": {
    "collapsed": false
   }
  }
 ],
 "metadata": {
  "kernelspec": {
   "display_name": "Python 3",
   "language": "python",
   "name": "python3"
  },
  "language_info": {
   "codemirror_mode": {
    "name": "ipython",
    "version": 2
   },
   "file_extension": ".py",
   "mimetype": "text/x-python",
   "name": "python",
   "nbconvert_exporter": "python",
   "pygments_lexer": "ipython2",
   "version": "2.7.6"
  }
 },
 "nbformat": 4,
 "nbformat_minor": 0
}
