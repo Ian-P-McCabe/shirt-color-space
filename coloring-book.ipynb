{
 "cells": [
  {
   "cell_type": "code",
   "execution_count": 3,
   "metadata": {
    "collapsed": true,
    "ExecuteTime": {
     "end_time": "2024-12-24T06:53:34.114471Z",
     "start_time": "2024-12-24T06:53:32.915492Z"
    }
   },
   "outputs": [],
   "source": [
    "import numpy as np\n",
    "import pandas as pd\n",
    "import numpy\n",
    "import matplotlib.pyplot as plt\n",
    "\n",
    "#Fix colormath depreciated numpy method\n",
    "def patch_asscalar(a):\n",
    "    return a.item()\n",
    "setattr(numpy, \"asscalar\", patch_asscalar)\n",
    "\n",
    "#Import data\n",
    "all_colors = pd.read_csv(\"data/all-colors.csv\")\n",
    "chosen_colors = pd.read_csv(\"data/chosen-colors.csv\")\n",
    "\n",
    "#Remove chosen colors\n",
    "condition = all_colors[\"Shirt Color Name\"].isin(chosen_colors[\"Shirt Color\"])\n",
    "remaining_colors = all_colors.drop(all_colors[condition].index, inplace=False)\n",
    "\n",
    "#Confirm removal\n",
    "# print(len(remaining_colors))\n",
    "# print(len(all_colors))\n",
    "# print(len(chosen_colors))"
   ]
  },
  {
   "cell_type": "markdown",
   "source": [
    "# Find Most Distant Colors to Chosen Colors"
   ],
   "metadata": {
    "collapsed": false
   }
  },
  {
   "cell_type": "code",
   "execution_count": 4,
   "outputs": [],
   "source": [
    "import colormath.color_objects as co\n",
    "import colormath.color_diff as cdiff\n",
    "\n",
    "def compute_average_distance(row):\n",
    "    color_Lab = None\n",
    "\n",
    "    color_Lab = co.LabColor(*map(float, row[\"L*a*b Value\"].split(\", \")))\n",
    "\n",
    "    distances = []\n",
    "\n",
    "    #Compute all distances from chosen colors\n",
    "    for index, row_remaining in chosen_colors.iterrows():\n",
    "        other_color = co.LabColor(*map(float, row_remaining[\"L*a*b Value\"].split(\", \")))\n",
    "\n",
    "        #Newer, asymmetric formula, weighted for fabrics, using\n",
    "        distance = cdiff.delta_e_cmc(other_color, color_Lab , pl=2, pc=1)\n",
    "\n",
    "        #Older symmetric formula, weighted for fabrics\n",
    "        #distance = cdiff.delta_e_cie2000(color_Lab, other_color,Kl=2, Kc=1, Kh=1)\n",
    "\n",
    "        distances += [distance]\n",
    "\n",
    "    average_distance = sum(distances)/len(remaining_colors)\n",
    "\n",
    "    row[\"Distance\"] = average_distance\n",
    "    return row\n",
    "\n",
    "remaining_colors = remaining_colors.apply(compute_average_distance, axis=1)"
   ],
   "metadata": {
    "collapsed": false,
    "ExecuteTime": {
     "end_time": "2024-12-24T06:53:34.303616Z",
     "start_time": "2024-12-24T06:53:34.117991Z"
    }
   }
  },
  {
   "cell_type": "code",
   "execution_count": 5,
   "outputs": [
    {
     "data": {
      "text/plain": "        Shirt Color Name PMS Color Code            L*a*b Value     Hex  \\\n37                 Poppy          2347C    49.45, 75.12, 67.21  E10600   \n24          Maize Yellow         7548CP     83.14, 5.01, 85.02  F2CA00   \n34                Orange          1645C    65.69, 58.38, 58.65  FF6A39   \n83        Heather Orange         1645 C    65.69, 58.38, 58.65  FF6A39   \n73         Heather Kelly          340 C   51.80, -65.36, 14.55  00965E   \n47                  Teal          3262C  66.44, -59.33, -12.05  00BFB2   \n104       Heather Yellow         100 CP    92.09, -6.83, 62.42  F6EB69   \n9           Burnt Orange           159C    54.43, 43.54, 58.62  CB6015   \n95           Heather Red           193C    42.79, 66.14, 27.76  BF0D3E   \n105  Heather Yellow Gold          134 C     86.67, 8.31, 54.63  FDD26E   \n\n      Distance  \n37   13.722151  \n24   12.989638  \n34   11.935688  \n83   11.935688  \n73   11.553796  \n47   11.106415  \n104  10.961603  \n9    10.749025  \n95   10.282757  \n105   9.848363  ",
      "text/html": "<div>\n<style scoped>\n    .dataframe tbody tr th:only-of-type {\n        vertical-align: middle;\n    }\n\n    .dataframe tbody tr th {\n        vertical-align: top;\n    }\n\n    .dataframe thead th {\n        text-align: right;\n    }\n</style>\n<table border=\"1\" class=\"dataframe\">\n  <thead>\n    <tr style=\"text-align: right;\">\n      <th></th>\n      <th>Shirt Color Name</th>\n      <th>PMS Color Code</th>\n      <th>L*a*b Value</th>\n      <th>Hex</th>\n      <th>Distance</th>\n    </tr>\n  </thead>\n  <tbody>\n    <tr>\n      <th>37</th>\n      <td>Poppy</td>\n      <td>2347C</td>\n      <td>49.45, 75.12, 67.21</td>\n      <td>E10600</td>\n      <td>13.722151</td>\n    </tr>\n    <tr>\n      <th>24</th>\n      <td>Maize Yellow</td>\n      <td>7548CP</td>\n      <td>83.14, 5.01, 85.02</td>\n      <td>F2CA00</td>\n      <td>12.989638</td>\n    </tr>\n    <tr>\n      <th>34</th>\n      <td>Orange</td>\n      <td>1645C</td>\n      <td>65.69, 58.38, 58.65</td>\n      <td>FF6A39</td>\n      <td>11.935688</td>\n    </tr>\n    <tr>\n      <th>83</th>\n      <td>Heather Orange</td>\n      <td>1645 C</td>\n      <td>65.69, 58.38, 58.65</td>\n      <td>FF6A39</td>\n      <td>11.935688</td>\n    </tr>\n    <tr>\n      <th>73</th>\n      <td>Heather Kelly</td>\n      <td>340 C</td>\n      <td>51.80, -65.36, 14.55</td>\n      <td>00965E</td>\n      <td>11.553796</td>\n    </tr>\n    <tr>\n      <th>47</th>\n      <td>Teal</td>\n      <td>3262C</td>\n      <td>66.44, -59.33, -12.05</td>\n      <td>00BFB2</td>\n      <td>11.106415</td>\n    </tr>\n    <tr>\n      <th>104</th>\n      <td>Heather Yellow</td>\n      <td>100 CP</td>\n      <td>92.09, -6.83, 62.42</td>\n      <td>F6EB69</td>\n      <td>10.961603</td>\n    </tr>\n    <tr>\n      <th>9</th>\n      <td>Burnt Orange</td>\n      <td>159C</td>\n      <td>54.43, 43.54, 58.62</td>\n      <td>CB6015</td>\n      <td>10.749025</td>\n    </tr>\n    <tr>\n      <th>95</th>\n      <td>Heather Red</td>\n      <td>193C</td>\n      <td>42.79, 66.14, 27.76</td>\n      <td>BF0D3E</td>\n      <td>10.282757</td>\n    </tr>\n    <tr>\n      <th>105</th>\n      <td>Heather Yellow Gold</td>\n      <td>134 C</td>\n      <td>86.67, 8.31, 54.63</td>\n      <td>FDD26E</td>\n      <td>9.848363</td>\n    </tr>\n  </tbody>\n</table>\n</div>"
     },
     "execution_count": 5,
     "metadata": {},
     "output_type": "execute_result"
    }
   ],
   "source": [
    "sorted_remaining = remaining_colors.sort_values(by = \"Distance\", ascending=False)\n",
    "sorted_remaining.iloc[:].head(10)"
   ],
   "metadata": {
    "collapsed": false,
    "ExecuteTime": {
     "end_time": "2024-12-24T06:53:34.316492Z",
     "start_time": "2024-12-24T06:53:34.305906Z"
    }
   }
  },
  {
   "cell_type": "code",
   "execution_count": 6,
   "outputs": [
    {
     "data": {
      "text/plain": "'[{\"Shirt Color\":\"Heather Ice Blue\",\"Pantone Color\":\"317 CP\",\"L*a*b Value\":\"85.65, -11.38, -2.20\",\"HEX\":\"BDDDD9\"},{\"Shirt Color\":\"Berry\",\"Pantone Color\":\"233 CP\",\"L*a*b Value\":\"45.38, 71.84, -7.30\",\"HEX\":\"C6057B\"},{\"Shirt Color\":\"Oxblood Black\",\"Pantone Color\":\"7449 CP\",\"L*a*b Value\":\"28.13, 16.23, -6.49\",\"HEX\":\"55394D\"},{\"Shirt Color\":\"White\",\"Pantone Color\":\"White C\",\"L*a*b Value\":\"100, 0, 0\",\"HEX\":\"FFFFFF\"},{\"Shirt Color\":\"Ash\",\"Pantone Color\":\"428 CP\",\"L*a*b Value\":\"78.50, -2.14, -0.31\",\"HEX\":\"BDC4C2\"},{\"Shirt Color\":\"Gold\",\"Pantone Color\":\"137 C\",\"L*a*b Value\":\"76.47, 31.14, 81.64\",\"HEX\":\"FFA400\"},{\"Shirt Color\":\"Yellow\",\"Pantone Color\":\"100 CP\",\"L*a*b Value\":\"92.09, -6.83, 62.42\",\"HEX\":\"F6EB69\"},{\"Shirt Color\":\"Deep Teal\",\"Pantone Color\":\"3025 CP\",\"L*a*b Value\":\"32.45, -23.19, -27.24\",\"HEX\":\"005876\"},{\"Shirt Color\":\"Heather Maroon\",\"Pantone Color\":\"7644 CP\",\"L*a*b Value\":\"27.76, 25.21, -2.86\",\"HEX\":\"603147\"},{\"Shirt Color\":\"Evergreen\",\"Pantone Color\":\"343 C\",\"L*a*b Value\":\"31.90, -26.89, 6.33\",\"HEX\":\"115740\"},{\"Shirt Color\":\"Red\",\"Pantone Color\":\"200 C\",\"L*a*b Value\":\"41.43, 65.63, 34.16\",\"HEX\":\"BA0C2F\"},{\"Shirt Color\":\"Leaf\",\"Pantone Color\":\"2263 CP\",\"L*a*b Value\":\"57.33, -18.14, 19.97\",\"HEX\":\"729364\"},{\"Shirt Color\":\"Pink\",\"Pantone Color\":\"705 C\",\"L*a*b Value\":\"89.66, 10.65, 1.15\",\"HEX\":\"F5DADF\"},{\"Shirt Color\":\"Heather True Royal\",\"Pantone Color\":\"286 CP\",\"L*a*b Value\":\"30.46, 7.90, -44.70\",\"HEX\":\"24468E\"},{\"Shirt Color\":\"Heather Team Purple\",\"Pantone Color\":\"2665 C\",\"L*a*b Value\":\"45.45, 34.51, -52.90\",\"HEX\":\"7D55C7\"},{\"Shirt Color\":\"Solid Black Blend\",\"Pantone Color\":\"Black C\",\"L*a*b Value\":\"0, 0, 0\",\"HEX\":\"000000\"}]'"
     },
     "execution_count": 6,
     "metadata": {},
     "output_type": "execute_result"
    }
   ],
   "source": [
    "chosen_colors.to_json(orient=\"records\")"
   ],
   "metadata": {
    "collapsed": false,
    "ExecuteTime": {
     "end_time": "2024-12-24T06:53:34.321626Z",
     "start_time": "2024-12-24T06:53:34.319602Z"
    }
   }
  },
  {
   "cell_type": "code",
   "execution_count": 7,
   "outputs": [
    {
     "name": "stdout",
     "output_type": "stream",
     "text": [
      "    Gold    Orange    Burnt Orange\n",
      "[0.0, 24.24013342020266, 17.480586695643115]\n",
      "[26.402279861193914, 0.0, 9.887678740145626]\n",
      "[22.286845806880518, 11.611165190695397, 0.0]\n"
     ]
    }
   ],
   "source": [
    "#Orange to Gold\n",
    "\n",
    "orange = all_colors[all_colors[\"Shirt Color Name\"] == \"Orange\"]\n",
    "gold = all_colors[all_colors[\"Shirt Color Name\"] == \"Gold\"]\n",
    "burnt_orange = all_colors[all_colors[\"Shirt Color Name\"] == \"Burnt Orange\"]\n",
    "\n",
    "comparison_list = [gold, orange, burnt_orange]\n",
    "\n",
    "comparison_matrix = [[0]*3 for i in range(3)]\n",
    "\n",
    "for i in range(len(comparison_list)):\n",
    "    for j in range(len(comparison_matrix)):\n",
    "        #I really should just fix the tables\n",
    "        target_color = co.LabColor(*map(float,comparison_list[i].iloc[0][\"L*a*b Value\"].split(\", \")))\n",
    "        comparison_color = co.LabColor(*map(float,comparison_list[j].iloc[0][\"L*a*b Value\"].split(\", \")))\n",
    "\n",
    "        #Newer formula\n",
    "        distance = cdiff.delta_e_cmc(target_color, comparison_color, pl=2, pc=1)\n",
    "\n",
    "        comparison_matrix[i][j] = distance\n",
    "\n",
    "print(\"    Gold    Orange    Burnt Orange\")\n",
    "for row in comparison_matrix:\n",
    "    print(row)"
   ],
   "metadata": {
    "collapsed": false,
    "ExecuteTime": {
     "end_time": "2024-12-24T06:53:34.386640Z",
     "start_time": "2024-12-24T06:53:34.327082Z"
    }
   }
  },
  {
   "cell_type": "code",
   "execution_count": 8,
   "outputs": [],
   "source": [
    "import networkx as nx\n",
    "\n",
    "# Let's make an adjacency matrix representing color distances to/from each other\n",
    "adjacency_matrix = pd.DataFrame(np.zeros(shape=(16, 16)),\n",
    "columns = chosen_colors[\"Shirt Color\"].unique(), index=chosen_colors[\"Shirt Color\"].unique())\n",
    "\n",
    "for index_a, row_a in chosen_colors.iterrows():\n",
    "    for index_b, row_b in chosen_colors.iterrows():\n",
    "        color_a = co.LabColor(*map(float, row_a[\"L*a*b Value\"].split(\", \")))\n",
    "        color_b = co.LabColor(*map(float, row_b[\"L*a*b Value\"].split(\", \")))\n",
    "\n",
    "        distance = cdiff.delta_e_cie2000(color_a, color_b, Kl=2, Kc=1, Kh=1)\n",
    "\n",
    "        adjacency_matrix.at[row_a[\"Shirt Color\"], row_b[\"Shirt Color\"]] = distance\n"
   ],
   "metadata": {
    "collapsed": false,
    "ExecuteTime": {
     "end_time": "2024-12-24T06:53:34.608406Z",
     "start_time": "2024-12-24T06:53:34.377965Z"
    }
   }
  },
  {
   "cell_type": "markdown",
   "source": [
    "# Plot the Chosen Colors"
   ],
   "metadata": {
    "collapsed": false
   }
  },
  {
   "cell_type": "code",
   "execution_count": 9,
   "outputs": [],
   "source": [
    "import plotly.express as px\n",
    "\n",
    "import plotly.express as px\n",
    "import plotly.graph_objects as go\n",
    "\n",
    "# Assuming your CSV has columns: \"Shirt Color\", \"Pantone Color\", \"L*a*b Value\", \"HEX\"\n",
    "df = pd.read_csv('data/chosen-colors.csv')\n",
    "\n",
    "sorted_fixed_columns = sorted_remaining.drop('Distance', axis=1)\n",
    "\n",
    "sorted_fixed_columns.columns = df.columns\n",
    "\n",
    "def prepend_star(row):\n",
    "    row[\"Shirt Color\"] = \"*\" + row[\"Shirt Color\"]\n",
    "    return row\n",
    "\n",
    "sorted_fixed_columns = sorted_fixed_columns.apply(prepend_star, axis=1)\n",
    "\n",
    "sorted_fixed_columns.head()\n",
    "\n",
    "df.head()\n",
    "df = pd.concat([df, sorted_fixed_columns.iloc[0:10]], ignore_index=True)\n",
    "\n",
    "\n",
    "# Parse the L*a*b values from the string format\n",
    "df[['L', 'a', 'b']] = df['L*a*b Value'].str.split(', ', expand=True).astype(float)\n",
    "\n",
    "# Create the 3D scatter plot\n",
    "fig = go.Figure(data=[go.Scatter3d(\n",
    "    x=df['a'],        # a* axis (green-red)\n",
    "    y=df['L'],        # L* axis (lightness)\n",
    "    z=df['b'],        # b* axis (blue-yellow)\n",
    "    mode='markers+text',\n",
    "    text=df['Shirt Color'],\n",
    "    hovertemplate=\n",
    "        '<b>%{text}</b><br>' +\n",
    "        'L*: %{y:.1f}<br>' +\n",
    "        'a*: %{x:.1f}<br>' +\n",
    "        'b*: %{z:.1f}<br>',\n",
    "    marker=dict(\n",
    "        size=10,\n",
    "        color=['#' + hex.strip() for hex in df['HEX']],  # Use actual hex colors\n",
    "        opacity=0.8\n",
    "    ),\n",
    "    textposition='top center'\n",
    ")])\n",
    "\n",
    "# Update the layout\n",
    "fig.update_layout(\n",
    "    title='Colors in LAB Space',\n",
    "    scene=dict(\n",
    "        xaxis_title='a* (green to red)',\n",
    "        yaxis_title='L* (black to white)',\n",
    "        zaxis_title='b* (blue to yellow)',\n",
    "        # Set appropriate ranges for each axis\n",
    "        xaxis=dict(range=[-128, 128]),\n",
    "        yaxis=dict(range=[0, 100]),\n",
    "        zaxis=dict(range=[-128, 128])\n",
    "    ),\n",
    "    width=1000,\n",
    "    height=800,\n",
    "    showlegend=False\n",
    ")\n",
    "\n",
    "# Add better camera angle\n",
    "fig.update_layout(scene_camera=dict(\n",
    "    up=dict(x=0, y=1, z=0),\n",
    "    center=dict(x=0, y=0, z=0),\n",
    "    eye=dict(x=1.5, y=1.5, z=1.5)\n",
    "))\n",
    "\n",
    "# Show the plot\n",
    "#fig.show()\n",
    "\n",
    "fig.write_html(\"lab_color_space_ECMC.html\")"
   ],
   "metadata": {
    "collapsed": false,
    "ExecuteTime": {
     "end_time": "2024-12-24T06:53:34.762970Z",
     "start_time": "2024-12-24T06:53:34.614488Z"
    }
   }
  },
  {
   "cell_type": "code",
   "execution_count": 10,
   "outputs": [
    {
     "data": {
      "text/plain": "            Shirt Color Pantone Color            L*a*b Value     HEX       L  \\\n0      Heather Ice Blue        317 CP   85.65, -11.38, -2.20  BDDDD9   85.65   \n1                 Berry        233 CP    45.38, 71.84, -7.30  C6057B   45.38   \n2         Oxblood Black       7449 CP    28.13, 16.23, -6.49  55394D   28.13   \n3                 White       White C              100, 0, 0  FFFFFF  100.00   \n4                   Ash        428 CP    78.50, -2.14, -0.31  BDC4C2   78.50   \n5                  Gold         137 C    76.47, 31.14, 81.64  FFA400   76.47   \n6                Yellow        100 CP    92.09, -6.83, 62.42  F6EB69   92.09   \n7             Deep Teal       3025 CP  32.45, -23.19, -27.24  005876   32.45   \n8        Heather Maroon       7644 CP    27.76, 25.21, -2.86  603147   27.76   \n9             Evergreen         343 C    31.90, -26.89, 6.33  115740   31.90   \n10                  Red         200 C    41.43, 65.63, 34.16  BA0C2F   41.43   \n11                 Leaf       2263 CP   57.33, -18.14, 19.97  729364   57.33   \n12                 Pink         705 C     89.66, 10.65, 1.15  F5DADF   89.66   \n13   Heather True Royal        286 CP    30.46, 7.90, -44.70  24468E   30.46   \n14  Heather Team Purple        2665 C   45.45, 34.51, -52.90  7D55C7   45.45   \n15    Solid Black Blend       Black C                0, 0, 0  000000    0.00   \n16               *Poppy         2347C    49.45, 75.12, 67.21  E10600   49.45   \n17        *Maize Yellow        7548CP     83.14, 5.01, 85.02  F2CA00   83.14   \n18              *Orange         1645C    65.69, 58.38, 58.65  FF6A39   65.69   \n19      *Heather Orange        1645 C    65.69, 58.38, 58.65  FF6A39   65.69   \n\n        a      b  \n0  -11.38  -2.20  \n1   71.84  -7.30  \n2   16.23  -6.49  \n3    0.00   0.00  \n4   -2.14  -0.31  \n5   31.14  81.64  \n6   -6.83  62.42  \n7  -23.19 -27.24  \n8   25.21  -2.86  \n9  -26.89   6.33  \n10  65.63  34.16  \n11 -18.14  19.97  \n12  10.65   1.15  \n13   7.90 -44.70  \n14  34.51 -52.90  \n15   0.00   0.00  \n16  75.12  67.21  \n17   5.01  85.02  \n18  58.38  58.65  \n19  58.38  58.65  ",
      "text/html": "<div>\n<style scoped>\n    .dataframe tbody tr th:only-of-type {\n        vertical-align: middle;\n    }\n\n    .dataframe tbody tr th {\n        vertical-align: top;\n    }\n\n    .dataframe thead th {\n        text-align: right;\n    }\n</style>\n<table border=\"1\" class=\"dataframe\">\n  <thead>\n    <tr style=\"text-align: right;\">\n      <th></th>\n      <th>Shirt Color</th>\n      <th>Pantone Color</th>\n      <th>L*a*b Value</th>\n      <th>HEX</th>\n      <th>L</th>\n      <th>a</th>\n      <th>b</th>\n    </tr>\n  </thead>\n  <tbody>\n    <tr>\n      <th>0</th>\n      <td>Heather Ice Blue</td>\n      <td>317 CP</td>\n      <td>85.65, -11.38, -2.20</td>\n      <td>BDDDD9</td>\n      <td>85.65</td>\n      <td>-11.38</td>\n      <td>-2.20</td>\n    </tr>\n    <tr>\n      <th>1</th>\n      <td>Berry</td>\n      <td>233 CP</td>\n      <td>45.38, 71.84, -7.30</td>\n      <td>C6057B</td>\n      <td>45.38</td>\n      <td>71.84</td>\n      <td>-7.30</td>\n    </tr>\n    <tr>\n      <th>2</th>\n      <td>Oxblood Black</td>\n      <td>7449 CP</td>\n      <td>28.13, 16.23, -6.49</td>\n      <td>55394D</td>\n      <td>28.13</td>\n      <td>16.23</td>\n      <td>-6.49</td>\n    </tr>\n    <tr>\n      <th>3</th>\n      <td>White</td>\n      <td>White C</td>\n      <td>100, 0, 0</td>\n      <td>FFFFFF</td>\n      <td>100.00</td>\n      <td>0.00</td>\n      <td>0.00</td>\n    </tr>\n    <tr>\n      <th>4</th>\n      <td>Ash</td>\n      <td>428 CP</td>\n      <td>78.50, -2.14, -0.31</td>\n      <td>BDC4C2</td>\n      <td>78.50</td>\n      <td>-2.14</td>\n      <td>-0.31</td>\n    </tr>\n    <tr>\n      <th>5</th>\n      <td>Gold</td>\n      <td>137 C</td>\n      <td>76.47, 31.14, 81.64</td>\n      <td>FFA400</td>\n      <td>76.47</td>\n      <td>31.14</td>\n      <td>81.64</td>\n    </tr>\n    <tr>\n      <th>6</th>\n      <td>Yellow</td>\n      <td>100 CP</td>\n      <td>92.09, -6.83, 62.42</td>\n      <td>F6EB69</td>\n      <td>92.09</td>\n      <td>-6.83</td>\n      <td>62.42</td>\n    </tr>\n    <tr>\n      <th>7</th>\n      <td>Deep Teal</td>\n      <td>3025 CP</td>\n      <td>32.45, -23.19, -27.24</td>\n      <td>005876</td>\n      <td>32.45</td>\n      <td>-23.19</td>\n      <td>-27.24</td>\n    </tr>\n    <tr>\n      <th>8</th>\n      <td>Heather Maroon</td>\n      <td>7644 CP</td>\n      <td>27.76, 25.21, -2.86</td>\n      <td>603147</td>\n      <td>27.76</td>\n      <td>25.21</td>\n      <td>-2.86</td>\n    </tr>\n    <tr>\n      <th>9</th>\n      <td>Evergreen</td>\n      <td>343 C</td>\n      <td>31.90, -26.89, 6.33</td>\n      <td>115740</td>\n      <td>31.90</td>\n      <td>-26.89</td>\n      <td>6.33</td>\n    </tr>\n    <tr>\n      <th>10</th>\n      <td>Red</td>\n      <td>200 C</td>\n      <td>41.43, 65.63, 34.16</td>\n      <td>BA0C2F</td>\n      <td>41.43</td>\n      <td>65.63</td>\n      <td>34.16</td>\n    </tr>\n    <tr>\n      <th>11</th>\n      <td>Leaf</td>\n      <td>2263 CP</td>\n      <td>57.33, -18.14, 19.97</td>\n      <td>729364</td>\n      <td>57.33</td>\n      <td>-18.14</td>\n      <td>19.97</td>\n    </tr>\n    <tr>\n      <th>12</th>\n      <td>Pink</td>\n      <td>705 C</td>\n      <td>89.66, 10.65, 1.15</td>\n      <td>F5DADF</td>\n      <td>89.66</td>\n      <td>10.65</td>\n      <td>1.15</td>\n    </tr>\n    <tr>\n      <th>13</th>\n      <td>Heather True Royal</td>\n      <td>286 CP</td>\n      <td>30.46, 7.90, -44.70</td>\n      <td>24468E</td>\n      <td>30.46</td>\n      <td>7.90</td>\n      <td>-44.70</td>\n    </tr>\n    <tr>\n      <th>14</th>\n      <td>Heather Team Purple</td>\n      <td>2665 C</td>\n      <td>45.45, 34.51, -52.90</td>\n      <td>7D55C7</td>\n      <td>45.45</td>\n      <td>34.51</td>\n      <td>-52.90</td>\n    </tr>\n    <tr>\n      <th>15</th>\n      <td>Solid Black Blend</td>\n      <td>Black C</td>\n      <td>0, 0, 0</td>\n      <td>000000</td>\n      <td>0.00</td>\n      <td>0.00</td>\n      <td>0.00</td>\n    </tr>\n    <tr>\n      <th>16</th>\n      <td>*Poppy</td>\n      <td>2347C</td>\n      <td>49.45, 75.12, 67.21</td>\n      <td>E10600</td>\n      <td>49.45</td>\n      <td>75.12</td>\n      <td>67.21</td>\n    </tr>\n    <tr>\n      <th>17</th>\n      <td>*Maize Yellow</td>\n      <td>7548CP</td>\n      <td>83.14, 5.01, 85.02</td>\n      <td>F2CA00</td>\n      <td>83.14</td>\n      <td>5.01</td>\n      <td>85.02</td>\n    </tr>\n    <tr>\n      <th>18</th>\n      <td>*Orange</td>\n      <td>1645C</td>\n      <td>65.69, 58.38, 58.65</td>\n      <td>FF6A39</td>\n      <td>65.69</td>\n      <td>58.38</td>\n      <td>58.65</td>\n    </tr>\n    <tr>\n      <th>19</th>\n      <td>*Heather Orange</td>\n      <td>1645 C</td>\n      <td>65.69, 58.38, 58.65</td>\n      <td>FF6A39</td>\n      <td>65.69</td>\n      <td>58.38</td>\n      <td>58.65</td>\n    </tr>\n  </tbody>\n</table>\n</div>"
     },
     "execution_count": 10,
     "metadata": {},
     "output_type": "execute_result"
    }
   ],
   "source": [
    "df.head(20)"
   ],
   "metadata": {
    "collapsed": false,
    "ExecuteTime": {
     "end_time": "2024-12-24T06:53:34.773522Z",
     "start_time": "2024-12-24T06:53:34.770534Z"
    }
   }
  },
  {
   "cell_type": "code",
   "execution_count": 11,
   "outputs": [
    {
     "ename": "NameError",
     "evalue": "name 'go' is not defined",
     "output_type": "error",
     "traceback": [
      "\u001B[0;31m---------------------------------------------------------------------------\u001B[0m",
      "\u001B[0;31mNameError\u001B[0m                                 Traceback (most recent call last)",
      "Cell \u001B[0;32mIn[11], line 5\u001B[0m\n\u001B[1;32m      2\u001B[0m \u001B[38;5;28;01mfrom\u001B[39;00m \u001B[38;5;21;01mian_lab_graph\u001B[39;00m \u001B[38;5;28;01mimport\u001B[39;00m ian_generate_lab_3d\n\u001B[1;32m      3\u001B[0m df \u001B[38;5;241m=\u001B[39m pd\u001B[38;5;241m.\u001B[39mread_csv(\u001B[38;5;124m'\u001B[39m\u001B[38;5;124mdata/chosen-colors.csv\u001B[39m\u001B[38;5;124m'\u001B[39m)\n\u001B[0;32m----> 5\u001B[0m \u001B[43mian_generate_lab_3d\u001B[49m\u001B[43m(\u001B[49m\u001B[43mdf\u001B[49m\u001B[38;5;241;43m=\u001B[39;49m\u001B[43mdf\u001B[49m\u001B[43m,\u001B[49m\u001B[43m \u001B[49m\u001B[43mfigure_title\u001B[49m\u001B[38;5;241;43m=\u001B[39;49m\u001B[38;5;124;43m\"\u001B[39;49m\u001B[38;5;124;43mChosen Colors\u001B[39;49m\u001B[38;5;124;43m\"\u001B[39;49m\u001B[43m,\u001B[49m\u001B[43m \u001B[49m\u001B[43moutput_file_name\u001B[49m\u001B[38;5;241;43m=\u001B[39;49m\u001B[38;5;124;43m\"\u001B[39;49m\u001B[38;5;124;43mchosen_colors_3d\u001B[39;49m\u001B[38;5;124;43m\"\u001B[39;49m\u001B[43m)\u001B[49m\n",
      "File \u001B[0;32m~/PycharmProjects/shirt-color-space/ian_lab_graph.py:17\u001B[0m, in \u001B[0;36mian_generate_lab_3d\u001B[0;34m(df, figure_title, output_file_name)\u001B[0m\n\u001B[1;32m     14\u001B[0m df[[\u001B[38;5;124m'\u001B[39m\u001B[38;5;124mL\u001B[39m\u001B[38;5;124m'\u001B[39m, \u001B[38;5;124m'\u001B[39m\u001B[38;5;124ma\u001B[39m\u001B[38;5;124m'\u001B[39m, \u001B[38;5;124m'\u001B[39m\u001B[38;5;124mb\u001B[39m\u001B[38;5;124m'\u001B[39m]] \u001B[38;5;241m=\u001B[39m df[\u001B[38;5;124m'\u001B[39m\u001B[38;5;124mL*a*b Value\u001B[39m\u001B[38;5;124m'\u001B[39m]\u001B[38;5;241m.\u001B[39mstr\u001B[38;5;241m.\u001B[39msplit(\u001B[38;5;124m'\u001B[39m\u001B[38;5;124m, \u001B[39m\u001B[38;5;124m'\u001B[39m, expand\u001B[38;5;241m=\u001B[39m\u001B[38;5;28;01mTrue\u001B[39;00m)\u001B[38;5;241m.\u001B[39mastype(\u001B[38;5;28mfloat\u001B[39m)\n\u001B[1;32m     16\u001B[0m \u001B[38;5;66;03m# Create the 3D scatter plot\u001B[39;00m\n\u001B[0;32m---> 17\u001B[0m fig \u001B[38;5;241m=\u001B[39m \u001B[43mgo\u001B[49m\u001B[38;5;241m.\u001B[39mFigure(data\u001B[38;5;241m=\u001B[39m[go\u001B[38;5;241m.\u001B[39mScatter3d(\n\u001B[1;32m     18\u001B[0m     x\u001B[38;5;241m=\u001B[39mdf[\u001B[38;5;124m'\u001B[39m\u001B[38;5;124ma\u001B[39m\u001B[38;5;124m'\u001B[39m],  \u001B[38;5;66;03m# a* axis (green-red)\u001B[39;00m\n\u001B[1;32m     19\u001B[0m     y\u001B[38;5;241m=\u001B[39mdf[\u001B[38;5;124m'\u001B[39m\u001B[38;5;124mL\u001B[39m\u001B[38;5;124m'\u001B[39m],  \u001B[38;5;66;03m# L* axis (lightness)\u001B[39;00m\n\u001B[1;32m     20\u001B[0m     z\u001B[38;5;241m=\u001B[39mdf[\u001B[38;5;124m'\u001B[39m\u001B[38;5;124mb\u001B[39m\u001B[38;5;124m'\u001B[39m],  \u001B[38;5;66;03m# b* axis (blue-yellow)\u001B[39;00m\n\u001B[1;32m     21\u001B[0m     mode\u001B[38;5;241m=\u001B[39m\u001B[38;5;124m'\u001B[39m\u001B[38;5;124mmarkers+text\u001B[39m\u001B[38;5;124m'\u001B[39m,\n\u001B[1;32m     22\u001B[0m     text\u001B[38;5;241m=\u001B[39mdf[\u001B[38;5;124m'\u001B[39m\u001B[38;5;124mShirt Color\u001B[39m\u001B[38;5;124m'\u001B[39m],\n\u001B[1;32m     23\u001B[0m     hovertemplate\u001B[38;5;241m=\u001B[39m\n\u001B[1;32m     24\u001B[0m     \u001B[38;5;124m'\u001B[39m\u001B[38;5;124m<b>\u001B[39m\u001B[38;5;124m%\u001B[39m\u001B[38;5;132;01m{text}\u001B[39;00m\u001B[38;5;124m</b><br>\u001B[39m\u001B[38;5;124m'\u001B[39m \u001B[38;5;241m+\u001B[39m\n\u001B[1;32m     25\u001B[0m     \u001B[38;5;124m'\u001B[39m\u001B[38;5;124mL*: \u001B[39m\u001B[38;5;124m%\u001B[39m\u001B[38;5;132;01m{y:.1f}\u001B[39;00m\u001B[38;5;124m<br>\u001B[39m\u001B[38;5;124m'\u001B[39m \u001B[38;5;241m+\u001B[39m\n\u001B[1;32m     26\u001B[0m     \u001B[38;5;124m'\u001B[39m\u001B[38;5;124ma*: \u001B[39m\u001B[38;5;124m%\u001B[39m\u001B[38;5;132;01m{x:.1f}\u001B[39;00m\u001B[38;5;124m<br>\u001B[39m\u001B[38;5;124m'\u001B[39m \u001B[38;5;241m+\u001B[39m\n\u001B[1;32m     27\u001B[0m     \u001B[38;5;124m'\u001B[39m\u001B[38;5;124mb*: \u001B[39m\u001B[38;5;124m%\u001B[39m\u001B[38;5;132;01m{z:.1f}\u001B[39;00m\u001B[38;5;124m<br>\u001B[39m\u001B[38;5;124m'\u001B[39m,\n\u001B[1;32m     28\u001B[0m     marker\u001B[38;5;241m=\u001B[39m\u001B[38;5;28mdict\u001B[39m(\n\u001B[1;32m     29\u001B[0m         size\u001B[38;5;241m=\u001B[39m\u001B[38;5;241m10\u001B[39m,\n\u001B[1;32m     30\u001B[0m         color\u001B[38;5;241m=\u001B[39m[\u001B[38;5;124m'\u001B[39m\u001B[38;5;124m#\u001B[39m\u001B[38;5;124m'\u001B[39m \u001B[38;5;241m+\u001B[39m \u001B[38;5;28mhex\u001B[39m\u001B[38;5;241m.\u001B[39mstrip() \u001B[38;5;28;01mfor\u001B[39;00m \u001B[38;5;28mhex\u001B[39m \u001B[38;5;129;01min\u001B[39;00m df[\u001B[38;5;124m'\u001B[39m\u001B[38;5;124mHEX\u001B[39m\u001B[38;5;124m'\u001B[39m]],  \u001B[38;5;66;03m# Use actual hex colors\u001B[39;00m\n\u001B[1;32m     31\u001B[0m         opacity\u001B[38;5;241m=\u001B[39m\u001B[38;5;241m0.8\u001B[39m\n\u001B[1;32m     32\u001B[0m     ),\n\u001B[1;32m     33\u001B[0m     textposition\u001B[38;5;241m=\u001B[39m\u001B[38;5;124m'\u001B[39m\u001B[38;5;124mtop center\u001B[39m\u001B[38;5;124m'\u001B[39m\n\u001B[1;32m     34\u001B[0m )])\n\u001B[1;32m     36\u001B[0m \u001B[38;5;66;03m# Update the layout\u001B[39;00m\n\u001B[1;32m     37\u001B[0m fig\u001B[38;5;241m.\u001B[39mupdate_layout(\n\u001B[1;32m     38\u001B[0m     title\u001B[38;5;241m=\u001B[39mfigure_title,\n\u001B[1;32m     39\u001B[0m     scene\u001B[38;5;241m=\u001B[39m\u001B[38;5;28mdict\u001B[39m(\n\u001B[0;32m   (...)\u001B[0m\n\u001B[1;32m     50\u001B[0m     showlegend\u001B[38;5;241m=\u001B[39m\u001B[38;5;28;01mFalse\u001B[39;00m\n\u001B[1;32m     51\u001B[0m )\n",
      "\u001B[0;31mNameError\u001B[0m: name 'go' is not defined"
     ]
    }
   ],
   "source": [
    "from ian_lab_graph import test\n",
    "from ian_lab_graph import ian_generate_lab_3d\n",
    "# df = pd.read_csv('data/chosen-colors.csv')\n",
    "#\n",
    "# ian_generate_lab_3d(df=df, figure_title=\"Chosen Colors\", output_file_name=\"chosen_colors_3d\")\n",
    "test()"
   ],
   "metadata": {
    "collapsed": false,
    "ExecuteTime": {
     "end_time": "2024-12-24T06:53:34.878611Z",
     "start_time": "2024-12-24T06:53:34.773702Z"
    }
   }
  },
  {
   "cell_type": "code",
   "execution_count": null,
   "outputs": [],
   "source": [],
   "metadata": {
    "collapsed": false,
    "ExecuteTime": {
     "start_time": "2024-12-24T06:53:34.873540Z"
    }
   }
  },
  {
   "cell_type": "code",
   "execution_count": null,
   "outputs": [],
   "source": [],
   "metadata": {
    "collapsed": false,
    "ExecuteTime": {
     "start_time": "2024-12-24T06:53:34.874902Z"
    }
   }
  }
 ],
 "metadata": {
  "kernelspec": {
   "display_name": "Python 3",
   "language": "python",
   "name": "python3"
  },
  "language_info": {
   "codemirror_mode": {
    "name": "ipython",
    "version": 2
   },
   "file_extension": ".py",
   "mimetype": "text/x-python",
   "name": "python",
   "nbconvert_exporter": "python",
   "pygments_lexer": "ipython2",
   "version": "2.7.6"
  }
 },
 "nbformat": 4,
 "nbformat_minor": 0
}
