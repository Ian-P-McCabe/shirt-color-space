{
 "cells": [
  {
   "cell_type": "code",
   "execution_count": 75,
   "metadata": {
    "collapsed": true,
    "ExecuteTime": {
     "end_time": "2024-12-23T03:59:46.252547Z",
     "start_time": "2024-12-23T03:59:46.237162Z"
    }
   },
   "outputs": [],
   "source": [
    "import pandas as pd\n",
    "import numpy\n",
    "\n",
    "#Fix colormath depreciated numpy method\n",
    "def patch_asscalar(a):\n",
    "    return a.item()\n",
    "setattr(numpy, \"asscalar\", patch_asscalar)\n",
    "\n",
    "#Import data\n",
    "all_colors = pd.read_csv(\"data/all-colors.csv\")\n",
    "chosen_colors = pd.read_csv(\"data/chosen-colors.csv\")\n",
    "\n",
    "#Remove chosen colors\n",
    "condition = all_colors[\"Shirt Color Name\"].isin(chosen_colors[\"Shirt Color\"])\n",
    "remaining_colors = all_colors.drop(all_colors[condition].index, inplace=False)\n",
    "\n",
    "#Confirm removal\n",
    "# print(len(remaining_colors))\n",
    "# print(len(all_colors))\n",
    "# print(len(chosen_colors))"
   ]
  },
  {
   "cell_type": "code",
   "execution_count": 98,
   "outputs": [],
   "source": [
    "import colormath.color_objects as co\n",
    "import colormath.color_diff as cdiff\n",
    "\n",
    "def compute_average_distance(row):\n",
    "    color_Lab = None\n",
    "\n",
    "    color_Lab = co.LabColor(*map(float, row[\"L*a*b Value\"].split(\", \")))\n",
    "\n",
    "    distances = []\n",
    "\n",
    "    #Compute all distances from chosen colors\n",
    "    for index, row_remaining in chosen_colors.iterrows():\n",
    "        other_color = co.LabColor(*map(float, row_remaining[\"L*a*b Value\"].split(\", \")))\n",
    "\n",
    "        #Newer, asymmetric formula, weighted for fabrics, using\n",
    "        distance = cdiff.delta_e_cmc(other_color, color_Lab , pl=2, pc=1)\n",
    "\n",
    "        #Older symmetric formula, weighted for fabrics\n",
    "        #distance = cdiff.delta_e_cie2000(color_Lab, other_color,Kl=2, Kc=1, Kh=1)\n",
    "\n",
    "        distances += [distance]\n",
    "\n",
    "    average_distance = sum(distances)/len(remaining_colors)\n",
    "\n",
    "    row[\"Distance\"] = average_distance\n",
    "    return row\n",
    "\n",
    "remaining_colors = remaining_colors.apply(compute_average_distance, axis=1)"
   ],
   "metadata": {
    "collapsed": false,
    "ExecuteTime": {
     "end_time": "2024-12-23T04:54:31.819578Z",
     "start_time": "2024-12-23T04:54:31.647947Z"
    }
   }
  },
  {
   "cell_type": "code",
   "execution_count": 99,
   "outputs": [
    {
     "data": {
      "text/plain": "        Shirt Color Name PMS Color Code            L*a*b Value     Hex  \\\n37                 Poppy          2347C    49.45, 75.12, 67.21  E10600   \n24          Maize Yellow         7548CP     83.14, 5.01, 85.02  F2CA00   \n34                Orange          1645C    65.69, 58.38, 58.65  FF6A39   \n83        Heather Orange         1645 C    65.69, 58.38, 58.65  FF6A39   \n73         Heather Kelly          340 C   51.80, -65.36, 14.55  00965E   \n47                  Teal          3262C  66.44, -59.33, -12.05  00BFB2   \n104       Heather Yellow         100 CP    92.09, -6.83, 62.42  F6EB69   \n9           Burnt Orange           159C    54.43, 43.54, 58.62  CB6015   \n95           Heather Red           193C    42.79, 66.14, 27.76  BF0D3E   \n105  Heather Yellow Gold          134 C     86.67, 8.31, 54.63  FDD26E   \n\n      Distance  \n37   13.722151  \n24   12.989638  \n34   11.935688  \n83   11.935688  \n73   11.553796  \n47   11.106415  \n104  10.961603  \n9    10.749025  \n95   10.282757  \n105   9.848363  ",
      "text/html": "<div>\n<style scoped>\n    .dataframe tbody tr th:only-of-type {\n        vertical-align: middle;\n    }\n\n    .dataframe tbody tr th {\n        vertical-align: top;\n    }\n\n    .dataframe thead th {\n        text-align: right;\n    }\n</style>\n<table border=\"1\" class=\"dataframe\">\n  <thead>\n    <tr style=\"text-align: right;\">\n      <th></th>\n      <th>Shirt Color Name</th>\n      <th>PMS Color Code</th>\n      <th>L*a*b Value</th>\n      <th>Hex</th>\n      <th>Distance</th>\n    </tr>\n  </thead>\n  <tbody>\n    <tr>\n      <th>37</th>\n      <td>Poppy</td>\n      <td>2347C</td>\n      <td>49.45, 75.12, 67.21</td>\n      <td>E10600</td>\n      <td>13.722151</td>\n    </tr>\n    <tr>\n      <th>24</th>\n      <td>Maize Yellow</td>\n      <td>7548CP</td>\n      <td>83.14, 5.01, 85.02</td>\n      <td>F2CA00</td>\n      <td>12.989638</td>\n    </tr>\n    <tr>\n      <th>34</th>\n      <td>Orange</td>\n      <td>1645C</td>\n      <td>65.69, 58.38, 58.65</td>\n      <td>FF6A39</td>\n      <td>11.935688</td>\n    </tr>\n    <tr>\n      <th>83</th>\n      <td>Heather Orange</td>\n      <td>1645 C</td>\n      <td>65.69, 58.38, 58.65</td>\n      <td>FF6A39</td>\n      <td>11.935688</td>\n    </tr>\n    <tr>\n      <th>73</th>\n      <td>Heather Kelly</td>\n      <td>340 C</td>\n      <td>51.80, -65.36, 14.55</td>\n      <td>00965E</td>\n      <td>11.553796</td>\n    </tr>\n    <tr>\n      <th>47</th>\n      <td>Teal</td>\n      <td>3262C</td>\n      <td>66.44, -59.33, -12.05</td>\n      <td>00BFB2</td>\n      <td>11.106415</td>\n    </tr>\n    <tr>\n      <th>104</th>\n      <td>Heather Yellow</td>\n      <td>100 CP</td>\n      <td>92.09, -6.83, 62.42</td>\n      <td>F6EB69</td>\n      <td>10.961603</td>\n    </tr>\n    <tr>\n      <th>9</th>\n      <td>Burnt Orange</td>\n      <td>159C</td>\n      <td>54.43, 43.54, 58.62</td>\n      <td>CB6015</td>\n      <td>10.749025</td>\n    </tr>\n    <tr>\n      <th>95</th>\n      <td>Heather Red</td>\n      <td>193C</td>\n      <td>42.79, 66.14, 27.76</td>\n      <td>BF0D3E</td>\n      <td>10.282757</td>\n    </tr>\n    <tr>\n      <th>105</th>\n      <td>Heather Yellow Gold</td>\n      <td>134 C</td>\n      <td>86.67, 8.31, 54.63</td>\n      <td>FDD26E</td>\n      <td>9.848363</td>\n    </tr>\n  </tbody>\n</table>\n</div>"
     },
     "execution_count": 99,
     "metadata": {},
     "output_type": "execute_result"
    }
   ],
   "source": [
    "sorted_remaining = remaining_colors.sort_values(by = \"Distance\", ascending=False)\n",
    "sorted_remaining.iloc[:].head(10)"
   ],
   "metadata": {
    "collapsed": false,
    "ExecuteTime": {
     "end_time": "2024-12-23T04:54:35.430010Z",
     "start_time": "2024-12-23T04:54:35.410104Z"
    }
   }
  },
  {
   "cell_type": "markdown",
   "source": [],
   "metadata": {
    "collapsed": false
   }
  },
  {
   "cell_type": "code",
   "execution_count": null,
   "outputs": [],
   "source": [],
   "metadata": {
    "collapsed": false
   }
  }
 ],
 "metadata": {
  "kernelspec": {
   "display_name": "Python 3",
   "language": "python",
   "name": "python3"
  },
  "language_info": {
   "codemirror_mode": {
    "name": "ipython",
    "version": 2
   },
   "file_extension": ".py",
   "mimetype": "text/x-python",
   "name": "python",
   "nbconvert_exporter": "python",
   "pygments_lexer": "ipython2",
   "version": "2.7.6"
  }
 },
 "nbformat": 4,
 "nbformat_minor": 0
}
