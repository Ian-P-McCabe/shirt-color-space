{
 "cells": [
  {
   "cell_type": "code",
   "execution_count": 121,
   "metadata": {
    "collapsed": true,
    "ExecuteTime": {
     "end_time": "2024-12-30T22:32:24.729334Z",
     "start_time": "2024-12-30T22:32:24.698995Z"
    }
   },
   "outputs": [],
   "source": [
    "import importlib\n",
    "\n",
    "import numpy as np\n",
    "import pandas as pd\n",
    "import numpy\n",
    "import lab_graph\n",
    "\n",
    "importlib.reload(lab_graph)\n",
    "\n",
    "#Fix colormath depreciated numpy method\n",
    "def patch_asscalar(a):\n",
    "    return a.item()\n",
    "setattr(numpy, \"asscalar\", patch_asscalar)\n",
    "\n",
    "df = pd.read_csv(\"data/all-colors-unique.csv\")\n",
    "\n",
    "#Create a 2D array of Lab values\n",
    "lab_list = list(df[\"L*a*b Value\"])\n",
    "lab_list = [x.split(\", \") for x in lab_list]\n",
    "lab_points = [[float(x) for x in row] for row in lab_list]\n",
    "\n",
    "#Use greedy approach\n",
    "result = lab_graph.greedy_mdp(lab_points, 16)\n",
    "\n",
    "#Create new dataframe with just the resultant indices\n",
    "result_df = df.loc[result]\n",
    "\n",
    "#lab_graph.generate_lab_3d_all_colors(result_df, \"Euclidean\", \"N/a\")"
   ]
  },
  {
   "cell_type": "code",
   "execution_count": 122,
   "outputs": [
    {
     "name": "stdout",
     "output_type": "stream",
     "text": [
      "___Euclidean Distance___\n",
      "Color Name                      Poppy\n",
      "PMS Color Code                  2347C\n",
      "L*a*b Value       49.45, 75.12, 67.21\n",
      "Hex                            E10600\n",
      "Name: 36, dtype: object\n",
      "Color Name                         Teal\n",
      "PMS Color Code                    3262C\n",
      "L*a*b Value       66.44, -59.33, -12.05\n",
      "Hex                              00BFB2\n",
      "Name: 46, dtype: object\n",
      "\n",
      "___Delta_E_Distance___\n",
      "Color Name                      Berry\n",
      "PMS Color Code                  233CP\n",
      "L*a*b Value       45.38, 71.84, -7.30\n",
      "Hex                            C6057B\n",
      "Name: 6, dtype: object\n",
      "Color Name               Heather Kelly\n",
      "PMS Color Code                   340 C\n",
      "L*a*b Value       51.80, -65.36, 14.55\n",
      "Hex                             00965E\n",
      "Name: 72, dtype: object\n"
     ]
    }
   ],
   "source": [
    "from scipy.spatial.distance import pdist, squareform\n",
    "import colormath.color_objects as co\n",
    "import colormath.color_diff as cdiff\n",
    "\n",
    "euclidean_distances = squareform(pdist(lab_points))\n",
    "#Retrieves the indices furthest points\n",
    "i, j = np.unravel_index(np.argmax(euclidean_distances), euclidean_distances.shape)\n",
    "\n",
    "print(\"___Euclidean Distance___\")\n",
    "print(df.iloc[i])\n",
    "print(df.iloc[j])\n",
    "# Use lab points\n",
    "\n",
    "def lab_point_distance(color1, color2, delta_e=\"CIE2000\"):\n",
    "    \"\"\"\n",
    "    Compute the difference between two colors using a Delta E formula.\n",
    "\n",
    "    :param color1: Lab color number 1\n",
    "    :param color2: Lab color number 2\n",
    "    :param delta_e: The comparison formula, CIE2000 (symmetric) is default\n",
    "    :return: Returns the distance between two colors using the CIE2000 or CMC delta E formula\n",
    "    \"\"\"\n",
    "    lab_1 = co.LabColor(color1[0], color1[1], color1[2])\n",
    "    lab_2 = co.LabColor(color2[0], color2[1], color2[2])\n",
    "\n",
    "    if delta_e == \"CIE2000\":\n",
    "        return cdiff.delta_e_cie2000(lab_1, lab_2, Kl=2, Kc=1, Kh=1)\n",
    "    if delta_e == \"CMC\":\n",
    "        return cdiff.delta_e_cmc(lab_1, lab_2, pl=2, pc=1)\n",
    "\n",
    "distances_delta_e = squareform(pdist(lab_points, metric=lab_point_distance))\n",
    "i,j = np.unravel_index(np.argmax(distances_delta_e), distances_delta_e.shape)\n",
    "\n",
    "print(\"\\n___Delta_E_Distance___\")\n",
    "print(df.iloc[i])\n",
    "print(df.iloc[j])\n"
   ],
   "metadata": {
    "collapsed": false,
    "ExecuteTime": {
     "end_time": "2024-12-30T22:32:25.748650Z",
     "start_time": "2024-12-30T22:32:24.724346Z"
    }
   }
  },
  {
   "cell_type": "markdown",
   "source": [
    "1. List of LAB points\n",
    "2. Generate a distance matrix using Euclidean/Delta E distance\n",
    "3. Select a pair of points (starting point for greedy algorithm)\n",
    "4. Run greedy algorithm on distance matrix\n",
    "5. Create a resultant dataframe\n",
    "6. Calculate a score based off the result"
   ],
   "metadata": {
    "collapsed": false
   }
  },
  {
   "cell_type": "code",
   "execution_count": 126,
   "outputs": [
    {
     "ename": "TypeError",
     "evalue": "'list' object is not callable",
     "output_type": "error",
     "traceback": [
      "\u001B[0;31m---------------------------------------------------------------------------\u001B[0m",
      "\u001B[0;31mTypeError\u001B[0m                                 Traceback (most recent call last)",
      "Cell \u001B[0;32mIn[126], line 45\u001B[0m\n\u001B[1;32m     42\u001B[0m     \u001B[38;5;28;01mreturn\u001B[39;00m avg_distance\n\u001B[1;32m     44\u001B[0m point_a, point_b \u001B[38;5;241m=\u001B[39m np\u001B[38;5;241m.\u001B[39munravel_index(np\u001B[38;5;241m.\u001B[39margmax(distances_delta_e), distances_delta_e\u001B[38;5;241m.\u001B[39mshape)\n\u001B[0;32m---> 45\u001B[0m selected \u001B[38;5;241m=\u001B[39m \u001B[43mgreedy_search\u001B[49m\u001B[43m(\u001B[49m\u001B[43mlab_points\u001B[49m\u001B[43m,\u001B[49m\u001B[43m \u001B[49m\u001B[43mdistances_delta_e\u001B[49m\u001B[43m,\u001B[49m\u001B[43m \u001B[49m\u001B[38;5;241;43m16\u001B[39;49m\u001B[43m,\u001B[49m\u001B[43m \u001B[49m\u001B[43mpoint_a\u001B[49m\u001B[43m,\u001B[49m\u001B[43m \u001B[49m\u001B[43mpoint_b\u001B[49m\u001B[43m)\u001B[49m\n\u001B[1;32m     47\u001B[0m delta_e_score \u001B[38;5;241m=\u001B[39m score(distances_delta_e, selected)\n\u001B[1;32m     48\u001B[0m euclidean_score \u001B[38;5;241m=\u001B[39m score(euclidean_distances, result)\n",
      "Cell \u001B[0;32mIn[126], line 13\u001B[0m, in \u001B[0;36mgreedy_search\u001B[0;34m(points, distance_matrix, number_of_teams, start_a, start_b)\u001B[0m\n\u001B[1;32m     11\u001B[0m n \u001B[38;5;241m=\u001B[39m \u001B[38;5;28mlen\u001B[39m(points)\n\u001B[1;32m     12\u001B[0m k \u001B[38;5;241m=\u001B[39m number_of_teams \u001B[38;5;66;03m#Total number of teams\u001B[39;00m\n\u001B[0;32m---> 13\u001B[0m selected \u001B[38;5;241m=\u001B[39m \u001B[38;5;28;43mset\u001B[39;49m\u001B[43m(\u001B[49m\u001B[43m)\u001B[49m\n\u001B[1;32m     14\u001B[0m selected\u001B[38;5;241m.\u001B[39madd(start_a)\n\u001B[1;32m     15\u001B[0m selected\u001B[38;5;241m.\u001B[39madd(start_b)\n",
      "\u001B[0;31mTypeError\u001B[0m: 'list' object is not callable"
     ]
    }
   ],
   "source": [
    "def greedy_search(points, distance_matrix, number_of_teams, start_a, start_b):\n",
    "    \"\"\"\n",
    "\n",
    "    :param points: Set of lab color points the greedy search is being performed in\n",
    "    :param distance_matrix: Matrix of distances between points\n",
    "    :param number_of_teams: Total number of teams optimizing for\n",
    "    :param start_a: Index of the color in the dataframe, distance matrix, and point set\n",
    "    :param start_b: index of the color in the dataframe, distance matrix, and point set\n",
    "    :return:\n",
    "    \"\"\"\n",
    "    n = len(points)\n",
    "    k = number_of_teams #Total number of teams\n",
    "    selected = set()\n",
    "    selected.add(start_a)\n",
    "    selected.add(start_b)\n",
    "\n",
    "    while len(selected) < k:\n",
    "        max_min_dist = -1\n",
    "        best_point = -1\n",
    "\n",
    "        #For i in the set of all colors, index of a specific color\n",
    "        for i in range(n):\n",
    "            # If the index has not been chosen\n",
    "            if i not in selected:\n",
    "                #Find the point with the greatest min distance from those selected, provides an even distribution\n",
    "                #This does not find the furthest point from the current point, it's better than that\n",
    "                min_dist = min(distance_matrix[i][j] for j in selected)\n",
    "                if min_dist > max_min_dist:\n",
    "                    max_min_dist = min_dist\n",
    "                    best_point = i\n",
    "\n",
    "        selected.add(best_point)\n",
    "\n",
    "    return list(selected)\n",
    "\n",
    "def score(distance_matrix, chosen):\n",
    "\n",
    "    subset_distances = distance_matrix[np.ix_(chosen, chosen)]\n",
    "    upper_triangle = np.triu(subset_distances, k=1)\n",
    "    avg_distance = upper_triangle.sum() / (upper_triangle != 0).sum()\n",
    "\n",
    "    return avg_distance\n",
    "\n",
    "point_a, point_b = np.unravel_index(np.argmax(distances_delta_e), distances_delta_e.shape)\n",
    "selected = greedy_search(lab_points, distances_delta_e, 16, point_a, point_b)\n",
    "\n",
    "delta_e_score = score(distances_delta_e, selected)\n",
    "euclidean_score = score(euclidean_distances, result)\n",
    "\n",
    "print(\"Delta E: \" + str(delta_e_score))\n",
    "print(\"Euclidean: \" + str(euclidean_score))"
   ],
   "metadata": {
    "collapsed": false,
    "ExecuteTime": {
     "end_time": "2024-12-30T22:33:17.367769Z",
     "start_time": "2024-12-30T22:33:17.312817Z"
    }
   }
  },
  {
   "cell_type": "markdown",
   "source": [
    "Delta E: 38.77662607204613\n",
    "Euclidean: 78.72508932265154"
   ],
   "metadata": {
    "collapsed": false
   }
  },
  {
   "cell_type": "code",
   "execution_count": null,
   "outputs": [],
   "source": [],
   "metadata": {
    "collapsed": false
   }
  },
  {
   "cell_type": "code",
   "execution_count": null,
   "outputs": [],
   "source": [
    "#Retrieve the hundred furthest points\n",
    "#check if distnaces is referenced anywhere in here\n",
    "def n_furthest_points(number_of_points, distance_matrix):\n",
    "    flat_indices = np.argpartition(distance_matrix.flatten(), -number_of_points)[-number_of_points:]\n",
    "    # Convert to 2D indices\n",
    "    i_indices, j_indices = np.unravel_index(flat_indices, distance_matrix.shape)\n",
    "    # Get corresponding distances\n",
    "    top_distances = distance_matrix[i_indices, j_indices]\n",
    "    # Sort by distance (optional)\n",
    "    sort_idx = np.argsort(top_distances)[::-1]\n",
    "    i_indices = i_indices[sort_idx]\n",
    "    j_indices = j_indices[sort_idx]\n",
    "    top_distances = top_distances[sort_idx]\n",
    "\n",
    "    return i_indices, j_indices, top_distances\n",
    "\n",
    "#i_points, j_points, top_dist = n_furthest_points(100, euclidean_distances)"
   ],
   "metadata": {
    "collapsed": false
   }
  },
  {
   "cell_type": "code",
   "execution_count": 125,
   "outputs": [
    {
     "ename": "TypeError",
     "evalue": "'list' object is not callable",
     "output_type": "error",
     "traceback": [
      "\u001B[0;31m---------------------------------------------------------------------------\u001B[0m",
      "\u001B[0;31mTypeError\u001B[0m                                 Traceback (most recent call last)",
      "Cell \u001B[0;32mIn[125], line 16\u001B[0m\n\u001B[1;32m     13\u001B[0m total_teams \u001B[38;5;241m=\u001B[39m \u001B[38;5;241m16\u001B[39m\n\u001B[1;32m     15\u001B[0m \u001B[38;5;28;01mfor\u001B[39;00m run \u001B[38;5;129;01min\u001B[39;00m \u001B[38;5;28mrange\u001B[39m(\u001B[38;5;241m100\u001B[39m):\n\u001B[0;32m---> 16\u001B[0m     search_result \u001B[38;5;241m=\u001B[39m \u001B[43mgreedy_search\u001B[49m\u001B[43m(\u001B[49m\u001B[43mlab_points\u001B[49m\u001B[43m,\u001B[49m\u001B[43m \u001B[49m\u001B[43meuclidean_distances\u001B[49m\u001B[43m,\u001B[49m\u001B[43m \u001B[49m\u001B[43mtotal_teams\u001B[49m\u001B[43m,\u001B[49m\u001B[43m \u001B[49m\u001B[43mi_points\u001B[49m\u001B[43m[\u001B[49m\u001B[43mrun\u001B[49m\u001B[43m]\u001B[49m\u001B[43m,\u001B[49m\u001B[43m \u001B[49m\u001B[43mj_points\u001B[49m\u001B[43m[\u001B[49m\u001B[43mrun\u001B[49m\u001B[43m]\u001B[49m\u001B[43m)\u001B[49m\n\u001B[1;32m     18\u001B[0m     search_score \u001B[38;5;241m=\u001B[39m score(euclidean_distances, search_result)\n\u001B[1;32m     20\u001B[0m     top_euclidean_sets \u001B[38;5;241m+\u001B[39m\u001B[38;5;241m=\u001B[39m [search_result]\n",
      "Cell \u001B[0;32mIn[123], line 13\u001B[0m, in \u001B[0;36mgreedy_search\u001B[0;34m(points, distance_matrix, number_of_teams, start_a, start_b)\u001B[0m\n\u001B[1;32m     11\u001B[0m n \u001B[38;5;241m=\u001B[39m \u001B[38;5;28mlen\u001B[39m(points)\n\u001B[1;32m     12\u001B[0m k \u001B[38;5;241m=\u001B[39m number_of_teams \u001B[38;5;66;03m#Total number of teams\u001B[39;00m\n\u001B[0;32m---> 13\u001B[0m selected \u001B[38;5;241m=\u001B[39m \u001B[38;5;28;43mset\u001B[39;49m\u001B[43m(\u001B[49m\u001B[43m)\u001B[49m\n\u001B[1;32m     14\u001B[0m selected\u001B[38;5;241m.\u001B[39madd(start_a)\n\u001B[1;32m     15\u001B[0m selected\u001B[38;5;241m.\u001B[39madd(start_b)\n",
      "\u001B[0;31mTypeError\u001B[0m: 'list' object is not callable"
     ]
    }
   ],
   "source": [
    "top_euclidean_sets = []\n",
    "scores = []\n",
    "\n",
    "df = pd.read_csv(\"data/all-colors-unique.csv\")\n",
    "euclidean_distances = squareform(pdist(lab_points))\n",
    "\n",
    "lab_list = list(df[\"L*a*b Value\"])\n",
    "lab_list = [x.split(\", \") for x in lab_list]\n",
    "lab_points = [[float(x) for x in row] for row in lab_list]\n",
    "\n",
    "i_points, j_points, top_dist = n_furthest_points(100, euclidean_distances)\n",
    "\n",
    "total_teams = 16\n",
    "\n",
    "for run in range(100):\n",
    "    search_result = greedy_search(lab_points, euclidean_distances, total_teams, i_points[run], j_points[run])\n",
    "\n",
    "    search_score = score(euclidean_distances, search_result)\n",
    "\n",
    "    top_euclidean_sets += [search_result]\n",
    "\n",
    "    scores += [search_score]\n"
   ],
   "metadata": {
    "collapsed": false,
    "ExecuteTime": {
     "end_time": "2024-12-30T22:32:49.427440Z",
     "start_time": "2024-12-30T22:32:49.385899Z"
    }
   }
  },
  {
   "cell_type": "code",
   "execution_count": null,
   "outputs": [],
   "source": [],
   "metadata": {
    "collapsed": false
   }
  }
 ],
 "metadata": {
  "kernelspec": {
   "display_name": "Python 3",
   "language": "python",
   "name": "python3"
  },
  "language_info": {
   "codemirror_mode": {
    "name": "ipython",
    "version": 2
   },
   "file_extension": ".py",
   "mimetype": "text/x-python",
   "name": "python",
   "nbconvert_exporter": "python",
   "pygments_lexer": "ipython2",
   "version": "2.7.6"
  }
 },
 "nbformat": 4,
 "nbformat_minor": 0
}
