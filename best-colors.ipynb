{
 "cells": [
  {
   "cell_type": "code",
   "execution_count": 54,
   "metadata": {
    "collapsed": true,
    "ExecuteTime": {
     "end_time": "2024-12-31T16:23:50.412669Z",
     "start_time": "2024-12-31T16:23:50.389660Z"
    }
   },
   "outputs": [],
   "source": [
    "import importlib\n",
    "\n",
    "import numpy as np\n",
    "import pandas as pd\n",
    "import numpy\n",
    "import lab_graph\n",
    "\n",
    "importlib.reload(lab_graph)\n",
    "\n",
    "#Fix colormath depreciated numpy method\n",
    "def patch_asscalar(a):\n",
    "    return a.item()\n",
    "setattr(numpy, \"asscalar\", patch_asscalar)\n",
    "\n",
    "df = pd.read_csv(\"data/all-colors-unique.csv\")\n",
    "\n",
    "#Create a 2D array of Lab values\n",
    "lab_list = list(df[\"L*a*b Value\"])\n",
    "lab_list = [x.split(\", \") for x in lab_list]\n",
    "lab_points = [[float(x) for x in row] for row in lab_list]\n",
    "\n",
    "#Use greedy approach\n",
    "result = lab_graph.greedy_mdp(lab_points, 16)\n",
    "\n",
    "#Create new dataframe with just the resultant indices\n",
    "result_df = df.loc[result]\n",
    "\n",
    "#lab_graph.generate_lab_3d_all_colors(result_df, \"Euclidean\", \"N/a\")"
   ]
  },
  {
   "cell_type": "code",
   "execution_count": 55,
   "outputs": [
    {
     "name": "stdout",
     "output_type": "stream",
     "text": [
      "___Euclidean Distance___\n",
      "Color Name                      Poppy\n",
      "PMS Color Code                  2347C\n",
      "L*a*b Value       49.45, 75.12, 67.21\n",
      "Hex                            E10600\n",
      "Name: 36, dtype: object\n",
      "Color Name                         Teal\n",
      "PMS Color Code                    3262C\n",
      "L*a*b Value       66.44, -59.33, -12.05\n",
      "Hex                              00BFB2\n",
      "Name: 46, dtype: object\n",
      "\n",
      "___Delta_E_Distance___\n",
      "Color Name                      Berry\n",
      "PMS Color Code                  233CP\n",
      "L*a*b Value       45.38, 71.84, -7.30\n",
      "Hex                            C6057B\n",
      "Name: 6, dtype: object\n",
      "Color Name               Heather Kelly\n",
      "PMS Color Code                   340 C\n",
      "L*a*b Value       51.80, -65.36, 14.55\n",
      "Hex                             00965E\n",
      "Name: 72, dtype: object\n"
     ]
    }
   ],
   "source": [
    "from scipy.spatial.distance import pdist, squareform\n",
    "import colormath.color_objects as co\n",
    "import colormath.color_diff as cdiff\n",
    "\n",
    "euclidean_distances = squareform(pdist(lab_points))\n",
    "#Retrieves the indices furthest points\n",
    "i, j = np.unravel_index(np.argmax(euclidean_distances), euclidean_distances.shape)\n",
    "\n",
    "print(\"___Euclidean Distance___\")\n",
    "print(df.iloc[i])\n",
    "print(df.iloc[j])\n",
    "# Use lab points\n",
    "\n",
    "def lab_point_distance(color1, color2, delta_e=\"CIE2000\"):\n",
    "    \"\"\"\n",
    "    Compute the difference between two colors using a Delta E formula.\n",
    "\n",
    "    :param color1: Lab color number 1\n",
    "    :param color2: Lab color number 2\n",
    "    :param delta_e: The comparison formula, CIE2000 (symmetric) is default\n",
    "    :return: Returns the distance between two colors using the CIE2000 or CMC delta E formula\n",
    "    \"\"\"\n",
    "    lab_1 = co.LabColor(color1[0], color1[1], color1[2])\n",
    "    lab_2 = co.LabColor(color2[0], color2[1], color2[2])\n",
    "\n",
    "    if delta_e == \"CIE2000\":\n",
    "        return cdiff.delta_e_cie2000(lab_1, lab_2, Kl=2, Kc=1, Kh=1)\n",
    "    if delta_e == \"CMC\":\n",
    "        return cdiff.delta_e_cmc(lab_1, lab_2, pl=2, pc=1)\n",
    "\n",
    "distances_delta_e = squareform(pdist(lab_points, metric=lab_point_distance))\n",
    "i,j = np.unravel_index(np.argmax(distances_delta_e), distances_delta_e.shape)\n",
    "\n",
    "print(\"\\n___Delta_E_Distance___\")\n",
    "print(df.iloc[i])\n",
    "print(df.iloc[j])\n"
   ],
   "metadata": {
    "collapsed": false,
    "ExecuteTime": {
     "end_time": "2024-12-31T16:23:51.361791Z",
     "start_time": "2024-12-31T16:23:50.401998Z"
    }
   }
  },
  {
   "cell_type": "markdown",
   "source": [
    "1. List of LAB points\n",
    "2. Generate a distance matrix using Euclidean/Delta E distance\n",
    "3. Select a pair of points (starting point for greedy algorithm)\n",
    "4. Run greedy algorithm on distance matrix\n",
    "5. Create a resultant dataframe\n",
    "6. Calculate a score based off the result"
   ],
   "metadata": {
    "collapsed": false
   }
  },
  {
   "cell_type": "code",
   "execution_count": 56,
   "outputs": [
    {
     "name": "stdout",
     "output_type": "stream",
     "text": [
      "Delta E: 38.72694104952147\n",
      "Euclidean: 78.72508932265154\n"
     ]
    }
   ],
   "source": [
    "def greedy_search(points, distance_matrix, number_of_teams, start_a, start_b):\n",
    "    \"\"\"\n",
    "    Returns the list of indices corresponding to the colors in the dataframe found\n",
    "    through the greedy search\n",
    "    :param points: Set of lab color points the greedy search is being performed in\n",
    "    :param distance_matrix: Matrix of distances between points\n",
    "    :param number_of_teams: Total number of teams optimizing for\n",
    "    :param start_a: Index of the color in the dataframe, distance matrix, and point set\n",
    "    :param start_b: index of the color in the dataframe, distance matrix, and point set\n",
    "    :return:\n",
    "    \"\"\"\n",
    "    n = len(points)\n",
    "    k = number_of_teams #Total number of teams\n",
    "    selected = set()\n",
    "    selected.add(start_a)\n",
    "    selected.add(start_b)\n",
    "\n",
    "    while len(selected) < k:\n",
    "        max_min_dist = -1\n",
    "        best_point = -1\n",
    "\n",
    "        #For i in the set of all colors, index of a specific color\n",
    "        for i in range(n):\n",
    "            # If the index has not been chosen\n",
    "            if i not in selected:\n",
    "                #Find the point with the greatest min distance from those selected, provides an even distribution\n",
    "                #This does not find the furthest point from the current point, it's better than that\n",
    "                min_dist = min(distance_matrix[i][j] for j in selected)\n",
    "                if min_dist > max_min_dist:\n",
    "                    max_min_dist = min_dist\n",
    "                    best_point = i\n",
    "\n",
    "        selected.add(best_point)\n",
    "\n",
    "    return list(selected)\n",
    "\n",
    "def score(distance_matrix, chosen):\n",
    "    \"\"\"\n",
    "    Scores the resultant set of points based off the average distance between all chosen points\n",
    "    :param distance_matrix: Matrix representing the distances between colors\n",
    "    :param chosen: Chosen points (from the set of colors)\n",
    "    :return: The average distance between all the provided (chosen) colors\n",
    "    \"\"\"\n",
    "    subset_distances = distance_matrix[np.ix_(chosen, chosen)]\n",
    "    upper_triangle = np.triu(subset_distances, k=1)\n",
    "    avg_distance = upper_triangle.sum() / (upper_triangle != 0).sum()\n",
    "\n",
    "    return avg_distance\n",
    "\n",
    "point_a, point_b = np.unravel_index(np.argmax(distances_delta_e), distances_delta_e.shape)\n",
    "selected = greedy_search(lab_points, distances_delta_e, 16, point_a, point_b)\n",
    "\n",
    "delta_e_score = score(distances_delta_e, selected)\n",
    "euclidean_score = score(euclidean_distances, result)\n",
    "\n",
    "print(\"Delta E: \" + str(delta_e_score))\n",
    "print(\"Euclidean: \" + str(euclidean_score))"
   ],
   "metadata": {
    "collapsed": false,
    "ExecuteTime": {
     "end_time": "2024-12-31T16:23:51.372427Z",
     "start_time": "2024-12-31T16:23:51.362465Z"
    }
   }
  },
  {
   "cell_type": "markdown",
   "source": [
    "Delta E: 38.77662607204613\n",
    "Euclidean: 78.72508932265154"
   ],
   "metadata": {
    "collapsed": false
   }
  },
  {
   "cell_type": "code",
   "execution_count": 56,
   "outputs": [],
   "source": [],
   "metadata": {
    "collapsed": false,
    "ExecuteTime": {
     "end_time": "2024-12-31T16:23:51.375261Z",
     "start_time": "2024-12-31T16:23:51.373108Z"
    }
   }
  },
  {
   "cell_type": "code",
   "execution_count": 57,
   "outputs": [],
   "source": [
    "#Retrieve the hundred furthest points\n",
    "#check if distances is referenced anywhere in here\n",
    "def n_furthest_points(number_of_points, distance_matrix):\n",
    "    \"\"\"\n",
    "    Computes the n furthest points\n",
    "    :param number_of_points: The nth point you want computed\n",
    "    :param distance_matrix: The distance matrix representing the distances between all points in the set\n",
    "    :return: The most distant points in the matrix, from 0 to n\n",
    "    \"\"\"\n",
    "    flat_indices = np.argpartition(distance_matrix.flatten(), -number_of_points)[-number_of_points:]\n",
    "    # Convert to 2D indices\n",
    "    i_indices, j_indices = np.unravel_index(flat_indices, distance_matrix.shape)\n",
    "    # Get corresponding distances\n",
    "    top_distances = distance_matrix[i_indices, j_indices]\n",
    "    # Sort by distance (optional)\n",
    "    sort_idx = np.argsort(top_distances)[::-1]\n",
    "    i_indices = i_indices[sort_idx]\n",
    "    j_indices = j_indices[sort_idx]\n",
    "    top_distances = top_distances[sort_idx]\n",
    "\n",
    "    return i_indices, j_indices, top_distances\n",
    "\n",
    "#i_points, j_points, top_dist = n_furthest_points(100, euclidean_distances)"
   ],
   "metadata": {
    "collapsed": false,
    "ExecuteTime": {
     "end_time": "2024-12-31T16:23:51.380276Z",
     "start_time": "2024-12-31T16:23:51.377945Z"
    }
   }
  },
  {
   "cell_type": "code",
   "execution_count": 58,
   "outputs": [],
   "source": [
    "top_euclidean_sets = []\n",
    "scores = []\n",
    "\n",
    "df = pd.read_csv(\"data/all-colors-unique.csv\")\n",
    "euclidean_distances = squareform(pdist(lab_points))\n",
    "\n",
    "lab_list = list(df[\"L*a*b Value\"])\n",
    "lab_list = [x.split(\", \") for x in lab_list]\n",
    "lab_points = [[float(x) for x in row] for row in lab_list]\n",
    "\n",
    "#103 Choose 2 is 5253, which we can compute, however every item is represented twice, so it's actually 10,506\n",
    "i_points, j_points, top_dist = n_furthest_points(10506, euclidean_distances)\n",
    "\n",
    "total_teams = 16\n",
    "\n",
    "for run in range(10506):\n",
    "    search_result = greedy_search(lab_points, euclidean_distances, total_teams, i_points[run], j_points[run])\n",
    "\n",
    "    search_score = score(euclidean_distances, search_result)\n",
    "\n",
    "    top_euclidean_sets += [search_result]\n",
    "\n",
    "    scores += [search_score]\n"
   ],
   "metadata": {
    "collapsed": false
   }
  },
  {
   "cell_type": "markdown",
   "source": [
    "# Greedy Search Results"
   ],
   "metadata": {
    "collapsed": false
   }
  },
  {
   "cell_type": "code",
   "execution_count": 59,
   "outputs": [
    {
     "name": "stdout",
     "output_type": "stream",
     "text": [
      "Lowest: 72.54711616260738\n",
      "Highest: 81.92102523616252\n"
     ]
    },
    {
     "data": {
      "text/plain": "4440"
     },
     "execution_count": 50,
     "metadata": {},
     "output_type": "execute_result"
    },
    {
     "name": "stdout",
     "output_type": "stream",
     "text": [
      "Lowest: 72.54711616260738\n",
      "Highest: 81.92102523616252\n"
     ]
    },
    {
     "data": {
      "text/plain": "4440"
     },
     "execution_count": 59,
     "metadata": {},
     "output_type": "execute_result"
    }
   ],
   "source": [
    "scores.sort()\n",
    "print(\"Lowest: \" + str(scores[0]))\n",
    "print(\"Highest: \" + str(scores [-1]))\n",
    "\n",
    "scores_set = set(scores)\n",
    "len(scores_set)"
   ],
   "metadata": {
    "collapsed": false,
    "ExecuteTime": {
     "end_time": "2024-12-31T16:24:21.826725Z",
     "start_time": "2024-12-31T16:23:50.000650Z"
    }
   }
  },
  {
   "cell_type": "code",
   "execution_count": 60,
   "outputs": [],
   "source": [
    "# how do the above scores compare to randomly selecting points\n",
    "import random\n",
    "random_tuples = set()\n",
    "\n",
    "while len(random_tuples) < 10506:\n",
    "    random_tuples.add(tuple(random.sample(range(0, 102), 16)))\n"
   ],
   "metadata": {
    "collapsed": false,
    "ExecuteTime": {
     "end_time": "2024-12-31T16:24:21.926934Z",
     "start_time": "2024-12-31T16:23:50.072527Z"
    }
   }
  },
  {
   "cell_type": "code",
   "execution_count": 61,
   "outputs": [],
   "source": [
    "random_scores = []\n",
    "for random_tuple in random_tuples:\n",
    "    random_score = score(euclidean_distances, list(random_tuple))\n",
    "    random_scores += [random_score]\n"
   ],
   "metadata": {
    "collapsed": false,
    "ExecuteTime": {
     "end_time": "2024-12-31T16:24:22.196903Z",
     "start_time": "2024-12-31T16:23:50.108448Z"
    }
   }
  },
  {
   "cell_type": "markdown",
   "source": [
    "# Random Search Results"
   ],
   "metadata": {
    "collapsed": false
   }
  },
  {
   "cell_type": "code",
   "execution_count": 63,
   "outputs": [
    {
     "name": "stdout",
     "output_type": "stream",
     "text": [
      "Lowest: 31.04374513258903\n",
      "Highest: 74.83979645491993\n"
     ]
    }
   ],
   "source": [
    "random_scores.sort()\n",
    "len(random_scores)\n",
    "print(\"Lowest: \" + str(random_scores[0]))\n",
    "print(\"Highest: \" + str(random_scores[-1]))"
   ],
   "metadata": {
    "collapsed": false,
    "ExecuteTime": {
     "end_time": "2024-12-31T16:24:34.573792Z",
     "start_time": "2024-12-31T16:24:34.565782Z"
    }
   }
  },
  {
   "cell_type": "markdown",
   "source": [],
   "metadata": {
    "collapsed": false
   }
  },
  {
   "cell_type": "code",
   "execution_count": 62,
   "outputs": [],
   "source": [],
   "metadata": {
    "collapsed": false,
    "ExecuteTime": {
     "end_time": "2024-12-31T16:24:22.205792Z",
     "start_time": "2024-12-31T16:23:50.383691Z"
    }
   }
  }
 ],
 "metadata": {
  "kernelspec": {
   "display_name": "Python 3",
   "language": "python",
   "name": "python3"
  },
  "language_info": {
   "codemirror_mode": {
    "name": "ipython",
    "version": 2
   },
   "file_extension": ".py",
   "mimetype": "text/x-python",
   "name": "python",
   "nbconvert_exporter": "python",
   "pygments_lexer": "ipython2",
   "version": "2.7.6"
  }
 },
 "nbformat": 4,
 "nbformat_minor": 0
}
