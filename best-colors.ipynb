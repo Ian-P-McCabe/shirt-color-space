{
 "cells": [
  {
   "cell_type": "code",
   "execution_count": 59,
   "metadata": {
    "collapsed": true,
    "ExecuteTime": {
     "end_time": "2024-12-30T21:00:38.686382Z",
     "start_time": "2024-12-30T21:00:38.666949Z"
    }
   },
   "outputs": [],
   "source": [
    "import importlib\n",
    "\n",
    "import numpy as np\n",
    "import pandas as pd\n",
    "import numpy\n",
    "import lab_graph\n",
    "\n",
    "importlib.reload(lab_graph)\n",
    "\n",
    "#Fix colormath depreciated numpy method\n",
    "def patch_asscalar(a):\n",
    "    return a.item()\n",
    "setattr(numpy, \"asscalar\", patch_asscalar)\n",
    "\n",
    "df = pd.read_csv(\"data/all-colors-unique.csv\")\n",
    "\n",
    "#Create a 2D array of Lab values\n",
    "lab_list = list(df[\"L*a*b Value\"])\n",
    "lab_list = [x.split(\", \") for x in lab_list]\n",
    "lab_points = [[float(x) for x in row] for row in lab_list]\n",
    "\n",
    "#Use greedy approach\n",
    "result = lab_graph.greedy_mdp(lab_points, 16)\n",
    "\n",
    "#Create new dataframe with just the resultant indices\n",
    "result_df = df.loc[result]\n",
    "\n",
    "#lab_graph.generate_lab_3d_all_colors(result_df, \"Euclidean\", \"N/a\")"
   ]
  },
  {
   "cell_type": "code",
   "execution_count": 63,
   "outputs": [
    {
     "name": "stdout",
     "output_type": "stream",
     "text": [
      "___Euclidean Distance___\n",
      "Color Name                      Poppy\n",
      "PMS Color Code                  2347C\n",
      "L*a*b Value       49.45, 75.12, 67.21\n",
      "Hex                            E10600\n",
      "Name: 36, dtype: object\n",
      "Color Name                         Teal\n",
      "PMS Color Code                    3262C\n",
      "L*a*b Value       66.44, -59.33, -12.05\n",
      "Hex                              00BFB2\n",
      "Name: 46, dtype: object\n",
      "\n",
      "___Delta_E_Distance___\n",
      "Color Name                      Berry\n",
      "PMS Color Code                  233CP\n",
      "L*a*b Value       45.38, 71.84, -7.30\n",
      "Hex                            C6057B\n",
      "Name: 6, dtype: object\n",
      "Color Name               Heather Kelly\n",
      "PMS Color Code                   340 C\n",
      "L*a*b Value       51.80, -65.36, 14.55\n",
      "Hex                             00965E\n",
      "Name: 72, dtype: object\n"
     ]
    }
   ],
   "source": [
    "from scipy.spatial.distance import pdist, squareform\n",
    "import colormath.color_objects as co\n",
    "import colormath.color_diff as cdiff\n",
    "\n",
    "distances = squareform(pdist(lab_points))\n",
    "#Retrieves the indices furthest points\n",
    "i, j = np.unravel_index(np.argmax(distances), distances.shape)\n",
    "\n",
    "print(\"___Euclidean Distance___\")\n",
    "print(df.iloc[i])\n",
    "print(df.iloc[j])\n",
    "# Use lab points\n",
    "\n",
    "def lab_point_distance(color1, color2, delta_e=\"CIE2000\"):\n",
    "    \"\"\"\n",
    "    Compute the difference between two colors using a Delta E formula.\n",
    "\n",
    "    :param color1: Lab color number 1\n",
    "    :param color2: Lab color number 2\n",
    "    :param delta_e: The comparison formula, CIE2000 (symmetric) is default\n",
    "    :return: Returns the distance between two colors using the CIE2000 or CMC delta E formula\n",
    "    \"\"\"\n",
    "    lab_1 = co.LabColor(color1[0], color1[1], color1[2])\n",
    "    lab_2 = co.LabColor(color2[0], color2[1], color2[2])\n",
    "\n",
    "    if delta_e == \"CIE2000\":\n",
    "        return cdiff.delta_e_cie2000(lab_1, lab_2, Kl=2, Kc=1, Kh=1)\n",
    "    if delta_e == \"CMC\":\n",
    "        return cdiff.delta_e_cmc(lab_1, lab_2, pl=2, pc=1)\n",
    "\n",
    "distances_delta_e = squareform(pdist(lab_points, metric=lab_point_distance))\n",
    "i,j = np.unravel_index(np.argmax(distances_delta_e), distances_delta_e.shape)\n",
    "\n",
    "print(\"\\n___Delta_E_Distance___\")\n",
    "print(df.iloc[i])\n",
    "print(df.iloc[j])\n"
   ],
   "metadata": {
    "collapsed": false,
    "ExecuteTime": {
     "end_time": "2024-12-30T21:08:40.307731Z",
     "start_time": "2024-12-30T21:08:39.053834Z"
    }
   }
  },
  {
   "cell_type": "markdown",
   "source": [
    "1. List of LAB points\n",
    "2. Generate a distance matrix using Euclidean/Delta E distance\n",
    "3. Select a pair of points (starting point for greedy algorithm)\n",
    "4. Run greedy algorithm on distance matrix\n",
    "5. Create a resultant dataframe\n",
    "6. Calculate a score based off the result"
   ],
   "metadata": {
    "collapsed": false
   }
  },
  {
   "cell_type": "code",
   "execution_count": 84,
   "outputs": [
    {
     "name": "stdout",
     "output_type": "stream",
     "text": [
      "Delta E: 38.77662607204613\n",
      "Euclidean: 78.72508932265154\n"
     ]
    }
   ],
   "source": [
    "#Indices of two furthest colors from step 2\n",
    "point_a, point_b = np.unravel_index(np.argmax(distances_delta_e), distances_delta_e.shape)\n",
    "\n",
    "n = len(lab_points)\n",
    "k = 16 #Total number of teams\n",
    "selected = set()\n",
    "selected.add(point_a)\n",
    "selected.add(point_b)\n",
    "\n",
    "while len(selected) < k:\n",
    "    max_min_dist = -1\n",
    "    best_point = -1\n",
    "\n",
    "    #For i in the set of all colors, index of a specific color\n",
    "    for i in range(n):\n",
    "        # If the index has not been chosen\n",
    "        if i not in selected:\n",
    "            #Find the point with the greatest min distance from those selected, provides an even distribution\n",
    "            #This does not find the furthest point from the current point, it's better than that\n",
    "            min_dist = min(distances[i][j] for j in selected)\n",
    "            if min_dist > max_min_dist:\n",
    "                max_min_dist = min_dist\n",
    "                best_point = i\n",
    "\n",
    "    selected.add(best_point)\n",
    "\n",
    "selected = list(selected)\n",
    "\n",
    "def score(distance_matrix, chosen):\n",
    "\n",
    "    subset_distances = distance_matrix[np.ix_(chosen, chosen)]\n",
    "    upper_triangle = np.triu(subset_distances, k=1)\n",
    "    avg_distance = upper_triangle.sum() / (upper_triangle != 0).sum()\n",
    "\n",
    "    return avg_distance\n",
    "\n",
    "delta_e_score = score(distances_delta_e, selected)\n",
    "euclidean_score = score(distances, result)\n",
    "\n",
    "print(\"Delta E: \" + str(delta_e_score))\n",
    "print(\"Euclidean: \" + str(euclidean_score))\n",
    "\n",
    "# Need a scoring function\n",
    "# Take a set of lab point indices\n",
    "\n",
    "# Score by average distance\n",
    "# Score by Convex Hull\n",
    "\n",
    "#Average distance\n",
    "#Provide a pair of points from"
   ],
   "metadata": {
    "collapsed": false,
    "ExecuteTime": {
     "end_time": "2024-12-30T21:54:13.500168Z",
     "start_time": "2024-12-30T21:54:13.481483Z"
    }
   }
  },
  {
   "cell_type": "code",
   "execution_count": 70,
   "outputs": [],
   "source": [],
   "metadata": {
    "collapsed": false,
    "ExecuteTime": {
     "end_time": "2024-12-30T21:38:30.439391Z",
     "start_time": "2024-12-30T21:38:30.433885Z"
    }
   }
  },
  {
   "cell_type": "code",
   "execution_count": null,
   "outputs": [],
   "source": [
    "#Retrieve the hundred furthest points\n",
    "flat_indices = np.argpartition(distances.flatten(), -100)[-100:]\n",
    "# Convert to 2D indices\n",
    "i_indices, j_indices = np.unravel_index(flat_indices, distances.shape)\n",
    "# Get corresponding distances\n",
    "top_distances = distances[i_indices, j_indices]\n",
    "# Sort by distance (optional)\n",
    "sort_idx = np.argsort(top_distances)[::-1]\n",
    "i_indices = i_indices[sort_idx]\n",
    "j_indices = j_indices[sort_idx]\n",
    "top_distances = top_distances[sort_idx]\n",
    "\n",
    "print(j_indices[0], i_indices[0])\n",
    "print(j_indices[1], i_indices[1])"
   ],
   "metadata": {
    "collapsed": false
   }
  }
 ],
 "metadata": {
  "kernelspec": {
   "display_name": "Python 3",
   "language": "python",
   "name": "python3"
  },
  "language_info": {
   "codemirror_mode": {
    "name": "ipython",
    "version": 2
   },
   "file_extension": ".py",
   "mimetype": "text/x-python",
   "name": "python",
   "nbconvert_exporter": "python",
   "pygments_lexer": "ipython2",
   "version": "2.7.6"
  }
 },
 "nbformat": 4,
 "nbformat_minor": 0
}
