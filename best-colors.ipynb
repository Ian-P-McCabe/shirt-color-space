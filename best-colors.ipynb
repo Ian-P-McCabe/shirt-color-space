{
 "cells": [
  {
   "cell_type": "code",
   "execution_count": 3,
   "metadata": {
    "collapsed": true,
    "ExecuteTime": {
     "end_time": "2024-12-30T15:24:01.601084Z",
     "start_time": "2024-12-30T15:24:01.572792Z"
    }
   },
   "outputs": [],
   "source": [
    "import numpy as np\n",
    "import pandas as pd\n",
    "import numpy\n",
    "import lab_graph\n",
    "\n",
    "#Fix colormath depreciated numpy method\n",
    "def patch_asscalar(a):\n",
    "    return a.item()\n",
    "setattr(numpy, \"asscalar\", patch_asscalar)\n",
    "\n",
    "df = pd.read_csv(\"data/all-colors-unique.csv\")\n",
    "\n",
    "#Create a 2D array of Lab values\n",
    "lab_list = list(df[\"L*a*b Value\"])\n",
    "lab_list = [x.split(\", \") for x in lab_list]\n",
    "lab_points = [[float(x) for x in row] for row in lab_list]\n",
    "\n",
    "#Use greedy approach\n",
    "result = lab_graph.greedy_mdp(lab_points, 16)\n",
    "\n",
    "result_df = df.loc[result]\n",
    "\n",
    "#lab_graph.generate_lab_3d_all_colors(result_df, \"Test 1\", \"N/a\")"
   ]
  },
  {
   "cell_type": "code",
   "execution_count": 8,
   "outputs": [
    {
     "data": {
      "text/plain": "(36, 46)"
     },
     "execution_count": 8,
     "metadata": {},
     "output_type": "execute_result"
    }
   ],
   "source": [
    "from scipy.spatial.distance import pdist, squareform\n",
    "\n",
    "distances = squareform(pdist(lab_points))\n",
    "\n",
    "#Retrieves the furthest points\n",
    "np.unravel_index(np.argmax(distances), distances.shape)"
   ],
   "metadata": {
    "collapsed": false,
    "ExecuteTime": {
     "end_time": "2024-12-30T15:35:18.933941Z",
     "start_time": "2024-12-30T15:35:18.923211Z"
    }
   }
  },
  {
   "cell_type": "code",
   "execution_count": 14,
   "outputs": [
    {
     "name": "stdout",
     "output_type": "stream",
     "text": [
      "36 46\n"
     ]
    }
   ],
   "source": [
    "#Retrieve the hundred furthest points\n",
    "flat_indices = np.argpartition(distances.flatten(), -100)[-100:]\n",
    "# Convert to 2D indices\n",
    "i_indices, j_indices = np.unravel_index(flat_indices, distances.shape)\n",
    "# Get corresponding distances\n",
    "top_distances = distances[i_indices, j_indices]\n",
    "# Sort by distance (optional)\n",
    "sort_idx = np.argsort(top_distances)[::-1]\n",
    "i_indices = i_indices[sort_idx]\n",
    "j_indices = j_indices[sort_idx]\n",
    "top_distances = top_distances[sort_idx]\n",
    "\n",
    "print(j_indices[0], i_indices[0])"
   ],
   "metadata": {
    "collapsed": false,
    "ExecuteTime": {
     "end_time": "2024-12-30T15:47:50.394788Z",
     "start_time": "2024-12-30T15:47:50.391079Z"
    }
   }
  },
  {
   "cell_type": "code",
   "execution_count": null,
   "outputs": [],
   "source": [
    "# Need a scoring function\n",
    "\n",
    "# Score by average distance\n",
    "# Score by Convex Hull"
   ],
   "metadata": {
    "collapsed": false
   }
  }
 ],
 "metadata": {
  "kernelspec": {
   "display_name": "Python 3",
   "language": "python",
   "name": "python3"
  },
  "language_info": {
   "codemirror_mode": {
    "name": "ipython",
    "version": 2
   },
   "file_extension": ".py",
   "mimetype": "text/x-python",
   "name": "python",
   "nbconvert_exporter": "python",
   "pygments_lexer": "ipython2",
   "version": "2.7.6"
  }
 },
 "nbformat": 4,
 "nbformat_minor": 0
}
