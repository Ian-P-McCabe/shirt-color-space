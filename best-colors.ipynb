{
 "cells": [
  {
   "cell_type": "code",
   "execution_count": 3,
   "metadata": {
    "collapsed": true,
    "ExecuteTime": {
     "end_time": "2024-12-31T16:26:28.241069Z",
     "start_time": "2024-12-31T16:26:28.187394Z"
    }
   },
   "outputs": [],
   "source": [
    "import importlib\n",
    "\n",
    "import numpy as np\n",
    "import pandas as pd\n",
    "import numpy\n",
    "import lab_graph\n",
    "\n",
    "importlib.reload(lab_graph)\n",
    "\n",
    "#Fix colormath depreciated numpy method\n",
    "def patch_asscalar(a):\n",
    "    return a.item()\n",
    "setattr(numpy, \"asscalar\", patch_asscalar)\n",
    "\n",
    "df = pd.read_csv(\"data/all-colors-unique.csv\")\n",
    "\n",
    "#Create a 2D array of Lab values\n",
    "lab_list = list(df[\"L*a*b Value\"])\n",
    "lab_list = [x.split(\", \") for x in lab_list]\n",
    "lab_points = [[float(x) for x in row] for row in lab_list]\n",
    "\n",
    "#Use greedy approach\n",
    "result = lab_graph.greedy_mdp(lab_points, 16)\n",
    "\n",
    "#Create new dataframe with just the resultant indices\n",
    "result_df = df.loc[result]\n",
    "\n",
    "#lab_graph.generate_lab_3d_all_colors(result_df, \"Euclidean\", \"N/a\")"
   ]
  },
  {
   "cell_type": "code",
   "execution_count": 4,
   "outputs": [
    {
     "name": "stdout",
     "output_type": "stream",
     "text": [
      "___Euclidean Distance___\n",
      "Color Name                      Poppy\n",
      "PMS Color Code                  2347C\n",
      "L*a*b Value       49.45, 75.12, 67.21\n",
      "Hex                            E10600\n",
      "Name: 36, dtype: object\n",
      "Color Name                         Teal\n",
      "PMS Color Code                    3262C\n",
      "L*a*b Value       66.44, -59.33, -12.05\n",
      "Hex                              00BFB2\n",
      "Name: 46, dtype: object\n",
      "\n",
      "___Delta_E_Distance___\n",
      "Color Name                      Berry\n",
      "PMS Color Code                  233CP\n",
      "L*a*b Value       45.38, 71.84, -7.30\n",
      "Hex                            C6057B\n",
      "Name: 6, dtype: object\n",
      "Color Name               Heather Kelly\n",
      "PMS Color Code                   340 C\n",
      "L*a*b Value       51.80, -65.36, 14.55\n",
      "Hex                             00965E\n",
      "Name: 72, dtype: object\n"
     ]
    }
   ],
   "source": [
    "from scipy.spatial.distance import pdist, squareform\n",
    "import colormath.color_objects as co\n",
    "import colormath.color_diff as cdiff\n",
    "\n",
    "euclidean_distances = squareform(pdist(lab_points))\n",
    "#Retrieves the indices furthest points\n",
    "i, j = np.unravel_index(np.argmax(euclidean_distances), euclidean_distances.shape)\n",
    "\n",
    "print(\"___Euclidean Distance___\")\n",
    "print(df.iloc[i])\n",
    "print(df.iloc[j])\n",
    "# Use lab points\n",
    "\n",
    "def lab_point_distance(color1, color2, delta_e=\"CIE2000\"):\n",
    "    \"\"\"\n",
    "    Compute the difference between two colors using a Delta E formula.\n",
    "\n",
    "    :param color1: Lab color number 1\n",
    "    :param color2: Lab color number 2\n",
    "    :param delta_e: The comparison formula, CIE2000 (symmetric) is default\n",
    "    :return: Returns the distance between two colors using the CIE2000 or CMC delta E formula\n",
    "    \"\"\"\n",
    "    lab_1 = co.LabColor(color1[0], color1[1], color1[2])\n",
    "    lab_2 = co.LabColor(color2[0], color2[1], color2[2])\n",
    "\n",
    "    if delta_e == \"CIE2000\":\n",
    "        return cdiff.delta_e_cie2000(lab_1, lab_2, Kl=2, Kc=1, Kh=1)\n",
    "    if delta_e == \"CMC\":\n",
    "        return cdiff.delta_e_cmc(lab_1, lab_2, pl=2, pc=1)\n",
    "\n",
    "distances_delta_e = squareform(pdist(lab_points, metric=lab_point_distance))\n",
    "i,j = np.unravel_index(np.argmax(distances_delta_e), distances_delta_e.shape)\n",
    "\n",
    "print(\"\\n___Delta_E_Distance___\")\n",
    "print(df.iloc[i])\n",
    "print(df.iloc[j])\n"
   ],
   "metadata": {
    "collapsed": false,
    "ExecuteTime": {
     "end_time": "2024-12-31T16:26:29.311738Z",
     "start_time": "2024-12-31T16:26:28.208315Z"
    }
   }
  },
  {
   "cell_type": "markdown",
   "source": [
    "1. List of LAB points\n",
    "2. Generate a distance matrix using Euclidean/Delta E distance\n",
    "3. Select a pair of points (starting point for greedy algorithm)\n",
    "4. Run greedy algorithm on distance matrix\n",
    "5. Create a resultant dataframe\n",
    "6. Calculate a score based off the result"
   ],
   "metadata": {
    "collapsed": false
   }
  },
  {
   "cell_type": "code",
   "execution_count": 5,
   "outputs": [
    {
     "name": "stdout",
     "output_type": "stream",
     "text": [
      "Delta E: 38.72694104952147\n",
      "Euclidean: 78.72508932265154\n"
     ]
    }
   ],
   "source": [
    "def greedy_search(points, distance_matrix, number_of_teams, start_a, start_b):\n",
    "    \"\"\"\n",
    "    Returns the list of indices corresponding to the colors in the dataframe found\n",
    "    through the greedy search\n",
    "    :param points: Set of lab color points the greedy search is being performed in\n",
    "    :param distance_matrix: Matrix of distances between points\n",
    "    :param number_of_teams: Total number of teams optimizing for\n",
    "    :param start_a: Index of the color in the dataframe, distance matrix, and point set\n",
    "    :param start_b: index of the color in the dataframe, distance matrix, and point set\n",
    "    :return:\n",
    "    \"\"\"\n",
    "    n = len(points)\n",
    "    k = number_of_teams #Total number of teams\n",
    "    selected = set()\n",
    "    selected.add(start_a)\n",
    "    selected.add(start_b)\n",
    "\n",
    "    while len(selected) < k:\n",
    "        max_min_dist = -1\n",
    "        best_point = -1\n",
    "\n",
    "        #For i in the set of all colors, index of a specific color\n",
    "        for i in range(n):\n",
    "            # If the index has not been chosen\n",
    "            if i not in selected:\n",
    "                #Find the point with the greatest min distance from those selected, provides an even distribution\n",
    "                #This does not find the furthest point from the current point, it's better than that\n",
    "                min_dist = min(distance_matrix[i][j] for j in selected)\n",
    "                if min_dist > max_min_dist:\n",
    "                    max_min_dist = min_dist\n",
    "                    best_point = i\n",
    "\n",
    "        selected.add(best_point)\n",
    "\n",
    "    return list(selected)\n",
    "\n",
    "def score(distance_matrix, chosen):\n",
    "    \"\"\"\n",
    "    Scores the resultant set of points based off the average distance between all chosen points\n",
    "    :param distance_matrix: Matrix representing the distances between colors\n",
    "    :param chosen: Chosen points (from the set of colors)\n",
    "    :return: The average distance between all the provided (chosen) colors\n",
    "    \"\"\"\n",
    "    subset_distances = distance_matrix[np.ix_(chosen, chosen)]\n",
    "    upper_triangle = np.triu(subset_distances, k=1)\n",
    "    avg_distance = upper_triangle.sum() / (upper_triangle != 0).sum()\n",
    "\n",
    "    return avg_distance\n",
    "\n",
    "point_a, point_b = np.unravel_index(np.argmax(distances_delta_e), distances_delta_e.shape)\n",
    "selected = greedy_search(lab_points, distances_delta_e, 16, point_a, point_b)\n",
    "\n",
    "delta_e_score = score(distances_delta_e, selected)\n",
    "euclidean_score = score(euclidean_distances, result)\n",
    "\n",
    "print(\"Delta E: \" + str(delta_e_score))\n",
    "print(\"Euclidean: \" + str(euclidean_score))"
   ],
   "metadata": {
    "collapsed": false,
    "ExecuteTime": {
     "end_time": "2024-12-31T16:26:29.321188Z",
     "start_time": "2024-12-31T16:26:29.310375Z"
    }
   }
  },
  {
   "cell_type": "markdown",
   "source": [
    "Delta E: 38.77662607204613\n",
    "Euclidean: 78.72508932265154"
   ],
   "metadata": {
    "collapsed": false
   }
  },
  {
   "cell_type": "code",
   "execution_count": 5,
   "outputs": [],
   "source": [],
   "metadata": {
    "collapsed": false,
    "ExecuteTime": {
     "end_time": "2024-12-31T16:26:29.325640Z",
     "start_time": "2024-12-31T16:26:29.323251Z"
    }
   }
  },
  {
   "cell_type": "code",
   "execution_count": 6,
   "outputs": [],
   "source": [
    "#Retrieve the hundred furthest points\n",
    "#check if distances is referenced anywhere in here\n",
    "def n_furthest_points(number_of_points, distance_matrix):\n",
    "    \"\"\"\n",
    "    Computes the n furthest points\n",
    "    :param number_of_points: The nth point you want computed\n",
    "    :param distance_matrix: The distance matrix representing the distances between all points in the set\n",
    "    :return: The most distant points in the matrix, from 0 to n\n",
    "    \"\"\"\n",
    "    flat_indices = np.argpartition(distance_matrix.flatten(), -number_of_points)[-number_of_points:]\n",
    "    # Convert to 2D indices\n",
    "    i_indices, j_indices = np.unravel_index(flat_indices, distance_matrix.shape)\n",
    "    # Get corresponding distances\n",
    "    top_distances = distance_matrix[i_indices, j_indices]\n",
    "    # Sort by distance (optional)\n",
    "    sort_idx = np.argsort(top_distances)[::-1]\n",
    "    i_indices = i_indices[sort_idx]\n",
    "    j_indices = j_indices[sort_idx]\n",
    "    top_distances = top_distances[sort_idx]\n",
    "\n",
    "    return i_indices, j_indices, top_distances\n",
    "\n",
    "#i_points, j_points, top_dist = n_furthest_points(100, euclidean_distances)"
   ],
   "metadata": {
    "collapsed": false,
    "ExecuteTime": {
     "end_time": "2024-12-31T16:26:29.332493Z",
     "start_time": "2024-12-31T16:26:29.329228Z"
    }
   }
  },
  {
   "cell_type": "code",
   "execution_count": 7,
   "outputs": [],
   "source": [
    "top_euclidean_sets = []\n",
    "scores = []\n",
    "\n",
    "df = pd.read_csv(\"data/all-colors-unique.csv\")\n",
    "euclidean_distances = squareform(pdist(lab_points))\n",
    "\n",
    "lab_list = list(df[\"L*a*b Value\"])\n",
    "lab_list = [x.split(\", \") for x in lab_list]\n",
    "lab_points = [[float(x) for x in row] for row in lab_list]\n",
    "\n",
    "#103 Choose 2 is 5253, which we can compute, however every item is represented twice, so it's actually 10,506\n",
    "i_points, j_points, top_dist = n_furthest_points(10506, euclidean_distances)\n",
    "\n",
    "total_teams = 16\n",
    "\n",
    "for run in range(10506):\n",
    "    search_result = greedy_search(lab_points, euclidean_distances, total_teams, i_points[run], j_points[run])\n",
    "\n",
    "    search_score = score(euclidean_distances, search_result)\n",
    "\n",
    "    top_euclidean_sets += [search_result]\n",
    "\n",
    "    scores += [search_score]\n"
   ],
   "metadata": {
    "collapsed": false,
    "ExecuteTime": {
     "end_time": "2024-12-31T16:27:01.229857Z",
     "start_time": "2024-12-31T16:26:29.335068Z"
    }
   }
  },
  {
   "cell_type": "markdown",
   "source": [
    "# Greedy Search Results"
   ],
   "metadata": {
    "collapsed": false
   }
  },
  {
   "cell_type": "code",
   "execution_count": 8,
   "outputs": [
    {
     "name": "stdout",
     "output_type": "stream",
     "text": [
      "Lowest: 72.54711616260738\n",
      "Highest: 81.92102523616252\n"
     ]
    },
    {
     "data": {
      "text/plain": "4440"
     },
     "execution_count": 8,
     "metadata": {},
     "output_type": "execute_result"
    }
   ],
   "source": [
    "scores.sort()\n",
    "print(\"Lowest: \" + str(scores[0]))\n",
    "print(\"Highest: \" + str(scores [-1]))\n",
    "\n",
    "scores_set = set(scores)\n",
    "len(scores_set)"
   ],
   "metadata": {
    "collapsed": false,
    "ExecuteTime": {
     "end_time": "2024-12-31T16:27:01.240706Z",
     "start_time": "2024-12-31T16:27:01.236852Z"
    }
   }
  },
  {
   "cell_type": "code",
   "execution_count": 9,
   "outputs": [],
   "source": [
    "# how do the above scores compare to randomly selecting points\n",
    "import random\n",
    "random_tuples = set()\n",
    "\n",
    "while len(random_tuples) < 10506:\n",
    "    random_tuples.add(tuple(random.sample(range(0, 102), 16)))\n"
   ],
   "metadata": {
    "collapsed": false,
    "ExecuteTime": {
     "end_time": "2024-12-31T16:27:01.343836Z",
     "start_time": "2024-12-31T16:27:01.296315Z"
    }
   }
  },
  {
   "cell_type": "code",
   "execution_count": 10,
   "outputs": [],
   "source": [
    "random_scores = []\n",
    "for random_tuple in random_tuples:\n",
    "    random_score = score(euclidean_distances, list(random_tuple))\n",
    "    random_scores += [random_score]\n"
   ],
   "metadata": {
    "collapsed": false,
    "ExecuteTime": {
     "end_time": "2024-12-31T16:27:01.610954Z",
     "start_time": "2024-12-31T16:27:01.345368Z"
    }
   }
  },
  {
   "cell_type": "markdown",
   "source": [
    "# Random Search Results"
   ],
   "metadata": {
    "collapsed": false
   }
  },
  {
   "cell_type": "code",
   "execution_count": 11,
   "outputs": [
    {
     "name": "stdout",
     "output_type": "stream",
     "text": [
      "Lowest: 31.97499806838547\n",
      "Highest: 75.63642688876396\n"
     ]
    }
   ],
   "source": [
    "random_scores.sort()\n",
    "len(random_scores)\n",
    "print(\"Lowest: \" + str(random_scores[0]))\n",
    "print(\"Highest: \" + str(random_scores[-1]))"
   ],
   "metadata": {
    "collapsed": false,
    "ExecuteTime": {
     "end_time": "2024-12-31T16:27:01.617898Z",
     "start_time": "2024-12-31T16:27:01.614947Z"
    }
   }
  },
  {
   "cell_type": "markdown",
   "source": [],
   "metadata": {
    "collapsed": false
   }
  },
  {
   "cell_type": "code",
   "execution_count": 24,
   "outputs": [],
   "source": [
    "import math\n",
    "\n",
    "#taken from https://stackoverflow.com/questions/9600801/evenly-distributing-n-points-on-a-sphere\n",
    "def fibonacci_sphere(samples=1000):\n",
    "\n",
    "    points = []\n",
    "    phi = math.pi * (math.sqrt(5.) - 1.)  # golden angle in radians\n",
    "\n",
    "    for i in range(samples):\n",
    "        y = 1 - (i / float(samples - 1)) * 2  # y goes from 1 to -1\n",
    "        radius = math.sqrt(1 - y * y)  # radius at y\n",
    "\n",
    "        theta = phi * i  # golden angle increment\n",
    "\n",
    "        x = math.cos(theta) * radius\n",
    "        z = math.sin(theta) * radius\n",
    "\n",
    "        points.append((x, y, z))\n",
    "\n",
    "    return points\n",
    "\n",
    "points_regular = fibonacci_sphere(16)\n",
    "\n",
    "#now convert points to a set of points in 3d space\n",
    "# x and z from [-128, 128], y from [0 to 100]\n",
    "\n",
    "new_points = []\n",
    "for item in points_regular:\n",
    "    x_max = 128\n",
    "    y_max = 100\n",
    "    z_max = 128\n",
    "\n",
    "    new_x = item[0]*128\n",
    "    new_y = ((item[1] + 1)/2)*100\n",
    "    new_z = item[2]*128\n",
    "    new_points.append((new_x, new_y, new_z))\n"
   ],
   "metadata": {
    "collapsed": false,
    "ExecuteTime": {
     "end_time": "2024-12-31T17:00:20.421059Z",
     "start_time": "2024-12-31T17:00:20.415862Z"
    }
   }
  },
  {
   "cell_type": "code",
   "execution_count": 23,
   "outputs": [
    {
     "data": {
      "application/vnd.plotly.v1+json": {
       "data": [
        {
         "marker": {
          "color": [
           0.0,
           -43.135202119982644,
           86.69005783459484,
           -81.26471693226972,
           19.718696095077796,
           64.77210379351418,
           -121.11406945968956,
           113.34068806541453,
           -43.81126066035747,
           -47.852467653250045,
           109.30361106383161,
           -108.01849601641233,
           51.34413631820074,
           18.68558606726586,
           -52.23951931519611,
           0.0
          ],
          "colorscale": [
           [
            0.0,
            "#440154"
           ],
           [
            0.1111111111111111,
            "#482878"
           ],
           [
            0.2222222222222222,
            "#3e4989"
           ],
           [
            0.3333333333333333,
            "#31688e"
           ],
           [
            0.4444444444444444,
            "#26828e"
           ],
           [
            0.5555555555555556,
            "#1f9e89"
           ],
           [
            0.6666666666666666,
            "#35b779"
           ],
           [
            0.7777777777777778,
            "#6ece58"
           ],
           [
            0.8888888888888888,
            "#b5de2b"
           ],
           [
            1.0,
            "#fde725"
           ]
          ],
          "opacity": 0.8,
          "size": 8
         },
         "mode": "markers",
         "x": [
          0.0,
          -47.0866211744249,
          7.608072129224906,
          62.304139364235475,
          -111.47691201858281,
          101.82401546647912,
          -32.557981800374094,
          -58.86485072673354,
          119.96564367172977,
          -115.92575787759446,
          51.1495470552984,
          33.88116596637733,
          -88.59762787873058,
          84.99351600099672,
          -36.72639619228665,
          -0.0
         ],
         "y": [
          100.0,
          93.33333333333333,
          86.66666666666667,
          80.0,
          73.33333333333334,
          66.66666666666667,
          60.0,
          53.333333333333336,
          46.666666666666664,
          40.0,
          33.333333333333336,
          26.66666666666667,
          19.999999999999996,
          13.33333333333333,
          6.666666666666665,
          0.0
         ],
         "z": [
          0.0,
          -43.135202119982644,
          86.69005783459484,
          -81.26471693226972,
          19.718696095077796,
          64.77210379351418,
          -121.11406945968956,
          113.34068806541453,
          -43.81126066035747,
          -47.852467653250045,
          109.30361106383161,
          -108.01849601641233,
          51.34413631820074,
          18.68558606726586,
          -52.23951931519611,
          0.0
         ],
         "type": "scatter3d"
        }
       ],
       "layout": {
        "template": {
         "data": {
          "histogram2dcontour": [
           {
            "type": "histogram2dcontour",
            "colorbar": {
             "outlinewidth": 0,
             "ticks": ""
            },
            "colorscale": [
             [
              0.0,
              "#0d0887"
             ],
             [
              0.1111111111111111,
              "#46039f"
             ],
             [
              0.2222222222222222,
              "#7201a8"
             ],
             [
              0.3333333333333333,
              "#9c179e"
             ],
             [
              0.4444444444444444,
              "#bd3786"
             ],
             [
              0.5555555555555556,
              "#d8576b"
             ],
             [
              0.6666666666666666,
              "#ed7953"
             ],
             [
              0.7777777777777778,
              "#fb9f3a"
             ],
             [
              0.8888888888888888,
              "#fdca26"
             ],
             [
              1.0,
              "#f0f921"
             ]
            ]
           }
          ],
          "choropleth": [
           {
            "type": "choropleth",
            "colorbar": {
             "outlinewidth": 0,
             "ticks": ""
            }
           }
          ],
          "histogram2d": [
           {
            "type": "histogram2d",
            "colorbar": {
             "outlinewidth": 0,
             "ticks": ""
            },
            "colorscale": [
             [
              0.0,
              "#0d0887"
             ],
             [
              0.1111111111111111,
              "#46039f"
             ],
             [
              0.2222222222222222,
              "#7201a8"
             ],
             [
              0.3333333333333333,
              "#9c179e"
             ],
             [
              0.4444444444444444,
              "#bd3786"
             ],
             [
              0.5555555555555556,
              "#d8576b"
             ],
             [
              0.6666666666666666,
              "#ed7953"
             ],
             [
              0.7777777777777778,
              "#fb9f3a"
             ],
             [
              0.8888888888888888,
              "#fdca26"
             ],
             [
              1.0,
              "#f0f921"
             ]
            ]
           }
          ],
          "heatmap": [
           {
            "type": "heatmap",
            "colorbar": {
             "outlinewidth": 0,
             "ticks": ""
            },
            "colorscale": [
             [
              0.0,
              "#0d0887"
             ],
             [
              0.1111111111111111,
              "#46039f"
             ],
             [
              0.2222222222222222,
              "#7201a8"
             ],
             [
              0.3333333333333333,
              "#9c179e"
             ],
             [
              0.4444444444444444,
              "#bd3786"
             ],
             [
              0.5555555555555556,
              "#d8576b"
             ],
             [
              0.6666666666666666,
              "#ed7953"
             ],
             [
              0.7777777777777778,
              "#fb9f3a"
             ],
             [
              0.8888888888888888,
              "#fdca26"
             ],
             [
              1.0,
              "#f0f921"
             ]
            ]
           }
          ],
          "heatmapgl": [
           {
            "type": "heatmapgl",
            "colorbar": {
             "outlinewidth": 0,
             "ticks": ""
            },
            "colorscale": [
             [
              0.0,
              "#0d0887"
             ],
             [
              0.1111111111111111,
              "#46039f"
             ],
             [
              0.2222222222222222,
              "#7201a8"
             ],
             [
              0.3333333333333333,
              "#9c179e"
             ],
             [
              0.4444444444444444,
              "#bd3786"
             ],
             [
              0.5555555555555556,
              "#d8576b"
             ],
             [
              0.6666666666666666,
              "#ed7953"
             ],
             [
              0.7777777777777778,
              "#fb9f3a"
             ],
             [
              0.8888888888888888,
              "#fdca26"
             ],
             [
              1.0,
              "#f0f921"
             ]
            ]
           }
          ],
          "contourcarpet": [
           {
            "type": "contourcarpet",
            "colorbar": {
             "outlinewidth": 0,
             "ticks": ""
            }
           }
          ],
          "contour": [
           {
            "type": "contour",
            "colorbar": {
             "outlinewidth": 0,
             "ticks": ""
            },
            "colorscale": [
             [
              0.0,
              "#0d0887"
             ],
             [
              0.1111111111111111,
              "#46039f"
             ],
             [
              0.2222222222222222,
              "#7201a8"
             ],
             [
              0.3333333333333333,
              "#9c179e"
             ],
             [
              0.4444444444444444,
              "#bd3786"
             ],
             [
              0.5555555555555556,
              "#d8576b"
             ],
             [
              0.6666666666666666,
              "#ed7953"
             ],
             [
              0.7777777777777778,
              "#fb9f3a"
             ],
             [
              0.8888888888888888,
              "#fdca26"
             ],
             [
              1.0,
              "#f0f921"
             ]
            ]
           }
          ],
          "surface": [
           {
            "type": "surface",
            "colorbar": {
             "outlinewidth": 0,
             "ticks": ""
            },
            "colorscale": [
             [
              0.0,
              "#0d0887"
             ],
             [
              0.1111111111111111,
              "#46039f"
             ],
             [
              0.2222222222222222,
              "#7201a8"
             ],
             [
              0.3333333333333333,
              "#9c179e"
             ],
             [
              0.4444444444444444,
              "#bd3786"
             ],
             [
              0.5555555555555556,
              "#d8576b"
             ],
             [
              0.6666666666666666,
              "#ed7953"
             ],
             [
              0.7777777777777778,
              "#fb9f3a"
             ],
             [
              0.8888888888888888,
              "#fdca26"
             ],
             [
              1.0,
              "#f0f921"
             ]
            ]
           }
          ],
          "mesh3d": [
           {
            "type": "mesh3d",
            "colorbar": {
             "outlinewidth": 0,
             "ticks": ""
            }
           }
          ],
          "scatter": [
           {
            "fillpattern": {
             "fillmode": "overlay",
             "size": 10,
             "solidity": 0.2
            },
            "type": "scatter"
           }
          ],
          "parcoords": [
           {
            "type": "parcoords",
            "line": {
             "colorbar": {
              "outlinewidth": 0,
              "ticks": ""
             }
            }
           }
          ],
          "scatterpolargl": [
           {
            "type": "scatterpolargl",
            "marker": {
             "colorbar": {
              "outlinewidth": 0,
              "ticks": ""
             }
            }
           }
          ],
          "bar": [
           {
            "error_x": {
             "color": "#2a3f5f"
            },
            "error_y": {
             "color": "#2a3f5f"
            },
            "marker": {
             "line": {
              "color": "#E5ECF6",
              "width": 0.5
             },
             "pattern": {
              "fillmode": "overlay",
              "size": 10,
              "solidity": 0.2
             }
            },
            "type": "bar"
           }
          ],
          "scattergeo": [
           {
            "type": "scattergeo",
            "marker": {
             "colorbar": {
              "outlinewidth": 0,
              "ticks": ""
             }
            }
           }
          ],
          "scatterpolar": [
           {
            "type": "scatterpolar",
            "marker": {
             "colorbar": {
              "outlinewidth": 0,
              "ticks": ""
             }
            }
           }
          ],
          "histogram": [
           {
            "marker": {
             "pattern": {
              "fillmode": "overlay",
              "size": 10,
              "solidity": 0.2
             }
            },
            "type": "histogram"
           }
          ],
          "scattergl": [
           {
            "type": "scattergl",
            "marker": {
             "colorbar": {
              "outlinewidth": 0,
              "ticks": ""
             }
            }
           }
          ],
          "scatter3d": [
           {
            "type": "scatter3d",
            "line": {
             "colorbar": {
              "outlinewidth": 0,
              "ticks": ""
             }
            },
            "marker": {
             "colorbar": {
              "outlinewidth": 0,
              "ticks": ""
             }
            }
           }
          ],
          "scattermapbox": [
           {
            "type": "scattermapbox",
            "marker": {
             "colorbar": {
              "outlinewidth": 0,
              "ticks": ""
             }
            }
           }
          ],
          "scatterternary": [
           {
            "type": "scatterternary",
            "marker": {
             "colorbar": {
              "outlinewidth": 0,
              "ticks": ""
             }
            }
           }
          ],
          "scattercarpet": [
           {
            "type": "scattercarpet",
            "marker": {
             "colorbar": {
              "outlinewidth": 0,
              "ticks": ""
             }
            }
           }
          ],
          "carpet": [
           {
            "aaxis": {
             "endlinecolor": "#2a3f5f",
             "gridcolor": "white",
             "linecolor": "white",
             "minorgridcolor": "white",
             "startlinecolor": "#2a3f5f"
            },
            "baxis": {
             "endlinecolor": "#2a3f5f",
             "gridcolor": "white",
             "linecolor": "white",
             "minorgridcolor": "white",
             "startlinecolor": "#2a3f5f"
            },
            "type": "carpet"
           }
          ],
          "table": [
           {
            "cells": {
             "fill": {
              "color": "#EBF0F8"
             },
             "line": {
              "color": "white"
             }
            },
            "header": {
             "fill": {
              "color": "#C8D4E3"
             },
             "line": {
              "color": "white"
             }
            },
            "type": "table"
           }
          ],
          "barpolar": [
           {
            "marker": {
             "line": {
              "color": "#E5ECF6",
              "width": 0.5
             },
             "pattern": {
              "fillmode": "overlay",
              "size": 10,
              "solidity": 0.2
             }
            },
            "type": "barpolar"
           }
          ],
          "pie": [
           {
            "automargin": true,
            "type": "pie"
           }
          ]
         },
         "layout": {
          "autotypenumbers": "strict",
          "colorway": [
           "#636efa",
           "#EF553B",
           "#00cc96",
           "#ab63fa",
           "#FFA15A",
           "#19d3f3",
           "#FF6692",
           "#B6E880",
           "#FF97FF",
           "#FECB52"
          ],
          "font": {
           "color": "#2a3f5f"
          },
          "hovermode": "closest",
          "hoverlabel": {
           "align": "left"
          },
          "paper_bgcolor": "white",
          "plot_bgcolor": "#E5ECF6",
          "polar": {
           "bgcolor": "#E5ECF6",
           "angularaxis": {
            "gridcolor": "white",
            "linecolor": "white",
            "ticks": ""
           },
           "radialaxis": {
            "gridcolor": "white",
            "linecolor": "white",
            "ticks": ""
           }
          },
          "ternary": {
           "bgcolor": "#E5ECF6",
           "aaxis": {
            "gridcolor": "white",
            "linecolor": "white",
            "ticks": ""
           },
           "baxis": {
            "gridcolor": "white",
            "linecolor": "white",
            "ticks": ""
           },
           "caxis": {
            "gridcolor": "white",
            "linecolor": "white",
            "ticks": ""
           }
          },
          "coloraxis": {
           "colorbar": {
            "outlinewidth": 0,
            "ticks": ""
           }
          },
          "colorscale": {
           "sequential": [
            [
             0.0,
             "#0d0887"
            ],
            [
             0.1111111111111111,
             "#46039f"
            ],
            [
             0.2222222222222222,
             "#7201a8"
            ],
            [
             0.3333333333333333,
             "#9c179e"
            ],
            [
             0.4444444444444444,
             "#bd3786"
            ],
            [
             0.5555555555555556,
             "#d8576b"
            ],
            [
             0.6666666666666666,
             "#ed7953"
            ],
            [
             0.7777777777777778,
             "#fb9f3a"
            ],
            [
             0.8888888888888888,
             "#fdca26"
            ],
            [
             1.0,
             "#f0f921"
            ]
           ],
           "sequentialminus": [
            [
             0.0,
             "#0d0887"
            ],
            [
             0.1111111111111111,
             "#46039f"
            ],
            [
             0.2222222222222222,
             "#7201a8"
            ],
            [
             0.3333333333333333,
             "#9c179e"
            ],
            [
             0.4444444444444444,
             "#bd3786"
            ],
            [
             0.5555555555555556,
             "#d8576b"
            ],
            [
             0.6666666666666666,
             "#ed7953"
            ],
            [
             0.7777777777777778,
             "#fb9f3a"
            ],
            [
             0.8888888888888888,
             "#fdca26"
            ],
            [
             1.0,
             "#f0f921"
            ]
           ],
           "diverging": [
            [
             0,
             "#8e0152"
            ],
            [
             0.1,
             "#c51b7d"
            ],
            [
             0.2,
             "#de77ae"
            ],
            [
             0.3,
             "#f1b6da"
            ],
            [
             0.4,
             "#fde0ef"
            ],
            [
             0.5,
             "#f7f7f7"
            ],
            [
             0.6,
             "#e6f5d0"
            ],
            [
             0.7,
             "#b8e186"
            ],
            [
             0.8,
             "#7fbc41"
            ],
            [
             0.9,
             "#4d9221"
            ],
            [
             1,
             "#276419"
            ]
           ]
          },
          "xaxis": {
           "gridcolor": "white",
           "linecolor": "white",
           "ticks": "",
           "title": {
            "standoff": 15
           },
           "zerolinecolor": "white",
           "automargin": true,
           "zerolinewidth": 2
          },
          "yaxis": {
           "gridcolor": "white",
           "linecolor": "white",
           "ticks": "",
           "title": {
            "standoff": 15
           },
           "zerolinecolor": "white",
           "automargin": true,
           "zerolinewidth": 2
          },
          "scene": {
           "xaxis": {
            "backgroundcolor": "#E5ECF6",
            "gridcolor": "white",
            "linecolor": "white",
            "showbackground": true,
            "ticks": "",
            "zerolinecolor": "white",
            "gridwidth": 2
           },
           "yaxis": {
            "backgroundcolor": "#E5ECF6",
            "gridcolor": "white",
            "linecolor": "white",
            "showbackground": true,
            "ticks": "",
            "zerolinecolor": "white",
            "gridwidth": 2
           },
           "zaxis": {
            "backgroundcolor": "#E5ECF6",
            "gridcolor": "white",
            "linecolor": "white",
            "showbackground": true,
            "ticks": "",
            "zerolinecolor": "white",
            "gridwidth": 2
           }
          },
          "shapedefaults": {
           "line": {
            "color": "#2a3f5f"
           }
          },
          "annotationdefaults": {
           "arrowcolor": "#2a3f5f",
           "arrowhead": 0,
           "arrowwidth": 1
          },
          "geo": {
           "bgcolor": "white",
           "landcolor": "#E5ECF6",
           "subunitcolor": "white",
           "showland": true,
           "showlakes": true,
           "lakecolor": "white"
          },
          "title": {
           "x": 0.05
          },
          "mapbox": {
           "style": "light"
          }
         }
        },
        "scene": {
         "aspectratio": {
          "x": 1,
          "y": 1.25,
          "z": 1
         },
         "xaxis": {
          "title": {
           "text": "X"
          },
          "range": [
           -128,
           128
          ]
         },
         "yaxis": {
          "title": {
           "text": "Y"
          },
          "range": [
           0,
           100
          ]
         },
         "zaxis": {
          "title": {
           "text": "Z"
          },
          "range": [
           -128,
           128
          ]
         },
         "camera": {
          "up": {
           "x": 0,
           "y": 1,
           "z": 0
          },
          "center": {
           "x": 0,
           "y": 0,
           "z": 0
          },
          "eye": {
           "x": 1.5,
           "y": 1.5,
           "z": 1.5
          }
         }
        },
        "title": {
         "text": "3D Scatter Plot"
        }
       },
       "config": {
        "plotlyServerURL": "https://plot.ly"
       }
      },
      "text/html": "<div>                            <div id=\"e6fcde67-aeee-4f21-8aa9-b1821a4496be\" class=\"plotly-graph-div\" style=\"height:525px; width:100%;\"></div>            <script type=\"text/javascript\">                require([\"plotly\"], function(Plotly) {                    window.PLOTLYENV=window.PLOTLYENV || {};                                    if (document.getElementById(\"e6fcde67-aeee-4f21-8aa9-b1821a4496be\")) {                    Plotly.newPlot(                        \"e6fcde67-aeee-4f21-8aa9-b1821a4496be\",                        [{\"marker\":{\"color\":[0.0,-43.135202119982644,86.69005783459484,-81.26471693226972,19.718696095077796,64.77210379351418,-121.11406945968956,113.34068806541453,-43.81126066035747,-47.852467653250045,109.30361106383161,-108.01849601641233,51.34413631820074,18.68558606726586,-52.23951931519611,0.0],\"colorscale\":[[0.0,\"#440154\"],[0.1111111111111111,\"#482878\"],[0.2222222222222222,\"#3e4989\"],[0.3333333333333333,\"#31688e\"],[0.4444444444444444,\"#26828e\"],[0.5555555555555556,\"#1f9e89\"],[0.6666666666666666,\"#35b779\"],[0.7777777777777778,\"#6ece58\"],[0.8888888888888888,\"#b5de2b\"],[1.0,\"#fde725\"]],\"opacity\":0.8,\"size\":8},\"mode\":\"markers\",\"x\":[0.0,-47.0866211744249,7.608072129224906,62.304139364235475,-111.47691201858281,101.82401546647912,-32.557981800374094,-58.86485072673354,119.96564367172977,-115.92575787759446,51.1495470552984,33.88116596637733,-88.59762787873058,84.99351600099672,-36.72639619228665,-0.0],\"y\":[100.0,93.33333333333333,86.66666666666667,80.0,73.33333333333334,66.66666666666667,60.0,53.333333333333336,46.666666666666664,40.0,33.333333333333336,26.66666666666667,19.999999999999996,13.33333333333333,6.666666666666665,0.0],\"z\":[0.0,-43.135202119982644,86.69005783459484,-81.26471693226972,19.718696095077796,64.77210379351418,-121.11406945968956,113.34068806541453,-43.81126066035747,-47.852467653250045,109.30361106383161,-108.01849601641233,51.34413631820074,18.68558606726586,-52.23951931519611,0.0],\"type\":\"scatter3d\"}],                        {\"template\":{\"data\":{\"histogram2dcontour\":[{\"type\":\"histogram2dcontour\",\"colorbar\":{\"outlinewidth\":0,\"ticks\":\"\"},\"colorscale\":[[0.0,\"#0d0887\"],[0.1111111111111111,\"#46039f\"],[0.2222222222222222,\"#7201a8\"],[0.3333333333333333,\"#9c179e\"],[0.4444444444444444,\"#bd3786\"],[0.5555555555555556,\"#d8576b\"],[0.6666666666666666,\"#ed7953\"],[0.7777777777777778,\"#fb9f3a\"],[0.8888888888888888,\"#fdca26\"],[1.0,\"#f0f921\"]]}],\"choropleth\":[{\"type\":\"choropleth\",\"colorbar\":{\"outlinewidth\":0,\"ticks\":\"\"}}],\"histogram2d\":[{\"type\":\"histogram2d\",\"colorbar\":{\"outlinewidth\":0,\"ticks\":\"\"},\"colorscale\":[[0.0,\"#0d0887\"],[0.1111111111111111,\"#46039f\"],[0.2222222222222222,\"#7201a8\"],[0.3333333333333333,\"#9c179e\"],[0.4444444444444444,\"#bd3786\"],[0.5555555555555556,\"#d8576b\"],[0.6666666666666666,\"#ed7953\"],[0.7777777777777778,\"#fb9f3a\"],[0.8888888888888888,\"#fdca26\"],[1.0,\"#f0f921\"]]}],\"heatmap\":[{\"type\":\"heatmap\",\"colorbar\":{\"outlinewidth\":0,\"ticks\":\"\"},\"colorscale\":[[0.0,\"#0d0887\"],[0.1111111111111111,\"#46039f\"],[0.2222222222222222,\"#7201a8\"],[0.3333333333333333,\"#9c179e\"],[0.4444444444444444,\"#bd3786\"],[0.5555555555555556,\"#d8576b\"],[0.6666666666666666,\"#ed7953\"],[0.7777777777777778,\"#fb9f3a\"],[0.8888888888888888,\"#fdca26\"],[1.0,\"#f0f921\"]]}],\"heatmapgl\":[{\"type\":\"heatmapgl\",\"colorbar\":{\"outlinewidth\":0,\"ticks\":\"\"},\"colorscale\":[[0.0,\"#0d0887\"],[0.1111111111111111,\"#46039f\"],[0.2222222222222222,\"#7201a8\"],[0.3333333333333333,\"#9c179e\"],[0.4444444444444444,\"#bd3786\"],[0.5555555555555556,\"#d8576b\"],[0.6666666666666666,\"#ed7953\"],[0.7777777777777778,\"#fb9f3a\"],[0.8888888888888888,\"#fdca26\"],[1.0,\"#f0f921\"]]}],\"contourcarpet\":[{\"type\":\"contourcarpet\",\"colorbar\":{\"outlinewidth\":0,\"ticks\":\"\"}}],\"contour\":[{\"type\":\"contour\",\"colorbar\":{\"outlinewidth\":0,\"ticks\":\"\"},\"colorscale\":[[0.0,\"#0d0887\"],[0.1111111111111111,\"#46039f\"],[0.2222222222222222,\"#7201a8\"],[0.3333333333333333,\"#9c179e\"],[0.4444444444444444,\"#bd3786\"],[0.5555555555555556,\"#d8576b\"],[0.6666666666666666,\"#ed7953\"],[0.7777777777777778,\"#fb9f3a\"],[0.8888888888888888,\"#fdca26\"],[1.0,\"#f0f921\"]]}],\"surface\":[{\"type\":\"surface\",\"colorbar\":{\"outlinewidth\":0,\"ticks\":\"\"},\"colorscale\":[[0.0,\"#0d0887\"],[0.1111111111111111,\"#46039f\"],[0.2222222222222222,\"#7201a8\"],[0.3333333333333333,\"#9c179e\"],[0.4444444444444444,\"#bd3786\"],[0.5555555555555556,\"#d8576b\"],[0.6666666666666666,\"#ed7953\"],[0.7777777777777778,\"#fb9f3a\"],[0.8888888888888888,\"#fdca26\"],[1.0,\"#f0f921\"]]}],\"mesh3d\":[{\"type\":\"mesh3d\",\"colorbar\":{\"outlinewidth\":0,\"ticks\":\"\"}}],\"scatter\":[{\"fillpattern\":{\"fillmode\":\"overlay\",\"size\":10,\"solidity\":0.2},\"type\":\"scatter\"}],\"parcoords\":[{\"type\":\"parcoords\",\"line\":{\"colorbar\":{\"outlinewidth\":0,\"ticks\":\"\"}}}],\"scatterpolargl\":[{\"type\":\"scatterpolargl\",\"marker\":{\"colorbar\":{\"outlinewidth\":0,\"ticks\":\"\"}}}],\"bar\":[{\"error_x\":{\"color\":\"#2a3f5f\"},\"error_y\":{\"color\":\"#2a3f5f\"},\"marker\":{\"line\":{\"color\":\"#E5ECF6\",\"width\":0.5},\"pattern\":{\"fillmode\":\"overlay\",\"size\":10,\"solidity\":0.2}},\"type\":\"bar\"}],\"scattergeo\":[{\"type\":\"scattergeo\",\"marker\":{\"colorbar\":{\"outlinewidth\":0,\"ticks\":\"\"}}}],\"scatterpolar\":[{\"type\":\"scatterpolar\",\"marker\":{\"colorbar\":{\"outlinewidth\":0,\"ticks\":\"\"}}}],\"histogram\":[{\"marker\":{\"pattern\":{\"fillmode\":\"overlay\",\"size\":10,\"solidity\":0.2}},\"type\":\"histogram\"}],\"scattergl\":[{\"type\":\"scattergl\",\"marker\":{\"colorbar\":{\"outlinewidth\":0,\"ticks\":\"\"}}}],\"scatter3d\":[{\"type\":\"scatter3d\",\"line\":{\"colorbar\":{\"outlinewidth\":0,\"ticks\":\"\"}},\"marker\":{\"colorbar\":{\"outlinewidth\":0,\"ticks\":\"\"}}}],\"scattermapbox\":[{\"type\":\"scattermapbox\",\"marker\":{\"colorbar\":{\"outlinewidth\":0,\"ticks\":\"\"}}}],\"scatterternary\":[{\"type\":\"scatterternary\",\"marker\":{\"colorbar\":{\"outlinewidth\":0,\"ticks\":\"\"}}}],\"scattercarpet\":[{\"type\":\"scattercarpet\",\"marker\":{\"colorbar\":{\"outlinewidth\":0,\"ticks\":\"\"}}}],\"carpet\":[{\"aaxis\":{\"endlinecolor\":\"#2a3f5f\",\"gridcolor\":\"white\",\"linecolor\":\"white\",\"minorgridcolor\":\"white\",\"startlinecolor\":\"#2a3f5f\"},\"baxis\":{\"endlinecolor\":\"#2a3f5f\",\"gridcolor\":\"white\",\"linecolor\":\"white\",\"minorgridcolor\":\"white\",\"startlinecolor\":\"#2a3f5f\"},\"type\":\"carpet\"}],\"table\":[{\"cells\":{\"fill\":{\"color\":\"#EBF0F8\"},\"line\":{\"color\":\"white\"}},\"header\":{\"fill\":{\"color\":\"#C8D4E3\"},\"line\":{\"color\":\"white\"}},\"type\":\"table\"}],\"barpolar\":[{\"marker\":{\"line\":{\"color\":\"#E5ECF6\",\"width\":0.5},\"pattern\":{\"fillmode\":\"overlay\",\"size\":10,\"solidity\":0.2}},\"type\":\"barpolar\"}],\"pie\":[{\"automargin\":true,\"type\":\"pie\"}]},\"layout\":{\"autotypenumbers\":\"strict\",\"colorway\":[\"#636efa\",\"#EF553B\",\"#00cc96\",\"#ab63fa\",\"#FFA15A\",\"#19d3f3\",\"#FF6692\",\"#B6E880\",\"#FF97FF\",\"#FECB52\"],\"font\":{\"color\":\"#2a3f5f\"},\"hovermode\":\"closest\",\"hoverlabel\":{\"align\":\"left\"},\"paper_bgcolor\":\"white\",\"plot_bgcolor\":\"#E5ECF6\",\"polar\":{\"bgcolor\":\"#E5ECF6\",\"angularaxis\":{\"gridcolor\":\"white\",\"linecolor\":\"white\",\"ticks\":\"\"},\"radialaxis\":{\"gridcolor\":\"white\",\"linecolor\":\"white\",\"ticks\":\"\"}},\"ternary\":{\"bgcolor\":\"#E5ECF6\",\"aaxis\":{\"gridcolor\":\"white\",\"linecolor\":\"white\",\"ticks\":\"\"},\"baxis\":{\"gridcolor\":\"white\",\"linecolor\":\"white\",\"ticks\":\"\"},\"caxis\":{\"gridcolor\":\"white\",\"linecolor\":\"white\",\"ticks\":\"\"}},\"coloraxis\":{\"colorbar\":{\"outlinewidth\":0,\"ticks\":\"\"}},\"colorscale\":{\"sequential\":[[0.0,\"#0d0887\"],[0.1111111111111111,\"#46039f\"],[0.2222222222222222,\"#7201a8\"],[0.3333333333333333,\"#9c179e\"],[0.4444444444444444,\"#bd3786\"],[0.5555555555555556,\"#d8576b\"],[0.6666666666666666,\"#ed7953\"],[0.7777777777777778,\"#fb9f3a\"],[0.8888888888888888,\"#fdca26\"],[1.0,\"#f0f921\"]],\"sequentialminus\":[[0.0,\"#0d0887\"],[0.1111111111111111,\"#46039f\"],[0.2222222222222222,\"#7201a8\"],[0.3333333333333333,\"#9c179e\"],[0.4444444444444444,\"#bd3786\"],[0.5555555555555556,\"#d8576b\"],[0.6666666666666666,\"#ed7953\"],[0.7777777777777778,\"#fb9f3a\"],[0.8888888888888888,\"#fdca26\"],[1.0,\"#f0f921\"]],\"diverging\":[[0,\"#8e0152\"],[0.1,\"#c51b7d\"],[0.2,\"#de77ae\"],[0.3,\"#f1b6da\"],[0.4,\"#fde0ef\"],[0.5,\"#f7f7f7\"],[0.6,\"#e6f5d0\"],[0.7,\"#b8e186\"],[0.8,\"#7fbc41\"],[0.9,\"#4d9221\"],[1,\"#276419\"]]},\"xaxis\":{\"gridcolor\":\"white\",\"linecolor\":\"white\",\"ticks\":\"\",\"title\":{\"standoff\":15},\"zerolinecolor\":\"white\",\"automargin\":true,\"zerolinewidth\":2},\"yaxis\":{\"gridcolor\":\"white\",\"linecolor\":\"white\",\"ticks\":\"\",\"title\":{\"standoff\":15},\"zerolinecolor\":\"white\",\"automargin\":true,\"zerolinewidth\":2},\"scene\":{\"xaxis\":{\"backgroundcolor\":\"#E5ECF6\",\"gridcolor\":\"white\",\"linecolor\":\"white\",\"showbackground\":true,\"ticks\":\"\",\"zerolinecolor\":\"white\",\"gridwidth\":2},\"yaxis\":{\"backgroundcolor\":\"#E5ECF6\",\"gridcolor\":\"white\",\"linecolor\":\"white\",\"showbackground\":true,\"ticks\":\"\",\"zerolinecolor\":\"white\",\"gridwidth\":2},\"zaxis\":{\"backgroundcolor\":\"#E5ECF6\",\"gridcolor\":\"white\",\"linecolor\":\"white\",\"showbackground\":true,\"ticks\":\"\",\"zerolinecolor\":\"white\",\"gridwidth\":2}},\"shapedefaults\":{\"line\":{\"color\":\"#2a3f5f\"}},\"annotationdefaults\":{\"arrowcolor\":\"#2a3f5f\",\"arrowhead\":0,\"arrowwidth\":1},\"geo\":{\"bgcolor\":\"white\",\"landcolor\":\"#E5ECF6\",\"subunitcolor\":\"white\",\"showland\":true,\"showlakes\":true,\"lakecolor\":\"white\"},\"title\":{\"x\":0.05},\"mapbox\":{\"style\":\"light\"}}},\"scene\":{\"aspectratio\":{\"x\":1,\"y\":1.25,\"z\":1},\"xaxis\":{\"title\":{\"text\":\"X\"},\"range\":[-128,128]},\"yaxis\":{\"title\":{\"text\":\"Y\"},\"range\":[0,100]},\"zaxis\":{\"title\":{\"text\":\"Z\"},\"range\":[-128,128]},\"camera\":{\"up\":{\"x\":0,\"y\":1,\"z\":0},\"center\":{\"x\":0,\"y\":0,\"z\":0},\"eye\":{\"x\":1.5,\"y\":1.5,\"z\":1.5}}},\"title\":{\"text\":\"3D Scatter Plot\"}},                        {\"responsive\": true}                    ).then(function(){\n                            \nvar gd = document.getElementById('e6fcde67-aeee-4f21-8aa9-b1821a4496be');\nvar x = new MutationObserver(function (mutations, observer) {{\n        var display = window.getComputedStyle(gd).display;\n        if (!display || display === 'none') {{\n            console.log([gd, 'removed!']);\n            Plotly.purge(gd);\n            observer.disconnect();\n        }}\n}});\n\n// Listen for the removal of the full notebook cells\nvar notebookContainer = gd.closest('#notebook-container');\nif (notebookContainer) {{\n    x.observe(notebookContainer, {childList: true});\n}}\n\n// Listen for the clearing of the current output cell\nvar outputEl = gd.closest('.output');\nif (outputEl) {{\n    x.observe(outputEl, {childList: true});\n}}\n\n                        })                };                });            </script>        </div>"
     },
     "metadata": {},
     "output_type": "display_data"
    }
   ],
   "source": [
    "import plotly.graph_objects as go\n",
    "\n",
    "def plot_3d_points(points, title=\"3D Scatter Plot\", labels=None):\n",
    "    \"\"\"\n",
    "    Plot a list of 3D points using plotly\n",
    "\n",
    "    Args:\n",
    "        points: List of (x,y,z) tuples\n",
    "        title: Plot title\n",
    "        labels: Optional dict with 'x', 'y', 'z' axis labels\n",
    "    \"\"\"\n",
    "    if not points:\n",
    "        raise ValueError(\"Points list cannot be empty\")\n",
    "\n",
    "    x, y, z = zip(*points)\n",
    "\n",
    "    fig = go.Figure(data=[go.Scatter3d(\n",
    "        x=x, y=y, z=z,\n",
    "        mode='markers',\n",
    "        marker=dict(\n",
    "            size=8,\n",
    "            color=z,\n",
    "            colorscale='Viridis',\n",
    "            opacity=0.8\n",
    "        )\n",
    "    )])\n",
    "\n",
    "    axis_labels = labels or {'x': 'X', 'y': 'Y', 'z': 'Z'}\n",
    "\n",
    "    fig.update_layout(\n",
    "        title=title,\n",
    "        scene=dict(\n",
    "            aspectratio=dict(x=1, y=1.25, z=1),\n",
    "            xaxis_title=axis_labels['x'],\n",
    "            yaxis_title=axis_labels['y'],\n",
    "            zaxis_title=axis_labels['z'],\n",
    "            xaxis=dict(range=[-128, 128]),\n",
    "            yaxis=dict(range=[0, 100]),\n",
    "            zaxis=dict(range=[-128, 128])\n",
    "        )\n",
    "    )\n",
    "\n",
    "    fig.update_layout(scene_camera=dict(\n",
    "        up=dict(x=0, y=1, z=0),\n",
    "        center=dict(x=0, y=0, z=0),\n",
    "        eye=dict(x=1.5, y=1.5, z=1.5)\n",
    "    ))\n",
    "\n",
    "    fig.show()\n",
    "\n",
    "plot_3d_points(new_points)"
   ],
   "metadata": {
    "collapsed": false,
    "ExecuteTime": {
     "end_time": "2024-12-31T16:55:02.635585Z",
     "start_time": "2024-12-31T16:55:02.609830Z"
    }
   }
  },
  {
   "cell_type": "code",
   "execution_count": null,
   "outputs": [],
   "source": [],
   "metadata": {
    "collapsed": false
   }
  }
 ],
 "metadata": {
  "kernelspec": {
   "display_name": "Python 3",
   "language": "python",
   "name": "python3"
  },
  "language_info": {
   "codemirror_mode": {
    "name": "ipython",
    "version": 2
   },
   "file_extension": ".py",
   "mimetype": "text/x-python",
   "name": "python",
   "nbconvert_exporter": "python",
   "pygments_lexer": "ipython2",
   "version": "2.7.6"
  }
 },
 "nbformat": 4,
 "nbformat_minor": 0
}
