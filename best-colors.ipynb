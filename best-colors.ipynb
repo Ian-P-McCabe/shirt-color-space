{
 "cells": [
  {
   "cell_type": "code",
   "execution_count": 59,
   "metadata": {
    "collapsed": true,
    "ExecuteTime": {
     "end_time": "2024-12-30T21:00:38.686382Z",
     "start_time": "2024-12-30T21:00:38.666949Z"
    }
   },
   "outputs": [],
   "source": [
    "import importlib\n",
    "\n",
    "import numpy as np\n",
    "import pandas as pd\n",
    "import numpy\n",
    "import lab_graph\n",
    "\n",
    "importlib.reload(lab_graph)\n",
    "\n",
    "#Fix colormath depreciated numpy method\n",
    "def patch_asscalar(a):\n",
    "    return a.item()\n",
    "setattr(numpy, \"asscalar\", patch_asscalar)\n",
    "\n",
    "df = pd.read_csv(\"data/all-colors-unique.csv\")\n",
    "\n",
    "#Create a 2D array of Lab values\n",
    "lab_list = list(df[\"L*a*b Value\"])\n",
    "lab_list = [x.split(\", \") for x in lab_list]\n",
    "lab_points = [[float(x) for x in row] for row in lab_list]\n",
    "\n",
    "#Use greedy approach\n",
    "result = lab_graph.greedy_mdp(lab_points, 16)\n",
    "\n",
    "#Create new dataframe with just the resultant indices\n",
    "result_df = df.loc[result]\n",
    "\n",
    "#lab_graph.generate_lab_3d_all_colors(result_df, \"Test 1\", \"N/a\")"
   ]
  },
  {
   "cell_type": "code",
   "execution_count": 60,
   "outputs": [
    {
     "name": "stdout",
     "output_type": "stream",
     "text": [
      "___Euclidean Distance___\n",
      "Color Name                      Poppy\n",
      "PMS Color Code                  2347C\n",
      "L*a*b Value       49.45, 75.12, 67.21\n",
      "Hex                            E10600\n",
      "Name: 36, dtype: object\n",
      "Color Name                         Teal\n",
      "PMS Color Code                    3262C\n",
      "L*a*b Value       66.44, -59.33, -12.05\n",
      "Hex                              00BFB2\n",
      "Name: 46, dtype: object\n",
      "\n",
      "___Delta_E_Distance___\n",
      "Color Name                      Berry\n",
      "PMS Color Code                  233CP\n",
      "L*a*b Value       45.38, 71.84, -7.30\n",
      "Hex                            C6057B\n",
      "Name: 6, dtype: object\n",
      "Color Name               Heather Kelly\n",
      "PMS Color Code                   340 C\n",
      "L*a*b Value       51.80, -65.36, 14.55\n",
      "Hex                             00965E\n",
      "Name: 72, dtype: object\n"
     ]
    }
   ],
   "source": [
    "from scipy.spatial.distance import pdist, squareform\n",
    "import colormath.color_objects as co\n",
    "import colormath.color_diff as cdiff\n",
    "\n",
    "distances = squareform(pdist(lab_points))\n",
    "#Retrieves the indices furthest points\n",
    "i, j = np.unravel_index(np.argmax(distances), distances.shape)\n",
    "\n",
    "print(\"___Euclidean Distance___\")\n",
    "print(df.iloc[i])\n",
    "print(df.iloc[j])\n",
    "# Use lab points\n",
    "\n",
    "def lab_point_distance(color1, color2, delta_e=\"CIE2000\"):\n",
    "    \"\"\"\n",
    "    Compute the difference between two colors using a Delta E formula.\n",
    "\n",
    "    :param color1: Lab color number 1\n",
    "    :param color2: Lab color number 2\n",
    "    :param delta_e: The comparison formula, CIE2000 (symmetric) is default\n",
    "    :return: Returns the distance between two colors using the CIE2000 or CMC delta E formula\n",
    "    \"\"\"\n",
    "    lab_1 = co.LabColor(color1[0], color1[1], color1[2])\n",
    "    lab_2 = co.LabColor(color2[0], color2[1], color2[2])\n",
    "\n",
    "    if delta_e == \"CIE2000\":\n",
    "        return cdiff.delta_e_cie2000(lab_1, lab_2, Kl=2, Kc=1, Kh=1)\n",
    "    if delta_e == \"CMC\":\n",
    "        return cdiff.delta_e_cmc(lab_1, lab_2, pl=2, pc=1)\n",
    "\n",
    "distances = squareform(pdist(lab_points, metric=lab_point_distance))\n",
    "i,j = np.unravel_index(np.argmax(distances), distances.shape)\n",
    "\n",
    "print(\"\\n___Delta_E_Distance___\")\n",
    "print(df.iloc[i])\n",
    "print(df.iloc[j])\n"
   ],
   "metadata": {
    "collapsed": false,
    "ExecuteTime": {
     "end_time": "2024-12-30T21:00:42.863954Z",
     "start_time": "2024-12-30T21:00:41.839220Z"
    }
   }
  },
  {
   "cell_type": "code",
   "execution_count": 61,
   "outputs": [
    {
     "data": {
      "text/plain": "                Color Name PMS Color Code           L*a*b Value     Hex\n32                   Olive         5747CP   31.03, -6.88, 23.88  474C21\n64   Heather Columbia Blue          660 U   56.78, 0.45, -38.70  658BCC\n35                    Pink           706C    86.80, 16.25, 1.44  F7CED7\n100    Heather Team Purple         2665 C  45.45, 34.51, -52.90  7D55C7\n36                   Poppy          2347C   49.45, 75.12, 67.21  E10600",
      "text/html": "<div>\n<style scoped>\n    .dataframe tbody tr th:only-of-type {\n        vertical-align: middle;\n    }\n\n    .dataframe tbody tr th {\n        vertical-align: top;\n    }\n\n    .dataframe thead th {\n        text-align: right;\n    }\n</style>\n<table border=\"1\" class=\"dataframe\">\n  <thead>\n    <tr style=\"text-align: right;\">\n      <th></th>\n      <th>Color Name</th>\n      <th>PMS Color Code</th>\n      <th>L*a*b Value</th>\n      <th>Hex</th>\n    </tr>\n  </thead>\n  <tbody>\n    <tr>\n      <th>32</th>\n      <td>Olive</td>\n      <td>5747CP</td>\n      <td>31.03, -6.88, 23.88</td>\n      <td>474C21</td>\n    </tr>\n    <tr>\n      <th>64</th>\n      <td>Heather Columbia Blue</td>\n      <td>660 U</td>\n      <td>56.78, 0.45, -38.70</td>\n      <td>658BCC</td>\n    </tr>\n    <tr>\n      <th>35</th>\n      <td>Pink</td>\n      <td>706C</td>\n      <td>86.80, 16.25, 1.44</td>\n      <td>F7CED7</td>\n    </tr>\n    <tr>\n      <th>100</th>\n      <td>Heather Team Purple</td>\n      <td>2665 C</td>\n      <td>45.45, 34.51, -52.90</td>\n      <td>7D55C7</td>\n    </tr>\n    <tr>\n      <th>36</th>\n      <td>Poppy</td>\n      <td>2347C</td>\n      <td>49.45, 75.12, 67.21</td>\n      <td>E10600</td>\n    </tr>\n  </tbody>\n</table>\n</div>"
     },
     "execution_count": 61,
     "metadata": {},
     "output_type": "execute_result"
    }
   ],
   "source": [
    "# Need a scoring function\n",
    "# Take a set of lab point indices\n",
    "\n",
    "\n",
    "\n",
    "# Score by average distance\n",
    "# Score by Convex Hull\n",
    "\n",
    "#Average distance\n",
    "#Provide a pair of points from"
   ],
   "metadata": {
    "collapsed": false,
    "ExecuteTime": {
     "end_time": "2024-12-30T21:00:59.721231Z",
     "start_time": "2024-12-30T21:00:59.715840Z"
    }
   }
  },
  {
   "cell_type": "code",
   "execution_count": null,
   "outputs": [],
   "source": [],
   "metadata": {
    "collapsed": false
   }
  },
  {
   "cell_type": "code",
   "execution_count": null,
   "outputs": [],
   "source": [
    "#Retrieve the hundred furthest points\n",
    "flat_indices = np.argpartition(distances.flatten(), -100)[-100:]\n",
    "# Convert to 2D indices\n",
    "i_indices, j_indices = np.unravel_index(flat_indices, distances.shape)\n",
    "# Get corresponding distances\n",
    "top_distances = distances[i_indices, j_indices]\n",
    "# Sort by distance (optional)\n",
    "sort_idx = np.argsort(top_distances)[::-1]\n",
    "i_indices = i_indices[sort_idx]\n",
    "j_indices = j_indices[sort_idx]\n",
    "top_distances = top_distances[sort_idx]\n",
    "\n",
    "print(j_indices[0], i_indices[0])\n",
    "print(j_indices[1], i_indices[1])"
   ],
   "metadata": {
    "collapsed": false
   }
  }
 ],
 "metadata": {
  "kernelspec": {
   "display_name": "Python 3",
   "language": "python",
   "name": "python3"
  },
  "language_info": {
   "codemirror_mode": {
    "name": "ipython",
    "version": 2
   },
   "file_extension": ".py",
   "mimetype": "text/x-python",
   "name": "python",
   "nbconvert_exporter": "python",
   "pygments_lexer": "ipython2",
   "version": "2.7.6"
  }
 },
 "nbformat": 4,
 "nbformat_minor": 0
}
