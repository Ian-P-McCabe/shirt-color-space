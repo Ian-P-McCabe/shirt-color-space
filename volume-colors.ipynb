{
 "cells": [
  {
   "cell_type": "code",
   "execution_count": 10,
   "metadata": {
    "collapsed": true,
    "ExecuteTime": {
     "end_time": "2025-03-14T20:03:46.355494Z",
     "start_time": "2025-03-14T20:03:46.271221Z"
    }
   },
   "outputs": [
    {
     "data": {
      "application/vnd.plotly.v1+json": {
       "data": [
        {
         "hovertemplate": "<b>%{text}</b><br>L*: %{y:.1f}<br>a*: %{x:.1f}<br>b*: %{z:.1f}<br>",
         "marker": {
          "color": [
           "#4298B5",
           "#555D51",
           "#BDC4C2",
           "#6C6864",
           "#A05729",
           "#89B2BD",
           "#C6057B",
           "#2D2926",
           "#423A31",
           "#CB6015",
           "#9D2235",
           "#9B2743",
           "#DE5795",
           "#FF8870",
           "#38484E",
           "#4A493B",
           "#005876",
           "#115740",
           "#183029",
           "#FFA400",
           "#007A53",
           "#729364",
           "#A6BBC8",
           "#DEBBD5",
           "#F2CA00",
           "#672E45",
           "#A36D6A",
           "#60705E",
           "#C29951",
           "#E2D0A0",
           "#202A44",
           "#66A5B5",
           "#474C21",
           "#FF6A39",
           "#55394D",
           "#F7CED7",
           "#E10600",
           "#BA0C2F",
           "#9E483F",
           "#C7C9C7",
           "#DECA9E",
           "#EFDAC8",
           "#678096",
           "#757870",
           "#E37F57",
           "#AEA282",
           "#00BFB2",
           "#2E1A47",
           "#4C619C",
           "#00AFD7",
           "#212322",
           "#DFDDD6",
           "#FFFFFF",
           "#F6EB69",
           "#ACB3B8",
           "#454038",
           "#545859",
           "#75726F",
           "#48A9C5",
           "#A26C53",
           "#8E9FBC",
           "#5D4B3C",
           "#651C32",
           "#A26859",
           "#658BCC",
           "#34657F",
           "#DCD2C4",
           "#8FAD9F",
           "#48655B",
           "#447961",
           "#79863C",
           "#BDDDD9",
           "#00965E",
           "#65649E",
           "#603147",
           "#A06A62",
           "#343A4A",
           "#6C6E60",
           "#A8D5BA",
           "#CCA55C",
           "#3B4559",
           "#827752",
           "#AA939C",
           "#F2BD79",
           "#BCC0D2",
           "#92ACA0",
           "#B3D2B5",
           "#CAA0AE",
           "#A0DAB3",
           "#D6D2BE",
           "#EABEB0",
           "#EA905D",
           "#AF4D64",
           "#BF0D3E",
           "#00BAB3",
           "#5C6E76",
           "#908878",
           "#76797A",
           "#E88467",
           "#958A73",
           "#7D55C7",
           "#2B7BBB",
           "#FDD26E"
          ],
          "opacity": 1.0,
          "size": 7
         },
         "mode": "markers+text",
         "text": [
          "Aqua",
          "Army",
          "Ash",
          "Asphalt",
          "Autumn",
          "Baby Blue",
          "Berry",
          "Black",
          "Brown",
          "Burnt Orange",
          "Canvas Red",
          "Cardinal",
          "Charity Pink",
          "Coral",
          "Dark Grey",
          "Dark Olive",
          "Deep Teal",
          "Evergreen",
          "Forest",
          "Gold",
          "Kelly",
          "Leaf",
          "Light Blue",
          "Lilac",
          "Maize Yellow",
          "Maroon",
          "Mauve",
          "Military Green",
          "Mustard",
          "Natural",
          "Navy",
          "Ocean Blue",
          "Olive",
          "Orange",
          "Oxblood Black",
          "Pink",
          "Poppy",
          "Red",
          "Rust",
          "Silver",
          "Soft Cream",
          "Soft Pink",
          "Steel Blue",
          "Storm",
          "Sunset",
          "Tan",
          "Teal",
          "Team Purple",
          "True Royal",
          "Turquoise",
          "Vintage Black",
          "Vintage White",
          "White",
          "Yellow",
          "Athletic Heather",
          "Black Heather",
          "Dark Grey Heather",
          "Deep Heather",
          "Heather Aqua",
          "Heather Autumn",
          "Heather Blue",
          "Heather Brown",
          "Heather Cardinal",
          "Heather Clay",
          "Heather Columbia Blue",
          "Heather Deep Teal",
          "Heather Dust",
          "Heather Dusty Blue",
          "Heather Forest",
          "Heather Grass Green",
          "Heather Green",
          "Heather Ice Blue",
          "Heather Kelly",
          "Heather Lapis",
          "Heather Maroon",
          "Heather Mauve",
          "Heather Midnight Navy",
          "Heather Military Green",
          "Heather Mint",
          "Heather Mustard",
          "Heather Navy",
          "Heather Olive",
          "Heather Orchid",
          "Heather Peach",
          "Heather Prism Blue",
          "Heather Prism Dusty Blue",
          "Heather Prism Ice Blue",
          "Heather Prism Lilac",
          "Heather Prism Mint",
          "Heather Prism Natural",
          "Heather Prism Peach",
          "Heather Prism Sunset",
          "Heather Raspberry",
          "Heather Red",
          "Heather Sea Green",
          "Heather Slate",
          "Heather Stone",
          "Heather Storm",
          "Heather Sunset",
          "Heather Tan",
          "Heather Team Purple",
          "Heather True Royal",
          "Heather Yellow Gold"
         ],
         "textfont": {
          "size": 8
         },
         "textposition": "top center",
         "x": [
          -20.39,
          -3.86,
          -2.14,
          1.22,
          37.42,
          -12.08,
          71.84,
          1.29,
          3.33,
          43.54,
          52.92,
          50.1,
          59.63,
          46.11,
          -4.7,
          -2.37,
          -23.19,
          -26.89,
          -12.05,
          31.14,
          -48.36,
          -18.14,
          -5.11,
          16.86,
          5.01,
          29.31,
          22.73,
          -8.4,
          6.96,
          2.21,
          2.57,
          -17.38,
          -6.88,
          58.38,
          16.23,
          16.25,
          75.12,
          65.63,
          37.95,
          -0.41,
          3.24,
          6.03,
          -4.71,
          -0.96,
          39.51,
          2.02,
          -59.33,
          17.59,
          5.91,
          -33.79,
          -1.03,
          -0.55,
          0.0,
          -6.83,
          -1.69,
          2.57,
          -0.94,
          1.69,
          -22.86,
          18.57,
          -0.58,
          6.87,
          35.71,
          24.89,
          0.45,
          -10.92,
          1.08,
          -11.97,
          -13.04,
          -22.73,
          -13.31,
          -11.38,
          -65.36,
          14.85,
          25.21,
          22.92,
          1.3,
          -2.77,
          -18.93,
          5.6,
          0.25,
          1.24,
          10.13,
          15.76,
          2.14,
          -11.33,
          -14.27,
          18.88,
          -24.68,
          -2.04,
          15.04,
          34.1,
          44.64,
          66.14,
          -46.18,
          -5.46,
          1.72,
          0.21,
          39.64,
          0.22,
          34.51,
          -7.3,
          8.31
         ],
         "y": [
          58.13,
          38.51,
          78.5,
          44.4,
          48.3,
          69.61,
          45.38,
          17.06,
          25.05,
          54.43,
          36.7,
          37.11,
          57.92,
          70.82,
          29.23,
          30.73,
          32.45,
          31.9,
          17.54,
          76.47,
          43.23,
          57.33,
          74.49,
          79.54,
          83.14,
          28.02,
          52.2,
          45.26,
          65.63,
          84.28,
          16.99,
          63.58,
          31.03,
          65.69,
          28.13,
          86.8,
          49.45,
          41.43,
          42.65,
          80.69,
          82.38,
          88.56,
          52.17,
          49.87,
          64.85,
          67.12,
          66.44,
          14.26,
          41.26,
          63.99,
          13.35,
          88.09,
          100.0,
          92.09,
          72.55,
          27.28,
          36.89,
          48.32,
          63.94,
          50.73,
          64.82,
          33.72,
          24.16,
          50.55,
          56.78,
          39.94,
          84.64,
          67.82,
          40.04,
          46.42,
          53.5,
          85.65,
          51.8,
          44.73,
          27.76,
          50.9,
          24.29,
          46.0,
          81.11,
          69.84,
          28.87,
          50.4,
          63.19,
          80.69,
          77.9,
          67.95,
          81.23,
          70.37,
          81.84,
          84.02,
          81.04,
          69.34,
          47.09,
          42.79,
          66.81,
          45.14,
          57.18,
          50.53,
          66.65,
          57.85,
          45.45,
          48.68,
          86.67
         ],
         "z": [
          -24.18,
          5.37,
          -0.31,
          3.26,
          48.02,
          -11.07,
          -7.3,
          2.54,
          6.64,
          58.62,
          23.2,
          15.1,
          -3.98,
          35.75,
          -6.17,
          8.55,
          -27.24,
          6.33,
          1.2,
          81.64,
          9.96,
          19.97,
          -9.7,
          -8.35,
          85.02,
          -0.87,
          11.66,
          7.56,
          43.13,
          26.39,
          -18.63,
          -16.11,
          23.88,
          58.65,
          -6.49,
          1.44,
          67.21,
          34.16,
          24.6,
          0.43,
          24.73,
          11.43,
          -15.23,
          3.27,
          40.17,
          18.16,
          -12.05,
          -24.18,
          -36.01,
          -34.95,
          0.45,
          3.67,
          0.0,
          62.42,
          -3.38,
          5.49,
          -1.91,
          1.65,
          -24.71,
          22.73,
          -17.81,
          12.11,
          6.28,
          18.71,
          -38.7,
          -20.42,
          8.17,
          2.72,
          1.87,
          6.68,
          37.24,
          -2.2,
          14.55,
          -31.33,
          -2.86,
          13.88,
          -11.02,
          7.81,
          7.16,
          42.85,
          -13.91,
          21.46,
          -1.57,
          41.91,
          -9.47,
          2.4,
          10.01,
          -1.04,
          12.05,
          10.4,
          13.93,
          42.49,
          8.49,
          27.76,
          -10.83,
          -7.14,
          9.38,
          -1.49,
          34.07,
          13.83,
          -52.9,
          -42.2,
          54.63
         ],
         "type": "scatter3d"
        }
       ],
       "layout": {
        "template": {
         "data": {
          "barpolar": [
           {
            "marker": {
             "line": {
              "color": "#E5ECF6",
              "width": 0.5
             },
             "pattern": {
              "fillmode": "overlay",
              "size": 10,
              "solidity": 0.2
             }
            },
            "type": "barpolar"
           }
          ],
          "bar": [
           {
            "error_x": {
             "color": "#2a3f5f"
            },
            "error_y": {
             "color": "#2a3f5f"
            },
            "marker": {
             "line": {
              "color": "#E5ECF6",
              "width": 0.5
             },
             "pattern": {
              "fillmode": "overlay",
              "size": 10,
              "solidity": 0.2
             }
            },
            "type": "bar"
           }
          ],
          "carpet": [
           {
            "aaxis": {
             "endlinecolor": "#2a3f5f",
             "gridcolor": "white",
             "linecolor": "white",
             "minorgridcolor": "white",
             "startlinecolor": "#2a3f5f"
            },
            "baxis": {
             "endlinecolor": "#2a3f5f",
             "gridcolor": "white",
             "linecolor": "white",
             "minorgridcolor": "white",
             "startlinecolor": "#2a3f5f"
            },
            "type": "carpet"
           }
          ],
          "choropleth": [
           {
            "colorbar": {
             "outlinewidth": 0,
             "ticks": ""
            },
            "type": "choropleth"
           }
          ],
          "contourcarpet": [
           {
            "colorbar": {
             "outlinewidth": 0,
             "ticks": ""
            },
            "type": "contourcarpet"
           }
          ],
          "contour": [
           {
            "colorbar": {
             "outlinewidth": 0,
             "ticks": ""
            },
            "colorscale": [
             [
              0.0,
              "#0d0887"
             ],
             [
              0.1111111111111111,
              "#46039f"
             ],
             [
              0.2222222222222222,
              "#7201a8"
             ],
             [
              0.3333333333333333,
              "#9c179e"
             ],
             [
              0.4444444444444444,
              "#bd3786"
             ],
             [
              0.5555555555555556,
              "#d8576b"
             ],
             [
              0.6666666666666666,
              "#ed7953"
             ],
             [
              0.7777777777777778,
              "#fb9f3a"
             ],
             [
              0.8888888888888888,
              "#fdca26"
             ],
             [
              1.0,
              "#f0f921"
             ]
            ],
            "type": "contour"
           }
          ],
          "heatmapgl": [
           {
            "colorbar": {
             "outlinewidth": 0,
             "ticks": ""
            },
            "colorscale": [
             [
              0.0,
              "#0d0887"
             ],
             [
              0.1111111111111111,
              "#46039f"
             ],
             [
              0.2222222222222222,
              "#7201a8"
             ],
             [
              0.3333333333333333,
              "#9c179e"
             ],
             [
              0.4444444444444444,
              "#bd3786"
             ],
             [
              0.5555555555555556,
              "#d8576b"
             ],
             [
              0.6666666666666666,
              "#ed7953"
             ],
             [
              0.7777777777777778,
              "#fb9f3a"
             ],
             [
              0.8888888888888888,
              "#fdca26"
             ],
             [
              1.0,
              "#f0f921"
             ]
            ],
            "type": "heatmapgl"
           }
          ],
          "heatmap": [
           {
            "colorbar": {
             "outlinewidth": 0,
             "ticks": ""
            },
            "colorscale": [
             [
              0.0,
              "#0d0887"
             ],
             [
              0.1111111111111111,
              "#46039f"
             ],
             [
              0.2222222222222222,
              "#7201a8"
             ],
             [
              0.3333333333333333,
              "#9c179e"
             ],
             [
              0.4444444444444444,
              "#bd3786"
             ],
             [
              0.5555555555555556,
              "#d8576b"
             ],
             [
              0.6666666666666666,
              "#ed7953"
             ],
             [
              0.7777777777777778,
              "#fb9f3a"
             ],
             [
              0.8888888888888888,
              "#fdca26"
             ],
             [
              1.0,
              "#f0f921"
             ]
            ],
            "type": "heatmap"
           }
          ],
          "histogram2dcontour": [
           {
            "colorbar": {
             "outlinewidth": 0,
             "ticks": ""
            },
            "colorscale": [
             [
              0.0,
              "#0d0887"
             ],
             [
              0.1111111111111111,
              "#46039f"
             ],
             [
              0.2222222222222222,
              "#7201a8"
             ],
             [
              0.3333333333333333,
              "#9c179e"
             ],
             [
              0.4444444444444444,
              "#bd3786"
             ],
             [
              0.5555555555555556,
              "#d8576b"
             ],
             [
              0.6666666666666666,
              "#ed7953"
             ],
             [
              0.7777777777777778,
              "#fb9f3a"
             ],
             [
              0.8888888888888888,
              "#fdca26"
             ],
             [
              1.0,
              "#f0f921"
             ]
            ],
            "type": "histogram2dcontour"
           }
          ],
          "histogram2d": [
           {
            "colorbar": {
             "outlinewidth": 0,
             "ticks": ""
            },
            "colorscale": [
             [
              0.0,
              "#0d0887"
             ],
             [
              0.1111111111111111,
              "#46039f"
             ],
             [
              0.2222222222222222,
              "#7201a8"
             ],
             [
              0.3333333333333333,
              "#9c179e"
             ],
             [
              0.4444444444444444,
              "#bd3786"
             ],
             [
              0.5555555555555556,
              "#d8576b"
             ],
             [
              0.6666666666666666,
              "#ed7953"
             ],
             [
              0.7777777777777778,
              "#fb9f3a"
             ],
             [
              0.8888888888888888,
              "#fdca26"
             ],
             [
              1.0,
              "#f0f921"
             ]
            ],
            "type": "histogram2d"
           }
          ],
          "histogram": [
           {
            "marker": {
             "pattern": {
              "fillmode": "overlay",
              "size": 10,
              "solidity": 0.2
             }
            },
            "type": "histogram"
           }
          ],
          "mesh3d": [
           {
            "colorbar": {
             "outlinewidth": 0,
             "ticks": ""
            },
            "type": "mesh3d"
           }
          ],
          "parcoords": [
           {
            "line": {
             "colorbar": {
              "outlinewidth": 0,
              "ticks": ""
             }
            },
            "type": "parcoords"
           }
          ],
          "pie": [
           {
            "automargin": true,
            "type": "pie"
           }
          ],
          "scatter3d": [
           {
            "line": {
             "colorbar": {
              "outlinewidth": 0,
              "ticks": ""
             }
            },
            "marker": {
             "colorbar": {
              "outlinewidth": 0,
              "ticks": ""
             }
            },
            "type": "scatter3d"
           }
          ],
          "scattercarpet": [
           {
            "marker": {
             "colorbar": {
              "outlinewidth": 0,
              "ticks": ""
             }
            },
            "type": "scattercarpet"
           }
          ],
          "scattergeo": [
           {
            "marker": {
             "colorbar": {
              "outlinewidth": 0,
              "ticks": ""
             }
            },
            "type": "scattergeo"
           }
          ],
          "scattergl": [
           {
            "marker": {
             "colorbar": {
              "outlinewidth": 0,
              "ticks": ""
             }
            },
            "type": "scattergl"
           }
          ],
          "scattermapbox": [
           {
            "marker": {
             "colorbar": {
              "outlinewidth": 0,
              "ticks": ""
             }
            },
            "type": "scattermapbox"
           }
          ],
          "scatterpolargl": [
           {
            "marker": {
             "colorbar": {
              "outlinewidth": 0,
              "ticks": ""
             }
            },
            "type": "scatterpolargl"
           }
          ],
          "scatterpolar": [
           {
            "marker": {
             "colorbar": {
              "outlinewidth": 0,
              "ticks": ""
             }
            },
            "type": "scatterpolar"
           }
          ],
          "scatter": [
           {
            "fillpattern": {
             "fillmode": "overlay",
             "size": 10,
             "solidity": 0.2
            },
            "type": "scatter"
           }
          ],
          "scatterternary": [
           {
            "marker": {
             "colorbar": {
              "outlinewidth": 0,
              "ticks": ""
             }
            },
            "type": "scatterternary"
           }
          ],
          "surface": [
           {
            "colorbar": {
             "outlinewidth": 0,
             "ticks": ""
            },
            "colorscale": [
             [
              0.0,
              "#0d0887"
             ],
             [
              0.1111111111111111,
              "#46039f"
             ],
             [
              0.2222222222222222,
              "#7201a8"
             ],
             [
              0.3333333333333333,
              "#9c179e"
             ],
             [
              0.4444444444444444,
              "#bd3786"
             ],
             [
              0.5555555555555556,
              "#d8576b"
             ],
             [
              0.6666666666666666,
              "#ed7953"
             ],
             [
              0.7777777777777778,
              "#fb9f3a"
             ],
             [
              0.8888888888888888,
              "#fdca26"
             ],
             [
              1.0,
              "#f0f921"
             ]
            ],
            "type": "surface"
           }
          ],
          "table": [
           {
            "cells": {
             "fill": {
              "color": "#EBF0F8"
             },
             "line": {
              "color": "white"
             }
            },
            "header": {
             "fill": {
              "color": "#C8D4E3"
             },
             "line": {
              "color": "white"
             }
            },
            "type": "table"
           }
          ]
         },
         "layout": {
          "annotationdefaults": {
           "arrowcolor": "#2a3f5f",
           "arrowhead": 0,
           "arrowwidth": 1
          },
          "autotypenumbers": "strict",
          "coloraxis": {
           "colorbar": {
            "outlinewidth": 0,
            "ticks": ""
           }
          },
          "colorscale": {
           "diverging": [
            [
             0,
             "#8e0152"
            ],
            [
             0.1,
             "#c51b7d"
            ],
            [
             0.2,
             "#de77ae"
            ],
            [
             0.3,
             "#f1b6da"
            ],
            [
             0.4,
             "#fde0ef"
            ],
            [
             0.5,
             "#f7f7f7"
            ],
            [
             0.6,
             "#e6f5d0"
            ],
            [
             0.7,
             "#b8e186"
            ],
            [
             0.8,
             "#7fbc41"
            ],
            [
             0.9,
             "#4d9221"
            ],
            [
             1,
             "#276419"
            ]
           ],
           "sequential": [
            [
             0.0,
             "#0d0887"
            ],
            [
             0.1111111111111111,
             "#46039f"
            ],
            [
             0.2222222222222222,
             "#7201a8"
            ],
            [
             0.3333333333333333,
             "#9c179e"
            ],
            [
             0.4444444444444444,
             "#bd3786"
            ],
            [
             0.5555555555555556,
             "#d8576b"
            ],
            [
             0.6666666666666666,
             "#ed7953"
            ],
            [
             0.7777777777777778,
             "#fb9f3a"
            ],
            [
             0.8888888888888888,
             "#fdca26"
            ],
            [
             1.0,
             "#f0f921"
            ]
           ],
           "sequentialminus": [
            [
             0.0,
             "#0d0887"
            ],
            [
             0.1111111111111111,
             "#46039f"
            ],
            [
             0.2222222222222222,
             "#7201a8"
            ],
            [
             0.3333333333333333,
             "#9c179e"
            ],
            [
             0.4444444444444444,
             "#bd3786"
            ],
            [
             0.5555555555555556,
             "#d8576b"
            ],
            [
             0.6666666666666666,
             "#ed7953"
            ],
            [
             0.7777777777777778,
             "#fb9f3a"
            ],
            [
             0.8888888888888888,
             "#fdca26"
            ],
            [
             1.0,
             "#f0f921"
            ]
           ]
          },
          "colorway": [
           "#636efa",
           "#EF553B",
           "#00cc96",
           "#ab63fa",
           "#FFA15A",
           "#19d3f3",
           "#FF6692",
           "#B6E880",
           "#FF97FF",
           "#FECB52"
          ],
          "font": {
           "color": "#2a3f5f"
          },
          "geo": {
           "bgcolor": "white",
           "lakecolor": "white",
           "landcolor": "#E5ECF6",
           "showlakes": true,
           "showland": true,
           "subunitcolor": "white"
          },
          "hoverlabel": {
           "align": "left"
          },
          "hovermode": "closest",
          "mapbox": {
           "style": "light"
          },
          "paper_bgcolor": "white",
          "plot_bgcolor": "#E5ECF6",
          "polar": {
           "angularaxis": {
            "gridcolor": "white",
            "linecolor": "white",
            "ticks": ""
           },
           "bgcolor": "#E5ECF6",
           "radialaxis": {
            "gridcolor": "white",
            "linecolor": "white",
            "ticks": ""
           }
          },
          "scene": {
           "xaxis": {
            "backgroundcolor": "#E5ECF6",
            "gridcolor": "white",
            "gridwidth": 2,
            "linecolor": "white",
            "showbackground": true,
            "ticks": "",
            "zerolinecolor": "white"
           },
           "yaxis": {
            "backgroundcolor": "#E5ECF6",
            "gridcolor": "white",
            "gridwidth": 2,
            "linecolor": "white",
            "showbackground": true,
            "ticks": "",
            "zerolinecolor": "white"
           },
           "zaxis": {
            "backgroundcolor": "#E5ECF6",
            "gridcolor": "white",
            "gridwidth": 2,
            "linecolor": "white",
            "showbackground": true,
            "ticks": "",
            "zerolinecolor": "white"
           }
          },
          "shapedefaults": {
           "line": {
            "color": "#2a3f5f"
           }
          },
          "ternary": {
           "aaxis": {
            "gridcolor": "white",
            "linecolor": "white",
            "ticks": ""
           },
           "baxis": {
            "gridcolor": "white",
            "linecolor": "white",
            "ticks": ""
           },
           "bgcolor": "#E5ECF6",
           "caxis": {
            "gridcolor": "white",
            "linecolor": "white",
            "ticks": ""
           }
          },
          "title": {
           "x": 0.05
          },
          "xaxis": {
           "automargin": true,
           "gridcolor": "white",
           "linecolor": "white",
           "ticks": "",
           "title": {
            "standoff": 15
           },
           "zerolinecolor": "white",
           "zerolinewidth": 2
          },
          "yaxis": {
           "automargin": true,
           "gridcolor": "white",
           "linecolor": "white",
           "ticks": "",
           "title": {
            "standoff": 15
           },
           "zerolinecolor": "white",
           "zerolinewidth": 2
          }
         }
        },
        "scene": {
         "aspectratio": {
          "x": 1,
          "y": 1,
          "z": 1
         },
         "xaxis": {
          "title": {
           "text": "a* (green to red)"
          },
          "range": [
           -128,
           128
          ]
         },
         "yaxis": {
          "title": {
           "text": "L* (black to white)"
          },
          "range": [
           0,
           100
          ]
         },
         "zaxis": {
          "title": {
           "text": "b* (blue to yellow)"
          },
          "range": [
           -128,
           128
          ]
         },
         "camera": {
          "up": {
           "x": 0,
           "y": 1,
           "z": 0
          },
          "center": {
           "x": 0,
           "y": 0,
           "z": 0
          },
          "eye": {
           "x": 1.5,
           "y": 1.5,
           "z": 1.5
          }
         }
        },
        "margin": {
         "l": 1,
         "r": 1,
         "t": 1,
         "b": 1
        },
        "title": {
         "text": "All colors"
        },
        "width": 351,
        "height": 351,
        "showlegend": false
       },
       "config": {
        "plotlyServerURL": "https://plot.ly"
       }
      },
      "text/html": "<div>                            <div id=\"610df823-f4a7-48b3-bcf0-8b6181e83b74\" class=\"plotly-graph-div\" style=\"height:351px; width:351px;\"></div>            <script type=\"text/javascript\">                require([\"plotly\"], function(Plotly) {                    window.PLOTLYENV=window.PLOTLYENV || {};                                    if (document.getElementById(\"610df823-f4a7-48b3-bcf0-8b6181e83b74\")) {                    Plotly.newPlot(                        \"610df823-f4a7-48b3-bcf0-8b6181e83b74\",                        [{\"hovertemplate\":\"\\u003cb\\u003e%{text}\\u003c\\u002fb\\u003e\\u003cbr\\u003eL*: %{y:.1f}\\u003cbr\\u003ea*: %{x:.1f}\\u003cbr\\u003eb*: %{z:.1f}\\u003cbr\\u003e\",\"marker\":{\"color\":[\"#4298B5\",\"#555D51\",\"#BDC4C2\",\"#6C6864\",\"#A05729\",\"#89B2BD\",\"#C6057B\",\"#2D2926\",\"#423A31\",\"#CB6015\",\"#9D2235\",\"#9B2743\",\"#DE5795\",\"#FF8870\",\"#38484E\",\"#4A493B\",\"#005876\",\"#115740\",\"#183029\",\"#FFA400\",\"#007A53\",\"#729364\",\"#A6BBC8\",\"#DEBBD5\",\"#F2CA00\",\"#672E45\",\"#A36D6A\",\"#60705E\",\"#C29951\",\"#E2D0A0\",\"#202A44\",\"#66A5B5\",\"#474C21\",\"#FF6A39\",\"#55394D\",\"#F7CED7\",\"#E10600\",\"#BA0C2F\",\"#9E483F\",\"#C7C9C7\",\"#DECA9E\",\"#EFDAC8\",\"#678096\",\"#757870\",\"#E37F57\",\"#AEA282\",\"#00BFB2\",\"#2E1A47\",\"#4C619C\",\"#00AFD7\",\"#212322\",\"#DFDDD6\",\"#FFFFFF\",\"#F6EB69\",\"#ACB3B8\",\"#454038\",\"#545859\",\"#75726F\",\"#48A9C5\",\"#A26C53\",\"#8E9FBC\",\"#5D4B3C\",\"#651C32\",\"#A26859\",\"#658BCC\",\"#34657F\",\"#DCD2C4\",\"#8FAD9F\",\"#48655B\",\"#447961\",\"#79863C\",\"#BDDDD9\",\"#00965E\",\"#65649E\",\"#603147\",\"#A06A62\",\"#343A4A\",\"#6C6E60\",\"#A8D5BA\",\"#CCA55C\",\"#3B4559\",\"#827752\",\"#AA939C\",\"#F2BD79\",\"#BCC0D2\",\"#92ACA0\",\"#B3D2B5\",\"#CAA0AE\",\"#A0DAB3\",\"#D6D2BE\",\"#EABEB0\",\"#EA905D\",\"#AF4D64\",\"#BF0D3E\",\"#00BAB3\",\"#5C6E76\",\"#908878\",\"#76797A\",\"#E88467\",\"#958A73\",\"#7D55C7\",\"#2B7BBB\",\"#FDD26E\"],\"opacity\":1.0,\"size\":7},\"mode\":\"markers+text\",\"text\":[\"Aqua\",\"Army\",\"Ash\",\"Asphalt\",\"Autumn\",\"Baby Blue\",\"Berry\",\"Black\",\"Brown\",\"Burnt Orange\",\"Canvas Red\",\"Cardinal\",\"Charity Pink\",\"Coral\",\"Dark Grey\",\"Dark Olive\",\"Deep Teal\",\"Evergreen\",\"Forest\",\"Gold\",\"Kelly\",\"Leaf\",\"Light Blue\",\"Lilac\",\"Maize Yellow\",\"Maroon\",\"Mauve\",\"Military Green\",\"Mustard\",\"Natural\",\"Navy\",\"Ocean Blue\",\"Olive\",\"Orange\",\"Oxblood Black\",\"Pink\",\"Poppy\",\"Red\",\"Rust\",\"Silver\",\"Soft Cream\",\"Soft Pink\",\"Steel Blue\",\"Storm\",\"Sunset\",\"Tan\",\"Teal\",\"Team Purple\",\"True Royal\",\"Turquoise\",\"Vintage Black\",\"Vintage White\",\"White\",\"Yellow\",\"Athletic Heather\",\"Black Heather\",\"Dark Grey Heather\",\"Deep Heather\",\"Heather Aqua\",\"Heather Autumn\",\"Heather Blue\",\"Heather Brown\",\"Heather Cardinal\",\"Heather Clay\",\"Heather Columbia Blue\",\"Heather Deep Teal\",\"Heather Dust\",\"Heather Dusty Blue\",\"Heather Forest\",\"Heather Grass Green\",\"Heather Green\",\"Heather Ice Blue\",\"Heather Kelly\",\"Heather Lapis\",\"Heather Maroon\",\"Heather Mauve\",\"Heather Midnight Navy\",\"Heather Military Green\",\"Heather Mint\",\"Heather Mustard\",\"Heather Navy\",\"Heather Olive\",\"Heather Orchid\",\"Heather Peach\",\"Heather Prism Blue\",\"Heather Prism Dusty Blue\",\"Heather Prism Ice Blue\",\"Heather Prism Lilac\",\"Heather Prism Mint\",\"Heather Prism Natural\",\"Heather Prism Peach\",\"Heather Prism Sunset\",\"Heather Raspberry\",\"Heather Red\",\"Heather Sea Green\",\"Heather Slate\",\"Heather Stone\",\"Heather Storm\",\"Heather Sunset\",\"Heather Tan\",\"Heather Team Purple\",\"Heather True Royal\",\"Heather Yellow Gold\"],\"textfont\":{\"size\":8},\"textposition\":\"top center\",\"x\":[-20.39,-3.86,-2.14,1.22,37.42,-12.08,71.84,1.29,3.33,43.54,52.92,50.1,59.63,46.11,-4.7,-2.37,-23.19,-26.89,-12.05,31.14,-48.36,-18.14,-5.11,16.86,5.01,29.31,22.73,-8.4,6.96,2.21,2.57,-17.38,-6.88,58.38,16.23,16.25,75.12,65.63,37.95,-0.41,3.24,6.03,-4.71,-0.96,39.51,2.02,-59.33,17.59,5.91,-33.79,-1.03,-0.55,0.0,-6.83,-1.69,2.57,-0.94,1.69,-22.86,18.57,-0.58,6.87,35.71,24.89,0.45,-10.92,1.08,-11.97,-13.04,-22.73,-13.31,-11.38,-65.36,14.85,25.21,22.92,1.3,-2.77,-18.93,5.6,0.25,1.24,10.13,15.76,2.14,-11.33,-14.27,18.88,-24.68,-2.04,15.04,34.1,44.64,66.14,-46.18,-5.46,1.72,0.21,39.64,0.22,34.51,-7.3,8.31],\"y\":[58.13,38.51,78.5,44.4,48.3,69.61,45.38,17.06,25.05,54.43,36.7,37.11,57.92,70.82,29.23,30.73,32.45,31.9,17.54,76.47,43.23,57.33,74.49,79.54,83.14,28.02,52.2,45.26,65.63,84.28,16.99,63.58,31.03,65.69,28.13,86.8,49.45,41.43,42.65,80.69,82.38,88.56,52.17,49.87,64.85,67.12,66.44,14.26,41.26,63.99,13.35,88.09,100.0,92.09,72.55,27.28,36.89,48.32,63.94,50.73,64.82,33.72,24.16,50.55,56.78,39.94,84.64,67.82,40.04,46.42,53.5,85.65,51.8,44.73,27.76,50.9,24.29,46.0,81.11,69.84,28.87,50.4,63.19,80.69,77.9,67.95,81.23,70.37,81.84,84.02,81.04,69.34,47.09,42.79,66.81,45.14,57.18,50.53,66.65,57.85,45.45,48.68,86.67],\"z\":[-24.18,5.37,-0.31,3.26,48.02,-11.07,-7.3,2.54,6.64,58.62,23.2,15.1,-3.98,35.75,-6.17,8.55,-27.24,6.33,1.2,81.64,9.96,19.97,-9.7,-8.35,85.02,-0.87,11.66,7.56,43.13,26.39,-18.63,-16.11,23.88,58.65,-6.49,1.44,67.21,34.16,24.6,0.43,24.73,11.43,-15.23,3.27,40.17,18.16,-12.05,-24.18,-36.01,-34.95,0.45,3.67,0.0,62.42,-3.38,5.49,-1.91,1.65,-24.71,22.73,-17.81,12.11,6.28,18.71,-38.7,-20.42,8.17,2.72,1.87,6.68,37.24,-2.2,14.55,-31.33,-2.86,13.88,-11.02,7.81,7.16,42.85,-13.91,21.46,-1.57,41.91,-9.47,2.4,10.01,-1.04,12.05,10.4,13.93,42.49,8.49,27.76,-10.83,-7.14,9.38,-1.49,34.07,13.83,-52.9,-42.2,54.63],\"type\":\"scatter3d\"}],                        {\"template\":{\"data\":{\"barpolar\":[{\"marker\":{\"line\":{\"color\":\"#E5ECF6\",\"width\":0.5},\"pattern\":{\"fillmode\":\"overlay\",\"size\":10,\"solidity\":0.2}},\"type\":\"barpolar\"}],\"bar\":[{\"error_x\":{\"color\":\"#2a3f5f\"},\"error_y\":{\"color\":\"#2a3f5f\"},\"marker\":{\"line\":{\"color\":\"#E5ECF6\",\"width\":0.5},\"pattern\":{\"fillmode\":\"overlay\",\"size\":10,\"solidity\":0.2}},\"type\":\"bar\"}],\"carpet\":[{\"aaxis\":{\"endlinecolor\":\"#2a3f5f\",\"gridcolor\":\"white\",\"linecolor\":\"white\",\"minorgridcolor\":\"white\",\"startlinecolor\":\"#2a3f5f\"},\"baxis\":{\"endlinecolor\":\"#2a3f5f\",\"gridcolor\":\"white\",\"linecolor\":\"white\",\"minorgridcolor\":\"white\",\"startlinecolor\":\"#2a3f5f\"},\"type\":\"carpet\"}],\"choropleth\":[{\"colorbar\":{\"outlinewidth\":0,\"ticks\":\"\"},\"type\":\"choropleth\"}],\"contourcarpet\":[{\"colorbar\":{\"outlinewidth\":0,\"ticks\":\"\"},\"type\":\"contourcarpet\"}],\"contour\":[{\"colorbar\":{\"outlinewidth\":0,\"ticks\":\"\"},\"colorscale\":[[0.0,\"#0d0887\"],[0.1111111111111111,\"#46039f\"],[0.2222222222222222,\"#7201a8\"],[0.3333333333333333,\"#9c179e\"],[0.4444444444444444,\"#bd3786\"],[0.5555555555555556,\"#d8576b\"],[0.6666666666666666,\"#ed7953\"],[0.7777777777777778,\"#fb9f3a\"],[0.8888888888888888,\"#fdca26\"],[1.0,\"#f0f921\"]],\"type\":\"contour\"}],\"heatmapgl\":[{\"colorbar\":{\"outlinewidth\":0,\"ticks\":\"\"},\"colorscale\":[[0.0,\"#0d0887\"],[0.1111111111111111,\"#46039f\"],[0.2222222222222222,\"#7201a8\"],[0.3333333333333333,\"#9c179e\"],[0.4444444444444444,\"#bd3786\"],[0.5555555555555556,\"#d8576b\"],[0.6666666666666666,\"#ed7953\"],[0.7777777777777778,\"#fb9f3a\"],[0.8888888888888888,\"#fdca26\"],[1.0,\"#f0f921\"]],\"type\":\"heatmapgl\"}],\"heatmap\":[{\"colorbar\":{\"outlinewidth\":0,\"ticks\":\"\"},\"colorscale\":[[0.0,\"#0d0887\"],[0.1111111111111111,\"#46039f\"],[0.2222222222222222,\"#7201a8\"],[0.3333333333333333,\"#9c179e\"],[0.4444444444444444,\"#bd3786\"],[0.5555555555555556,\"#d8576b\"],[0.6666666666666666,\"#ed7953\"],[0.7777777777777778,\"#fb9f3a\"],[0.8888888888888888,\"#fdca26\"],[1.0,\"#f0f921\"]],\"type\":\"heatmap\"}],\"histogram2dcontour\":[{\"colorbar\":{\"outlinewidth\":0,\"ticks\":\"\"},\"colorscale\":[[0.0,\"#0d0887\"],[0.1111111111111111,\"#46039f\"],[0.2222222222222222,\"#7201a8\"],[0.3333333333333333,\"#9c179e\"],[0.4444444444444444,\"#bd3786\"],[0.5555555555555556,\"#d8576b\"],[0.6666666666666666,\"#ed7953\"],[0.7777777777777778,\"#fb9f3a\"],[0.8888888888888888,\"#fdca26\"],[1.0,\"#f0f921\"]],\"type\":\"histogram2dcontour\"}],\"histogram2d\":[{\"colorbar\":{\"outlinewidth\":0,\"ticks\":\"\"},\"colorscale\":[[0.0,\"#0d0887\"],[0.1111111111111111,\"#46039f\"],[0.2222222222222222,\"#7201a8\"],[0.3333333333333333,\"#9c179e\"],[0.4444444444444444,\"#bd3786\"],[0.5555555555555556,\"#d8576b\"],[0.6666666666666666,\"#ed7953\"],[0.7777777777777778,\"#fb9f3a\"],[0.8888888888888888,\"#fdca26\"],[1.0,\"#f0f921\"]],\"type\":\"histogram2d\"}],\"histogram\":[{\"marker\":{\"pattern\":{\"fillmode\":\"overlay\",\"size\":10,\"solidity\":0.2}},\"type\":\"histogram\"}],\"mesh3d\":[{\"colorbar\":{\"outlinewidth\":0,\"ticks\":\"\"},\"type\":\"mesh3d\"}],\"parcoords\":[{\"line\":{\"colorbar\":{\"outlinewidth\":0,\"ticks\":\"\"}},\"type\":\"parcoords\"}],\"pie\":[{\"automargin\":true,\"type\":\"pie\"}],\"scatter3d\":[{\"line\":{\"colorbar\":{\"outlinewidth\":0,\"ticks\":\"\"}},\"marker\":{\"colorbar\":{\"outlinewidth\":0,\"ticks\":\"\"}},\"type\":\"scatter3d\"}],\"scattercarpet\":[{\"marker\":{\"colorbar\":{\"outlinewidth\":0,\"ticks\":\"\"}},\"type\":\"scattercarpet\"}],\"scattergeo\":[{\"marker\":{\"colorbar\":{\"outlinewidth\":0,\"ticks\":\"\"}},\"type\":\"scattergeo\"}],\"scattergl\":[{\"marker\":{\"colorbar\":{\"outlinewidth\":0,\"ticks\":\"\"}},\"type\":\"scattergl\"}],\"scattermapbox\":[{\"marker\":{\"colorbar\":{\"outlinewidth\":0,\"ticks\":\"\"}},\"type\":\"scattermapbox\"}],\"scatterpolargl\":[{\"marker\":{\"colorbar\":{\"outlinewidth\":0,\"ticks\":\"\"}},\"type\":\"scatterpolargl\"}],\"scatterpolar\":[{\"marker\":{\"colorbar\":{\"outlinewidth\":0,\"ticks\":\"\"}},\"type\":\"scatterpolar\"}],\"scatter\":[{\"fillpattern\":{\"fillmode\":\"overlay\",\"size\":10,\"solidity\":0.2},\"type\":\"scatter\"}],\"scatterternary\":[{\"marker\":{\"colorbar\":{\"outlinewidth\":0,\"ticks\":\"\"}},\"type\":\"scatterternary\"}],\"surface\":[{\"colorbar\":{\"outlinewidth\":0,\"ticks\":\"\"},\"colorscale\":[[0.0,\"#0d0887\"],[0.1111111111111111,\"#46039f\"],[0.2222222222222222,\"#7201a8\"],[0.3333333333333333,\"#9c179e\"],[0.4444444444444444,\"#bd3786\"],[0.5555555555555556,\"#d8576b\"],[0.6666666666666666,\"#ed7953\"],[0.7777777777777778,\"#fb9f3a\"],[0.8888888888888888,\"#fdca26\"],[1.0,\"#f0f921\"]],\"type\":\"surface\"}],\"table\":[{\"cells\":{\"fill\":{\"color\":\"#EBF0F8\"},\"line\":{\"color\":\"white\"}},\"header\":{\"fill\":{\"color\":\"#C8D4E3\"},\"line\":{\"color\":\"white\"}},\"type\":\"table\"}]},\"layout\":{\"annotationdefaults\":{\"arrowcolor\":\"#2a3f5f\",\"arrowhead\":0,\"arrowwidth\":1},\"autotypenumbers\":\"strict\",\"coloraxis\":{\"colorbar\":{\"outlinewidth\":0,\"ticks\":\"\"}},\"colorscale\":{\"diverging\":[[0,\"#8e0152\"],[0.1,\"#c51b7d\"],[0.2,\"#de77ae\"],[0.3,\"#f1b6da\"],[0.4,\"#fde0ef\"],[0.5,\"#f7f7f7\"],[0.6,\"#e6f5d0\"],[0.7,\"#b8e186\"],[0.8,\"#7fbc41\"],[0.9,\"#4d9221\"],[1,\"#276419\"]],\"sequential\":[[0.0,\"#0d0887\"],[0.1111111111111111,\"#46039f\"],[0.2222222222222222,\"#7201a8\"],[0.3333333333333333,\"#9c179e\"],[0.4444444444444444,\"#bd3786\"],[0.5555555555555556,\"#d8576b\"],[0.6666666666666666,\"#ed7953\"],[0.7777777777777778,\"#fb9f3a\"],[0.8888888888888888,\"#fdca26\"],[1.0,\"#f0f921\"]],\"sequentialminus\":[[0.0,\"#0d0887\"],[0.1111111111111111,\"#46039f\"],[0.2222222222222222,\"#7201a8\"],[0.3333333333333333,\"#9c179e\"],[0.4444444444444444,\"#bd3786\"],[0.5555555555555556,\"#d8576b\"],[0.6666666666666666,\"#ed7953\"],[0.7777777777777778,\"#fb9f3a\"],[0.8888888888888888,\"#fdca26\"],[1.0,\"#f0f921\"]]},\"colorway\":[\"#636efa\",\"#EF553B\",\"#00cc96\",\"#ab63fa\",\"#FFA15A\",\"#19d3f3\",\"#FF6692\",\"#B6E880\",\"#FF97FF\",\"#FECB52\"],\"font\":{\"color\":\"#2a3f5f\"},\"geo\":{\"bgcolor\":\"white\",\"lakecolor\":\"white\",\"landcolor\":\"#E5ECF6\",\"showlakes\":true,\"showland\":true,\"subunitcolor\":\"white\"},\"hoverlabel\":{\"align\":\"left\"},\"hovermode\":\"closest\",\"mapbox\":{\"style\":\"light\"},\"paper_bgcolor\":\"white\",\"plot_bgcolor\":\"#E5ECF6\",\"polar\":{\"angularaxis\":{\"gridcolor\":\"white\",\"linecolor\":\"white\",\"ticks\":\"\"},\"bgcolor\":\"#E5ECF6\",\"radialaxis\":{\"gridcolor\":\"white\",\"linecolor\":\"white\",\"ticks\":\"\"}},\"scene\":{\"xaxis\":{\"backgroundcolor\":\"#E5ECF6\",\"gridcolor\":\"white\",\"gridwidth\":2,\"linecolor\":\"white\",\"showbackground\":true,\"ticks\":\"\",\"zerolinecolor\":\"white\"},\"yaxis\":{\"backgroundcolor\":\"#E5ECF6\",\"gridcolor\":\"white\",\"gridwidth\":2,\"linecolor\":\"white\",\"showbackground\":true,\"ticks\":\"\",\"zerolinecolor\":\"white\"},\"zaxis\":{\"backgroundcolor\":\"#E5ECF6\",\"gridcolor\":\"white\",\"gridwidth\":2,\"linecolor\":\"white\",\"showbackground\":true,\"ticks\":\"\",\"zerolinecolor\":\"white\"}},\"shapedefaults\":{\"line\":{\"color\":\"#2a3f5f\"}},\"ternary\":{\"aaxis\":{\"gridcolor\":\"white\",\"linecolor\":\"white\",\"ticks\":\"\"},\"baxis\":{\"gridcolor\":\"white\",\"linecolor\":\"white\",\"ticks\":\"\"},\"bgcolor\":\"#E5ECF6\",\"caxis\":{\"gridcolor\":\"white\",\"linecolor\":\"white\",\"ticks\":\"\"}},\"title\":{\"x\":0.05},\"xaxis\":{\"automargin\":true,\"gridcolor\":\"white\",\"linecolor\":\"white\",\"ticks\":\"\",\"title\":{\"standoff\":15},\"zerolinecolor\":\"white\",\"zerolinewidth\":2},\"yaxis\":{\"automargin\":true,\"gridcolor\":\"white\",\"linecolor\":\"white\",\"ticks\":\"\",\"title\":{\"standoff\":15},\"zerolinecolor\":\"white\",\"zerolinewidth\":2}}},\"scene\":{\"aspectratio\":{\"x\":1,\"y\":1,\"z\":1},\"xaxis\":{\"title\":{\"text\":\"a* (green to red)\"},\"range\":[-128,128]},\"yaxis\":{\"title\":{\"text\":\"L* (black to white)\"},\"range\":[0,100]},\"zaxis\":{\"title\":{\"text\":\"b* (blue to yellow)\"},\"range\":[-128,128]},\"camera\":{\"up\":{\"x\":0,\"y\":1,\"z\":0},\"center\":{\"x\":0,\"y\":0,\"z\":0},\"eye\":{\"x\":1.5,\"y\":1.5,\"z\":1.5}}},\"margin\":{\"l\":1,\"r\":1,\"t\":1,\"b\":1},\"title\":{\"text\":\"All colors\"},\"width\":351,\"height\":351,\"showlegend\":false},                        {\"responsive\": true}                    ).then(function(){\n                            \nvar gd = document.getElementById('610df823-f4a7-48b3-bcf0-8b6181e83b74');\nvar x = new MutationObserver(function (mutations, observer) {{\n        var display = window.getComputedStyle(gd).display;\n        if (!display || display === 'none') {{\n            console.log([gd, 'removed!']);\n            Plotly.purge(gd);\n            observer.disconnect();\n        }}\n}});\n\n// Listen for the removal of the full notebook cells\nvar notebookContainer = gd.closest('#notebook-container');\nif (notebookContainer) {{\n    x.observe(notebookContainer, {childList: true});\n}}\n\n// Listen for the clearing of the current output cell\nvar outputEl = gd.closest('.output');\nif (outputEl) {{\n    x.observe(outputEl, {childList: true});\n}}\n\n                        })                };                });            </script>        </div>"
     },
     "metadata": {},
     "output_type": "display_data"
    }
   ],
   "source": [
    "import importlib\n",
    "\n",
    "import numpy as np\n",
    "import pandas as pd\n",
    "import numpy\n",
    "import lab_graph\n",
    "\n",
    "from json import loads, dumps\n",
    "\n",
    "importlib.reload(lab_graph)\n",
    "\n",
    "#Fix colormath depreciated numpy method\n",
    "def patch_asscalar(a):\n",
    "    return a.item()\n",
    "setattr(numpy, \"asscalar\", patch_asscalar)\n",
    "\n",
    "df = pd.read_csv(\"data/all-colors-unique.csv\")\n",
    "\n",
    "#Create a 2D array of Lab values\n",
    "lab_list = list(df[\"L*a*b Value\"])\n",
    "lab_list = [x.split(\", \") for x in lab_list]\n",
    "lab_points = [[float(x) for x in row] for row in lab_list]\n",
    "\n",
    "lab_graph.generate_lab_3d_all_colors(df, \"All colors\", \"part_2/plots/All_Points_350x350\")"
   ]
  },
  {
   "cell_type": "code",
   "execution_count": 3,
   "outputs": [
    {
     "data": {
      "text/plain": "476503.15507333336"
     },
     "execution_count": 3,
     "metadata": {},
     "output_type": "execute_result"
    }
   ],
   "source": [
    "from scipy.spatial import ConvexHull\n",
    "\n",
    "hull = ConvexHull(points=lab_points)\n",
    "\n",
    "hull.volume"
   ],
   "metadata": {
    "collapsed": false,
    "ExecuteTime": {
     "end_time": "2025-03-14T19:57:33.419233Z",
     "start_time": "2025-03-14T19:57:33.415859Z"
    }
   }
  },
  {
   "cell_type": "code",
   "execution_count": 13,
   "outputs": [
    {
     "name": "stdout",
     "output_type": "stream",
     "text": [
      "[{\"Color Name\":\"Berry\",\"PMS Color Code\":\"233CP\",\"L*a*b Value\":\"45.38, 71.84, -7.30\",\"Hex\":\"C6057B\",\"L\":45.38,\"a\":71.84,\"b\":-7.3},{\"Color Name\":\"Charity Pink\",\"PMS Color Code\":\"212CP\",\"L*a*b Value\":\"57.92, 59.63, -3.98\",\"Hex\":\"DE5795\",\"L\":57.92,\"a\":59.63,\"b\":-3.98},{\"Color Name\":\"Deep Teal\",\"PMS Color Code\":\"3025CP\",\"L*a*b Value\":\"32.45, -23.19, -27.24\",\"Hex\":\"005876\",\"L\":32.45,\"a\":-23.19,\"b\":-27.24},{\"Color Name\":\"Forest\",\"PMS Color Code\":\"5535 C\",\"L*a*b Value\":\"17.54, -12.05, 1.20\",\"Hex\":\"183029\",\"L\":17.54,\"a\":-12.05,\"b\":1.2},{\"Color Name\":\"Gold\",\"PMS Color Code\":\"137C\",\"L*a*b Value\":\"76.47, 31.14, 81.64\",\"Hex\":\"FFA400\",\"L\":76.47,\"a\":31.14,\"b\":81.64},{\"Color Name\":\"Maize Yellow\",\"PMS Color Code\":\"7548CP\",\"L*a*b Value\":\"83.14, 5.01, 85.02\",\"Hex\":\"F2CA00\",\"L\":83.14,\"a\":5.01,\"b\":85.02},{\"Color Name\":\"Navy\",\"PMS Color Code\":\"533C\",\"L*a*b Value\":\"16.99, 2.57, -18.63\",\"Hex\":\"202A44\",\"L\":16.99,\"a\":2.57,\"b\":-18.63},{\"Color Name\":\"Olive\",\"PMS Color Code\":\"5747CP\",\"L*a*b Value\":\"31.03, -6.88, 23.88\",\"Hex\":\"474C21\",\"L\":31.03,\"a\":-6.88,\"b\":23.88},{\"Color Name\":\"Orange\",\"PMS Color Code\":\"1645C\",\"L*a*b Value\":\"65.69, 58.38, 58.65\",\"Hex\":\"FF6A39\",\"L\":65.69,\"a\":58.38,\"b\":58.65},{\"Color Name\":\"Poppy\",\"PMS Color Code\":\"2347C\",\"L*a*b Value\":\"49.45, 75.12, 67.21\",\"Hex\":\"E10600\",\"L\":49.45,\"a\":75.12,\"b\":67.21},{\"Color Name\":\"Red\",\"PMS Color Code\":\"200C\",\"L*a*b Value\":\"41.43, 65.63, 34.16\",\"Hex\":\"BA0C2F\",\"L\":41.43,\"a\":65.63,\"b\":34.16},{\"Color Name\":\"Teal\",\"PMS Color Code\":\"3262C\",\"L*a*b Value\":\"66.44, -59.33, -12.05\",\"Hex\":\"00BFB2\",\"L\":66.44,\"a\":-59.33,\"b\":-12.05},{\"Color Name\":\"Team Purple\",\"PMS Color Code\":\"2695C\",\"L*a*b Value\":\"14.26, 17.59, -24.18\",\"Hex\":\"2E1A47\",\"L\":14.26,\"a\":17.59,\"b\":-24.18},{\"Color Name\":\"Turquoise\",\"PMS Color Code\":\"638C\",\"L*a*b Value\":\"63.99, -33.79, -34.95\",\"Hex\":\"00AFD7\",\"L\":63.99,\"a\":-33.79,\"b\":-34.95},{\"Color Name\":\"Vintage Black\",\"PMS Color Code\":\"419 C\",\"L*a*b Value\":\"13.35, -1.03, 0.45\",\"Hex\":\"212322\",\"L\":13.35,\"a\":-1.03,\"b\":0.45},{\"Color Name\":\"White\",\"PMS Color Code\":\"White C\",\"L*a*b Value\":\"100, 0, 0\",\"Hex\":\"FFFFFF\",\"L\":100.0,\"a\":0.0,\"b\":0.0},{\"Color Name\":\"Yellow\",\"PMS Color Code\":\"100CP\",\"L*a*b Value\":\"92.09, -6.83, 62.42\",\"Hex\":\"F6EB69\",\"L\":92.09,\"a\":-6.83,\"b\":62.42},{\"Color Name\":\"Heather Cardinal\",\"PMS Color Code\":\"7421 C\",\"L*a*b Value\":\"24.16, 35.71, 6.28\",\"Hex\":\"651C32\",\"L\":24.16,\"a\":35.71,\"b\":6.28},{\"Color Name\":\"Heather Kelly\",\"PMS Color Code\":\"340 C\",\"L*a*b Value\":\"51.80, -65.36, 14.55\",\"Hex\":\"00965E\",\"L\":51.8,\"a\":-65.36,\"b\":14.55},{\"Color Name\":\"Heather Team Purple\",\"PMS Color Code\":\"2665 C\",\"L*a*b Value\":\"45.45, 34.51, -52.90\",\"Hex\":\"7D55C7\",\"L\":45.45,\"a\":34.51,\"b\":-52.9},{\"Color Name\":\"Heather True Royal\",\"PMS Color Code\":\"285CP\",\"L*a*b Value\":\"48.68, -7.30, -42.20\",\"Hex\":\"2B7BBB\",\"L\":48.68,\"a\":-7.3,\"b\":-42.2}]\n"
     ]
    }
   ],
   "source": [
    "convex_df = df.iloc[hull.vertices].copy()\n",
    "\n",
    "result = convex_df.to_json(orient=\"records\")\n",
    "print(result)\n",
    "#lab_graph.generate_lab_3d_all_colors(convex_df, \"Convex Hull of Points\", \"N/a\")"
   ],
   "metadata": {
    "collapsed": false,
    "ExecuteTime": {
     "end_time": "2025-03-14T20:07:20.143324Z",
     "start_time": "2025-03-14T20:07:20.135088Z"
    }
   }
  },
  {
   "cell_type": "code",
   "execution_count": null,
   "outputs": [],
   "source": [
    "from scipy.spatial.distance import pdist, squareform\n",
    "\n",
    "euclidean_distances = squareform(pdist(lab_points))\n",
    "\n",
    "convex_hull_score = lab_graph.score(euclidean_distances, list(hull.vertices))\n",
    "print(convex_hull_score)"
   ],
   "metadata": {
    "collapsed": false
   }
  },
  {
   "cell_type": "code",
   "execution_count": null,
   "outputs": [],
   "source": [
    "import plotly.graph_objects as go\n",
    "\n",
    "def generate_lab_3d_all_colors_hull(df, figure_title, output_filename, hull_df):\n",
    "    # Parse the L*a*b values from the string format\n",
    "    df[['L', 'a', 'b']] = df['L*a*b Value'].str.split(', ', expand=True).astype(float)\n",
    "\n",
    "    hull_df[['L', 'a', 'b']] = hull_df['L*a*b Value'].str.split(', ', expand=True).astype(float)\n",
    "    # Create the 3D scatter plot\n",
    "    fig = go.Figure(data=[go.Scatter3d(\n",
    "        x=df['a'],        # a* axis (green-red)\n",
    "        y=df['L'],        # L* axis (lightness)\n",
    "        z=df['b'],        # b* axis (blue-yellow)\n",
    "        mode='markers+text',\n",
    "        #text=df['Color Name'],\n",
    "        hovertemplate=\n",
    "            '<b>%{text}</b><br>' +\n",
    "            'L*: %{y:.1f}<br>' +\n",
    "            'a*: %{x:.1f}<br>' +\n",
    "            'b*: %{z:.1f}<br>',\n",
    "        marker=dict(\n",
    "            size=7,\n",
    "            color=['#' + hex.strip() for hex in df['Hex']],  # Use actual hex colors\n",
    "            opacity=0.5\n",
    "        ),\n",
    "        textposition='top center',\n",
    "        textfont=dict(\n",
    "            size=8\n",
    "        )\n",
    "    )])\n",
    "\n",
    "    #See if this works\n",
    "    fig.add_scatter3d(\n",
    "        x=convex_df['a'],\n",
    "        y=convex_df['L'],\n",
    "        z=convex_df['b'],\n",
    "        mode='markers+text',\n",
    "        text=convex_df['Color Name'],\n",
    "        hovertemplate=\n",
    "            '<b>%{text}</b><br>' +\n",
    "            'L*: %{y:.1f}<br>' +\n",
    "            'a*: %{x:.1f}<br>' +\n",
    "            'b*: %{z:.1f}<br>',\n",
    "        marker=dict(\n",
    "            size=7,\n",
    "            color=['#' + hex.strip() for hex in convex_df['Hex']],  # Use actual hex colors\n",
    "            opacity=1.0\n",
    "        ),\n",
    "        textposition='top center',\n",
    "        textfont=dict(\n",
    "            size=8\n",
    "        )\n",
    "    )\n",
    "\n",
    "    # Update the layout\n",
    "    fig.update_layout(\n",
    "        template=\"plotly\",\n",
    "        title=figure_title,\n",
    "        scene=dict(\n",
    "            # TODO Adjust before publish\n",
    "            aspectratio=dict(x=1, y=1, z=1),\n",
    "            xaxis_title='a* (green to red)',\n",
    "            yaxis_title='L* (black to white)',\n",
    "            zaxis_title='b* (blue to yellow)',\n",
    "            # Set appropriate ranges for each axis\n",
    "            # Originally -128, 128\n",
    "            xaxis=dict(range=[-128, 128]),\n",
    "            # Originally [0, 100]\n",
    "            yaxis=dict(range=[0, 100]),\n",
    "            zaxis=dict(range=[-128, 128])\n",
    "        ),\n",
    "        #TODO Change for Export\n",
    "        width=351,\n",
    "        height=351,\n",
    "        showlegend=False,\n",
    "        margin=dict(l=1, r=1, t=1, b=1)\n",
    "    )\n",
    "\n",
    "    fig.add_trace(go.Mesh3d(\n",
    "        x=hull_df['a'],        # a* axis (green-red)\n",
    "        y=hull_df['L'],        # L* axis (lightness)\n",
    "        z=hull_df['b'],\n",
    "        hoverinfo='skip',\n",
    "        color=\"white\",\n",
    "        opacity=0.5,\n",
    "        alphahull=0\n",
    "    ))\n",
    "\n",
    "    # Add better camera angle\n",
    "    fig.update_layout(scene_camera=dict(\n",
    "        up=dict(x=0, y=1, z=0),\n",
    "        center=dict(x=0, y=0, z=0),\n",
    "        eye=dict(x=1.5, y=1.5, z=1.5)\n",
    "    ))\n",
    "\n",
    "    # Show the plot\n",
    "    #fig.show()\n",
    "\n",
    "    # Optionally save to HTML file\n",
    "    fig.write_html(output_filename + \".html\")\n",
    "\n",
    "generate_lab_3d_all_colors_hull(df, \"All colors\", \"part_2/plots/All_Points_Convex_Hull_350x350\", hull_df=convex_df)\n"
   ],
   "metadata": {
    "collapsed": false
   }
  },
  {
   "cell_type": "markdown",
   "source": [],
   "metadata": {
    "collapsed": false
   }
  },
  {
   "cell_type": "code",
   "execution_count": null,
   "outputs": [],
   "source": [
    "#Want to remove the 5 closest points\n",
    "\n",
    "selected = [lab_points[i] for i in hull.vertices]\n",
    "\n",
    "distances = squareform(pdist(selected))\n",
    "\n",
    "#The distances should be recomputed every time/exclude chosen distances but we will ignore for now\n",
    "avg_distance = []\n",
    "for item in distances:\n",
    "    mysum = item.sum()\n",
    "    avg_distance += [mysum/len(distances)]\n",
    "\n",
    "small = []\n",
    "\n",
    "for i in range(5):\n",
    "    smallest = min(avg_distance)\n",
    "    smallest_index = avg_distance.index(smallest)\n",
    "    small += [smallest_index]\n",
    "    avg_distance[smallest_index] = 200\n",
    "\n",
    "#small is the index we want to remove\n",
    "hull_indices = list(hull.vertices)\n",
    "\n",
    "for item in small:\n",
    "    hull_indices.pop(item)\n",
    "\n",
    "convex_hull_score_16 = lab_graph.score(euclidean_distances, hull_indices)\n",
    "\n",
    "print(convex_hull_score_16)\n"
   ],
   "metadata": {
    "collapsed": false
   }
  },
  {
   "cell_type": "code",
   "execution_count": null,
   "outputs": [],
   "source": [
    "convex_df_16 = df.iloc[hull_indices].copy()\n",
    "\n",
    "lab_graph.generate_lab_3d_all_colors(convex_df_16, \"Optimal 16 colors\", \"N/a\")"
   ],
   "metadata": {
    "collapsed": false
   }
  },
  {
   "cell_type": "markdown",
   "source": [
    "## Convex Hull Scores\n",
    "\n",
    "21 Colors: 82.8510 (Slightly outperforms the greedy search)\n",
    "\n",
    "16 Colors: 84.3717 (Also outperforms greedy search)"
   ],
   "metadata": {
    "collapsed": false
   }
  },
  {
   "cell_type": "markdown",
   "source": [
    "# K-Means Clustering"
   ],
   "metadata": {
    "collapsed": false
   }
  },
  {
   "cell_type": "code",
   "execution_count": null,
   "outputs": [],
   "source": [
    "from scipy.cluster.vq import kmeans\n",
    "\n",
    "centroids = kmeans(lab_points, 16)"
   ],
   "metadata": {
    "collapsed": false
   }
  },
  {
   "cell_type": "code",
   "execution_count": null,
   "outputs": [],
   "source": [
    "close_to_centroids = []\n",
    "\n",
    "from scipy.spatial import distance\n",
    "closest_indices = []\n",
    "for centroid in centroids[0]:\n",
    "\n",
    "    current_distances = []\n",
    "\n",
    "    #For each color in the space, compute the distance\n",
    "    for color in lab_points:\n",
    "        current_distances += [distance.euclidean(centroid, color)]\n",
    "\n",
    "    #The index of the minimum distance is the color we want\n",
    "    closest = min(current_distances)\n",
    "    closest_index = current_distances.index(closest)\n",
    "    closest_indices += [closest_index]\n",
    "\n",
    "len(closest_indices)"
   ],
   "metadata": {
    "collapsed": false
   }
  },
  {
   "cell_type": "code",
   "execution_count": null,
   "outputs": [],
   "source": [
    "centroid_df = df.iloc[closest_indices].copy()\n",
    "\n",
    "lab_graph.generate_lab_3d_all_colors(centroid_df, \"K-Means Points\", \"N/a\")"
   ],
   "metadata": {
    "collapsed": false
   }
  },
  {
   "cell_type": "code",
   "execution_count": null,
   "outputs": [],
   "source": [
    "\n",
    "# kmeans_selected = [lab_points[i] for i in closest_indices]\n",
    "# print(kmeans_selected)\n",
    "score = lab_graph.score(euclidean_distances, closest_indices)\n",
    "print(score)"
   ],
   "metadata": {
    "collapsed": false
   }
  },
  {
   "cell_type": "markdown",
   "source": [
    "## K means Scores\n",
    "\n",
    "Score for 24 Points: 62.5369\n",
    "Score for 16 Points: 56.8744"
   ],
   "metadata": {
    "collapsed": false
   }
  },
  {
   "cell_type": "code",
   "execution_count": null,
   "outputs": [],
   "source": [],
   "metadata": {
    "collapsed": false
   }
  }
 ],
 "metadata": {
  "kernelspec": {
   "display_name": "Python 3",
   "language": "python",
   "name": "python3"
  },
  "language_info": {
   "codemirror_mode": {
    "name": "ipython",
    "version": 2
   },
   "file_extension": ".py",
   "mimetype": "text/x-python",
   "name": "python",
   "nbconvert_exporter": "python",
   "pygments_lexer": "ipython2",
   "version": "2.7.6"
  }
 },
 "nbformat": 4,
 "nbformat_minor": 0
}
